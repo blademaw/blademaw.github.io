{
 "cells": [
  {
   "cell_type": "markdown",
   "metadata": {},
   "source": [
    "# Problem Representation in Python"
   ]
  },
  {
   "cell_type": "code",
   "execution_count": 1,
   "metadata": {},
   "outputs": [
    {
     "name": "stdout",
     "output_type": "stream",
     "text": [
      "Populating the interactive namespace from numpy and matplotlib\n"
     ]
    }
   ],
   "source": [
    "%pylab inline"
   ]
  },
  {
   "cell_type": "code",
   "execution_count": 3,
   "metadata": {},
   "outputs": [],
   "source": [
    "# other imports\n",
    "import itertools"
   ]
  },
  {
   "cell_type": "markdown",
   "metadata": {},
   "source": [
    "In this blog post, I want to take the opportunity to talk a little bit about **representing problems** — a process any CS student must first fully internalize before advancing to complex problem solving. To seasoned problem-solvers, the process of problem representation is so natural that us onlookers are quick to take the process for granted. In this blog post, I'd like to look at three case studies — two of which are puzzles from the gold mine _[The PuzzlOR](http://puzzlor.com/)_, and the third is the classic N-Queens problem."
   ]
  },
  {
   "cell_type": "markdown",
   "metadata": {},
   "source": [
    "## Enumeration and Exhaustion\n",
    "### Problem 1 — Toy Builder\n",
    "This easy problem imagines you as a [toy builder](http://puzzlor.com/2016-02_ToyBuilder.html) who can build three different toys — **airplanes, helicopters, or cars**. Each of these toys requires resources to make, namely **blue blocks, green rods,** or **red wheels**. Below is a table that summarizes the cost for each toy:\n",
    "\n",
    "$$ \\begin{array} {r|| r r r}\n",
    " \\textbf{Toy} & \\textbf{Blue Blocks} & \\textbf{Green Rods} & \\textbf{Red Wheels} \\\\\n",
    "  \\hline \\text{Airplane} & 3 & 2 & 1 \\\\ \n",
    "   \\text{Helicopter} & 2 & 4 & 1 \\\\\n",
    "    \\text{Car} & 1 & 2 & 4 \\\\\n",
    "     \\end{array} $$\n",
    "\n",
    "Once each toy is crafted, they can be sold (presumably on the luxury toy market) to net the following profits:\n",
    "\n",
    "$$ \\begin{array} {r|| r }\n",
    " \\textbf{Toy} & \\textbf{Profit}  \\\\\n",
    "  \\hline \\text{Airplane} & \\$7 \\\\ \n",
    "   \\text{Helicopter} & \\$8  \\\\\n",
    "    \\text{Car} & \\$5 \\\\\n",
    "     \\end{array} $$"
   ]
  },
  {
   "cell_type": "markdown",
   "metadata": {},
   "source": [
    "You begin with **25 blue blocks, 29 green rods,** and **30 red wheels**. The question is, of course,\n",
    "> What is the maximum profit you can achieve?\n",
    "\n",
    "You do not have to exhaust your resources.\n",
    "\n",
    "As the search space for this problem is quite restricted, one approach is to just enumerate over all possibilities, i.e., brute force. This cut-and-dried approach is (potentially very) expensive, but is less costly on us humans to implement in favor of something like a convoluted backtracking algorithm.\n",
    "\n",
    "When implementing brute-force (for an optimization problem), there are generally three steps: \n",
    "\n",
    "> 1. **defining** the representation of a candidate solution, \n",
    "> 2. **generating** all candidate solutions, and \n",
    "> 3. **finding** the candidate that solves our problem  by mini/maximizing some cost function.\n",
    "\n",
    "In this case, we want to find a combination of toys that _maximizes_ the profit generated."
   ]
  },
  {
   "cell_type": "markdown",
   "metadata": {},
   "source": [
    "#### Representation\n",
    "This problem is relatively easy to represent — we can define a $1\\times3$ vector to hold the number of airplanes, helicopters, and cars made, respectively. I.e.,\n",
    "$$ \\text{solution} \\leftarrow (airplanes, \\space helicopters, \\space cars) $$\n",
    "is our representation of a candidate solution. \n",
    "#### Generating possibilities\n",
    "First, we need to limit each toy produced in a given solution by the maximum number we can make of that toy. This will be given by the floor of the minimum amount of toys you can make with **any** of the resources available, or\n",
    "$$ \\left \\lfloor{\\min\\left(\\frac{c^{(i)}_b}{25}, \\frac{c_g^{(i)}}{29}, \\frac{c^{(i)}_r}{30} \\right)}\\right \\rfloor $$\n",
    "where $c^{(i)}_{b,g,r}$ is the cost in blue/green/red resources of toy $i$.\n",
    "\n",
    "We can query these results"
   ]
  },
  {
   "cell_type": "code",
   "execution_count": 4,
   "metadata": {},
   "outputs": [
    {
     "data": {
      "text/plain": [
       "[8.0, 7.0, 7.0]"
      ]
     },
     "execution_count": 4,
     "metadata": {},
     "output_type": "execute_result"
    }
   ],
   "source": [
    "starting_res = np.array([25, 29, 30])\n",
    "toy_costs = np.array([[3, 2, 1], [2, 4, 1], [1, 2, 4]])\n",
    "[np.floor(np.min(starting_res/toy_costs[i])) for i in range(3)]"
   ]
  },
  {
   "cell_type": "markdown",
   "metadata": {},
   "source": [
    "to discover we can create a **maximum** of $8$ airplanes, $7$ helicopters, and $7$ cars. To enumerate all possibilities, we can then use a nested `for` loop to create each vector solution with the maximum constraints in place. We can also cut down on the number of solutions to sift through in the future by axing solutions we know are wrong (if they use excess resources).\n",
    "\n",
    "We can write a simple function to ensure after spending all required resources, we didn't over-use any:"
   ]
  },
  {
   "cell_type": "code",
   "execution_count": 5,
   "metadata": {},
   "outputs": [],
   "source": [
    "def toy_valid(sol):\n",
    "    i, j, k = sol[0], sol[1], sol[2]\n",
    "    cur_resources = np.array([25, 29, 30]) # initial\n",
    "    cur_resources -= np.array([3, 2, 1])*i + \\\n",
    "                        np.array([2, 4, 1])*j + \\\n",
    "                        np.array([1, 2, 4])*k # using resources\n",
    "    if np.all(cur_resources >= 0):\n",
    "        return True # valid solution\n",
    "    return False"
   ]
  },
  {
   "cell_type": "markdown",
   "metadata": {},
   "source": [
    "#### Identifying the solution\n",
    "Now we can generate the solutions and accumulate the *'correct'* ones with the `for` loops:"
   ]
  },
  {
   "cell_type": "code",
   "execution_count": 6,
   "metadata": {},
   "outputs": [],
   "source": [
    "sols = []\n",
    "for i in range(9): # airplanes \n",
    "    for j in range(8): # helicopters\n",
    "        for z in range(8): # cars\n",
    "            toy_eval = toy_valid([i, j, z])\n",
    "            if toy_eval: # if valid solution\n",
    "                sols += [[i, j, z]]"
   ]
  },
  {
   "cell_type": "markdown",
   "metadata": {},
   "source": [
    "Let's check how many *'correct'* solutions there are:"
   ]
  },
  {
   "cell_type": "code",
   "execution_count": 7,
   "metadata": {},
   "outputs": [
    {
     "data": {
      "text/plain": [
       "246"
      ]
     },
     "execution_count": 7,
     "metadata": {},
     "output_type": "execute_result"
    }
   ],
   "source": [
    "len(sols)"
   ]
  },
  {
   "cell_type": "markdown",
   "metadata": {},
   "source": [
    "This is a _very small_ number of solutions, so we can more than feasibly solve the given problem by checking each solution. To do so, we'll define a cost function and then iterate over all our candidates, bearing in mind that we're *maximizing* cost:"
   ]
  },
  {
   "cell_type": "code",
   "execution_count": 10,
   "metadata": {},
   "outputs": [
    {
     "data": {
      "text/plain": [
       "(76, [5, 2, 5])"
      ]
     },
     "execution_count": 10,
     "metadata": {},
     "output_type": "execute_result"
    }
   ],
   "source": [
    "def toy_cost(sol):\n",
    "    return 7*sol[0] + 8*sol[1] + 5*sol[2]\n",
    "\n",
    "max_cost = 0\n",
    "cur_sol = None\n",
    "for sol in sols:\n",
    "    if toy_cost(sol) > max_cost:\n",
    "        max_cost = toy_cost(sol)\n",
    "        cur_sol = sol\n",
    "\n",
    "max_cost, list(cur_sol)"
   ]
  },
  {
   "cell_type": "markdown",
   "metadata": {},
   "source": [
    "Revealing our profit-maximizing toy distribution to be **5 airplanes, 2 helicopters**, and **5 cars**, generating **$76** of profit in total.\n",
    "\n",
    "Remember, this enumeration approach was only really used because we knew the number of solutions to check was low. If we increased the amount of starting resources, we'd increase the search space combinatorially (possibly leading to a *[combinatorial explosion](https://en.wikipedia.org/wiki/Combinatorial_explosion)*, which, like most kinds of explosions, aren't fun)."
   ]
  },
  {
   "cell_type": "markdown",
   "metadata": {},
   "source": [
    "### Problem 2 — Port in a Storm\n",
    "This is the [most recent puzzle](http://puzzlor.com/2017-02_PortInAStorm.html) from *PuzzlOR*, where it is your job to direct **20 boats** at sea to their nearest dock (with a total of **20 dock spaces**) in the midst of a storm.\n",
    "\n",
    "<figure class=\"styled\"><img class=\"styled\" src=\"/images/portinastorm_desc.png\" width=\"450\" height=\"315\" title=\"Twenty boats at sea to be assigned docks\" alt=\"Twenty boats at sea to be assigned docks\"><figcaption>Twenty boats at sea to be assigned docks <a href=\"https://puzzlor.com/2017-02_PortInAStorm.html\">(source)</a></figcaption></figure>\n",
    "\n",
    "There are three distinct clusters of boats (labelled above), and we can summarize them as follows:"
   ]
  },
  {
   "cell_type": "markdown",
   "metadata": {},
   "source": [
    "$$ \n",
    "\\begin{array} {r r r}\n",
    " \\quad\\quad\\quad\\quad & \\textbf{Distance} & \\quad\\quad\\\\\n",
    "\\end{array} \\\\\n",
    "\\begin{array} {r|| r r r |r}\n",
    " \\textbf{Cluster} & \\text{Dock 1} & \\text{Dock 2} & \\text{Dock 3} & \\textbf{Boats}\\\\\n",
    "  \\hline 1 & 1 & 3 & 2 & 8\\\\ \n",
    "   2 & 2 & 2 & 1 & 5\\\\\n",
    "    3 & 3 & 2 & 1 & 7\\\\\n",
    "\\end{array}\n",
    "$$\n",
    "\n",
    "And the dock spaces are:\n",
    "\n",
    "$$ \n",
    "\\begin{array} {r|| r r r}\n",
    " \\textbf{Dock} & \\textbf{Spaces Available} \\\\\n",
    "  \\hline 1 & 4   \\\\ \n",
    "   2 & 7 \\\\\n",
    "    3 & 9  \\\\\n",
    "\\end{array}\n",
    "$$\n",
    "\n",
    "Given the data, the question this time is:\n",
    "> What is the minimum total distance travelled by all boats?"
   ]
  },
  {
   "cell_type": "markdown",
   "metadata": {},
   "source": [
    "#### Representation\n",
    "With this puzzle, it is harder to see how we would go about abstracting a solution to a data structure. Several ideas are possible, some more efficient than others. Take for instance each boat represented by a list with relevant attributes:\n",
    "\n",
    "$$ \n",
    "\\text{boat}_i \\leftarrow \\left[ \\left(\\text{dist}_1, \\text{dist}_2, \\text{dist}_3 \\right), \\space \\text{current_dock} \\right] \n",
    "$$\n",
    "\n",
    "where $\\text{dist}_i$ is the distance of the boat to the $i$-th dock.\n",
    "\n",
    "This representation is clear and allows querying of the boat's *travelled distance,* or *cost* via $\\verb|boat|_i\\verb|[0][1]|$. However, we must consider that twenty boats in an array means $20\\cdot4=100$ total elements in memory, and it's easy to see that many boats are essentially the same array, with the `current_dock` being the only altered attribute.\n",
    "\n",
    "Okay, what about a different data structure? Since `current_dock` is the only variable attribute, can we encode that data without constantly altering it in some fashion? One possible representation is to transform `current_dock` a position in an array:\n",
    "\n",
    "$$ \\text{docks} \\leftarrow \\left[ \\left[ \\text{boats}\\right], \\space \\left[\\dots\\right],\\space \\left[\\dots\\right] \n",
    "    \\right] \n",
    "$$\n",
    "\n",
    "where $\\text{docks}[i]$ stores all boats docked at the $i$-th dock. In this representation, boats would change destinations via array swapping, which is possibly even more costly given the nature of array concatenation and slicing.\n",
    "\n",
    "As explicit as this representation is, it still suffers from the redundancy issues of the boat representation, and its practical implementation must constantly ensure $\\text{len}(\\text{docks}[i])\\le\\text{dock_spaces}_i$, which is at least three comparisons per iteration.\n",
    "\n",
    "Let's move on from this nested array approach. In a *single array,* can we somehow encode the assigned dock of a boat and identify its cluster at the same time? Unsurprisingly, the answer is yes — probably in many ways."
   ]
  },
  {
   "cell_type": "markdown",
   "metadata": {},
   "source": [
    "Let's move forward with a representation that makes use of the position in the array to signify dock number, and integers 1–3 to signify boat cluster. Here is a sample solution that assigns boats to each dock in sorted order:\n",
    "\n",
    "<figure class=\"styled\"><img class=\"styled\" src=\"/images/portinastorm_rep.png\" width=\"500\" height=\"78\" title=\"Problem representation for Problem 2\" alt=\"Problem representation for Problem 2\"></figure>\n",
    "\n",
    "Functionally, in this array there are three 'hidden' sets — dock one, two, and three. Within these sets, order does not matter (this will *drastically* cut down on the search space later), and while we do have repeated elements, we can use these to index cost-distance arrays when evaluating a solution."
   ]
  },
  {
   "cell_type": "markdown",
   "metadata": {},
   "source": [
    "#### Generating possibilities\n",
    "We can think of our representation as a result of *choosing* different individual boats from a pool of available boats, one dock at a time. We can define the algorithm for generating a given solution as\n",
    "\n",
    "> 1. Define a pool of available boats, $S$\n",
    "> 2. Choose $4$ boats from $S$, let this be the set $D_1$\n",
    "> 3. Choose $7$ boats from $\\{S-D_1\\}$, let this be the set $D_2$\n",
    "> 4. The remaining $9$ boats in dock three will be $D_3=\\{S-D_1-D_2\\}$\n",
    "\n",
    "Of course, the real algorithm must enumerate all choices of `(2)` and then `(3)`.\n",
    "\n",
    "In Python, we can define our pool and algorithm as such:"
   ]
  },
  {
   "cell_type": "code",
   "execution_count": 13,
   "metadata": {},
   "outputs": [],
   "source": [
    "boat_nums = [1, 1, 1, 1, 1, 1, 1, 1, 2, 2, 2, 2, 2, 3, 3, 3, 3, 3, 3, 3]\n",
    "\n",
    "sols = []\n",
    "for first_dock in list(itertools.combinations_with_replacement([1, 2, 3], 4)): \n",
    "    # for every first-dock configuration\n",
    "    current = list.copy(boat_nums)\n",
    "    for boat in first_dock: # remove from possible further boats\n",
    "        current.remove(boat)\n",
    "        \n",
    "    # for each dock 2 config\n",
    "    for second_dock in list(itertools.combinations(current, 7)):\n",
    "        all_left = list.copy(current)\n",
    "        for boat in second_dock: # find remaining boats to alight at third dock\n",
    "            all_left.remove(boat)\n",
    "        sols += [list(first_dock) + list(second_dock) + all_left] # append solution"
   ]
  },
  {
   "cell_type": "markdown",
   "metadata": {},
   "source": [
    "Let's check how many solutions we have in total:"
   ]
  },
  {
   "cell_type": "code",
   "execution_count": 14,
   "metadata": {},
   "outputs": [
    {
     "data": {
      "text/plain": [
       "171600"
      ]
     },
     "execution_count": 14,
     "metadata": {},
     "output_type": "execute_result"
    }
   ],
   "source": [
    "len(sols)"
   ]
  },
  {
   "cell_type": "markdown",
   "metadata": {},
   "source": [
    "Which is, again, not that many.\n",
    "\n",
    "#### Identifying the solution\n",
    "A cost function for the problem given our representation is easy — we simply iterate over each boat in each dock slice, applying the appropriate costs as distances:"
   ]
  },
  {
   "cell_type": "code",
   "execution_count": 15,
   "metadata": {},
   "outputs": [],
   "source": [
    "costs = [[1, 2, 3], [3, 2, 2], [2, 1, 1]]\n",
    "\n",
    "def distance_cost(s):\n",
    "    dist = 0\n",
    "    for boat in s[:4]: # first dock\n",
    "        dist += costs[0][boat-1]\n",
    "    for boat in s[4:11]: # second dock\n",
    "        dist += costs[1][boat-1]\n",
    "    for boat in s[11:]: # third dock\n",
    "        dist += costs[2][boat-1]\n",
    "    \n",
    "    return dist"
   ]
  },
  {
   "cell_type": "markdown",
   "metadata": {},
   "source": [
    "We can then iterate over all solutions and look for the minimum cost/distance travelled by a configuration of boats in docks:"
   ]
  },
  {
   "cell_type": "code",
   "execution_count": 16,
   "metadata": {},
   "outputs": [
    {
     "data": {
      "text/plain": [
       "(31, [1, 1, 1, 1, 1, 1, 1, 1, 2, 2, 2, 2, 2, 3, 3, 3, 3, 3, 3, 3])"
      ]
     },
     "execution_count": 16,
     "metadata": {},
     "output_type": "execute_result"
    }
   ],
   "source": [
    "min_dist = np.inf\n",
    "cur_sol = 0\n",
    "\n",
    "for sol in sols:\n",
    "    if distance_cost(sol) < min_dist:\n",
    "        cur_sol = sol\n",
    "        min_dist = distance_cost(sol)\n",
    "\n",
    "min_dist, cur_sol # solution"
   ]
  },
  {
   "cell_type": "markdown",
   "metadata": {},
   "source": [
    "And we find the minimum distance to be **31**, and it just so happened to be that the minimum distance yielding configuration was our default case!"
   ]
  },
  {
   "cell_type": "markdown",
   "metadata": {},
   "source": [
    "## Exhaustion of Enumeration\n",
    "Of course, we should note **the only reason we could feasibly solve the previous problems** with **brute-force** was because of the small number of solutions to verify, and the guarantee our parameters/arguments were fixed.\n",
    "\n",
    "But what happens when our problem is more general, or simply has too many possibilities to check?\n",
    "\n",
    "### Problem 3 — The N-Queens Problem\n"
   ]
  },
  {
   "cell_type": "code",
   "execution_count": null,
   "metadata": {},
   "outputs": [],
   "source": []
  }
 ],
 "metadata": {
  "kernelspec": {
   "display_name": "Python 3",
   "language": "python",
   "name": "python3"
  },
  "language_info": {
   "codemirror_mode": {
    "name": "ipython",
    "version": 3
   },
   "file_extension": ".py",
   "mimetype": "text/x-python",
   "name": "python",
   "nbconvert_exporter": "python",
   "pygments_lexer": "ipython3",
   "version": "3.8.5"
  }
 },
 "nbformat": 4,
 "nbformat_minor": 4
}

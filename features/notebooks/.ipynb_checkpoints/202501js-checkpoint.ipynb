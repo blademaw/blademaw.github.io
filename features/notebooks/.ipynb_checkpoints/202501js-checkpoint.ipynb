{
 "cells": [
  {
   "cell_type": "code",
   "execution_count": 1,
   "id": "87cfcec6-9319-4add-90a7-3e3d004a1c31",
   "metadata": {},
   "outputs": [],
   "source": [
    "import numpy as np\n",
    "from math import gcd\n",
    "\n",
    "import matplotlib.pyplot as plt\n",
    "import matplotlib_inline.backend_inline\n",
    "matplotlib_inline.backend_inline.set_matplotlib_formats('svg')"
   ]
  },
  {
   "cell_type": "markdown",
   "id": "4263038a-5400-44f3-af59-923e4c8ffd59",
   "metadata": {},
   "source": [
    "This is the classic [constraint satisfaction problem](https://en.wikipedia.org/wiki/Constraint_satisfaction_problem) of Sudoku with some additional rules—to break down the problem, we need to find a grid configuration such that:\n",
    "1. the grid uses nine unique digits $\\mathcal{D}$;\n",
    "2. the grid satisfies [normal Sudoku rules](https://en.wikipedia.org/wiki/Sudoku); and\n",
    "3. the nine-digit numbers formed by the rows of the grid $r_1, r_2, \\dots, r_9$ are such that $\\mathrm{gcd}(r_1,r_2,\\dots, r_9)=\\max\\left\\{\\mathrm{gcd}(r^{(1)}_1,r^{(1)}_2,\\dots,r^{(1)}_9), \\mathrm{gcd}(r^{(2)}_1,r^{(2)}_2,\\dots,r^{(2)}_9), \\dots\\right\\}$ where $r^{(j)}_i$ is the $i$-th row number of the $j$-th valid grid configuration that satisfies (1) and (2)."
   ]
  },
  {
   "cell_type": "markdown",
   "id": "c7f08c4e-956e-47aa-a538-44876b63017d",
   "metadata": {},
   "source": [
    "## Toward a solution\n",
    "\n",
    "You may have realized that due to the number of valid solutions for the given grid, brute-forcing all possible solutions is not feasible. Instead, we need to examine the properties of the puzzle (i.e., the nine-digit numbers and the greatest common divisor) to see if we can narrow the search space.\n",
    "\n",
    "### A useful property of the greatest common divisor\n",
    "\n",
    "Loosely defined, the greatest common divisor (GCD) of two or more integers is the largest (positive) integer value that divides the numbers with no remainder. For example, 10 and 15 have $\\mathrm{gcd}(10,15)=5$ since 5 is the largest integer that exactly divides both 10 and 15.\n",
    "\n",
    "If $a$ and $b$ have a GCD of $n$, then we can express $a$ and $b$ in terms of multiples of $n$, i.e., $a=n\\cdot p$ and $b=n\\cdot q$, where $p,q$ are both (positive) integers. If we add $a$ and $b$, then we have $a+b=n\\cdot p + n\\cdot q = n(p+q)$. Since $n$, $p$, and $q$ are all integers, this tells us that the GCD $n$ also exactly divides $a+b$. Situating this in the context of the puzzle, if $n$ is the GCD of the row numbers $r_1, r_2, \\dots$, then we also know $n$ must be a divisor of the sum of the row numbers $\\sum_i r_i$.\n",
    "\n",
    "Therefore, if we knew the possible sums of row numbers across valid Sudoku grids, we'd know the true GCD would be a divisor (factor) of one the sums, and we could use these factors to generate row number candidates to search for a solution faster.\n",
    "\n",
    "### Potential sums of row numbers\n",
    "\n",
    "Re-examining constraint (1), we know that the grid must use nine of the ten digits between 0–9. Since the grid already contains 0, 2, and 5, we know that we must choose one of 1, 3, 4, 6, 7, 8, or 9 to exclude. This leaves us with seven possible sets of nine unique digits $\\mathcal{D}$ to choose from.\n",
    "\n",
    "The key realization to make here is that due to the [Latin square property](https://en.wikipedia.org/wiki/Latin_square), simply _knowing_ which digits are used in the grid is enough to find the sum of the row numbers. Since we know every column must contain each digit in $\\mathcal{D}$ exactly once, the sum of each column is therefore the sum of the digits $\\sum_{d\\in \\mathcal{D}} d$.\n",
    "\n",
    "Depending on the column, we can multiply by a power of 10 to account for its units:\n",
    "\n",
    "$$\n",
    "\\sum_i r_i =10^0\\sum_{d\\in \\mathcal{D}} d + 10^1\\sum_{d\\in \\mathcal{D}} d + \\cdots + 10^8\\sum_{d\\in \\mathcal{D}} d\n",
    "$$\n",
    "\n",
    "or more simply, $\\sum_i r_i = 111,111,111 \\cdot \\sum_{d\\in \\mathcal{D}} d$.\n",
    "\n",
    "We can generate the possible sums for each excluded digit via some Python:"
   ]
  },
  {
   "cell_type": "code",
   "execution_count": 2,
   "id": "2f3a9981-b16c-478e-94f4-ed4b53086443",
   "metadata": {},
   "outputs": [
    {
     "name": "stdout",
     "output_type": "stream",
     "text": [
      "Exclude 1: 4888888884\n",
      "Exclude 3: 4666666662\n",
      "Exclude 4: 4555555551\n",
      "Exclude 6: 4333333329\n",
      "Exclude 7: 4222222218\n",
      "Exclude 8: 4111111107\n",
      "Exclude 9: 3999999996\n"
     ]
    }
   ],
   "source": [
    "sums = {\n",
    "    d: 111_111_111 *\n",
    "           np.sum([n for n in range(10) if n != d])\n",
    "    for d in [1, 3, 4, 6, 7, 8, 9]\n",
    "}\n",
    "for d, s in sums.items(): print(f\"Exclude {d}: {s}\")"
   ]
  },
  {
   "cell_type": "markdown",
   "id": "5e69722e-3d6a-4188-a499-6aead36e317e",
   "metadata": {},
   "source": [
    "We can factorize these potential sums to deduce that there are 186 GCD candidates to choose from:"
   ]
  },
  {
   "cell_type": "code",
   "execution_count": 3,
   "id": "57b16778-78d0-4fb0-b698-f42449206a77",
   "metadata": {},
   "outputs": [
    {
     "name": "stdout",
     "output_type": "stream",
     "text": [
      "186 factors are: [1, 2, 3, 4, 6, 7, 9, 11, 12, 13, 14, 18, 19, 21, 22, 27, 33, 36, 37, 38, 39, 41, 42, 44, 54, 57, 63, 66, 74, 81, 99, 108, 111, 114, 117, 123, 126, 132, 148, 162, 171, 189, 198, 222, 259, 324, 333, 342, 351, 369, 378, 396, 407, 444, 481, 518, 666, 703, 777, 814, 999, 1221, 1332, 1369, 1406, 1443, 1517, 1554, 1628, 1998, 2109, 2331, 2442, 2997, 3663, 3996, 4107, 4218, 4329, 4551, 4662, 4884, 5994, 6327, 6993, 7326, 11988, 12321, 12654, 12987, 13653, 13986, 14652, 333667, 667334, 1001001, 1334668, 2002002, 2335669, 3003003, 3670337, 4004004, 4337671, 4671338, 6006006, 6339673, 7007007, 7340674, 9009009, 11011011, 12012012, 12345679, 12679346, 13013013, 13680347, 14014014, 14681348, 18018018, 19019019, 21021021, 22022022, 24691358, 27027027, 33033033, 36036036, 37037037, 38038038, 39039039, 41041041, 42042042, 44044044, 49382716, 54054054, 57057057, 63063063, 66066066, 74074074, 86419753, 108108108, 111111111, 114114114, 117117117, 123123123, 126126126, 132132132, 135802469, 148148148, 160493827, 172839506, 222222222, 234567901, 259259259, 271604938, 333333333, 407407407, 444444444, 456790123, 469135802, 481481481, 506172839, 518518518, 543209876, 666666666, 703703703, 777777777, 814814814, 999999999, 1222222221, 1333333332, 1370370369, 1407407406, 1444444443, 1518518517, 1555555554, 1629629628, 1999999998, 2111111109, 2333333331, 2444444442, 3999999996, 4111111107, 4222222218, 4333333329, 4555555551, 4666666662, 4888888884]\n"
     ]
    }
   ],
   "source": [
    "def factors(x):\n",
    "    factors = set()\n",
    "    for i in range(1, int(np.sqrt(x)) + 1):\n",
    "        if x % i == 0:\n",
    "            factors.add(i)\n",
    "            factors.add(x // i)\n",
    "    return sorted(factors)\n",
    "\n",
    "all_factors = sorted(\n",
    "    set(\n",
    "        [ # comprehension to flatten nested list\n",
    "            factor for factors in\n",
    "                [factors(s) for s in sums.values()]\n",
    "            for factor in factors\n",
    "        ]\n",
    "    )\n",
    ")\n",
    "print(f\"{len(all_factors)} factors are: {all_factors}\")"
   ]
  },
  {
   "cell_type": "markdown",
   "id": "763eef7b-b10b-40f6-9071-017f31a5a3b9",
   "metadata": {},
   "source": [
    "And now we're ready to implement an algorithm to check for valid solutions given a GCD candidate. Since we want the *maximum* satisfying GCD, we'll feed the algorithm the _largest_ candidate first (i.e., reverse the above sorted list)."
   ]
  },
  {
   "cell_type": "markdown",
   "id": "097b46c9-e1a9-4442-9fbe-df6e2b62a16b",
   "metadata": {},
   "source": [
    "## Puzzle implementation\n",
    "\n",
    "I used Prolog to solve this month's puzzle since it has great support for solving constraint satisfaction problems—you can view the full file [here](https://github.com/blademaw/jane-street-puzzles). The main interface of the puzzle looks like so:\n",
    "\n",
    "```prolog\n",
    "% solve_puzzle/2 binds a grid G and GCD with a solution satisfying the puzzle\n",
    "solve_puzzle(G, GCD) :-\n",
    "  candidates(SortedCandidates),\n",
    "  solve_puzzle_aux(G, SortedCandidates, GCD).\n",
    "\n",
    "% auxiliary predicate for solve_puzzle--iteratively tries GCD candidates until\n",
    "% a valid solution is found\n",
    "solve_puzzle_aux(G, [Factor-Digit|T], GCD) :-\n",
    "  puzzle(G),\n",
    "  ( valid_sol(G, Digit, Factor) ->\n",
    "    GCD = Factor, !\n",
    "  ; solve_puzzle_aux(G, T, GCD)\n",
    "  ).\n",
    "```\n",
    "\n",
    "In the first predicate, we generate all candidate factors and call an auxiliary function to try to find a valid solution to the Sudoku grid given the `Factor` and excluded `Digit` (in `key-value` pair format). If we find a solution, we halt (return); otherwise, we try the next largest candidate (the `(X -> Y ; Z)` syntax in Prolog is if-then-else).\n",
    "\n",
    "Generating and sorting the candidates is relatively easy—we can reuse work from above to create seven `factors(ExcludedDigit, Factors)` predicates that list the factors for a given excluded digit:"
   ]
  },
  {
   "cell_type": "code",
   "execution_count": 4,
   "id": "7a3fb639-659e-4766-8185-8a005f8237e7",
   "metadata": {},
   "outputs": [
    {
     "name": "stdout",
     "output_type": "stream",
     "text": [
      "factors(1, [1, 2, 3, 4, 6, 9, 11, 12, 18, 22, 33, 36, 37, 44, 66, 74, 99, 111, 132, 148, 198, 222, 333, 396, 407, 444, 666, 814, 1221, 1332, 1628, 2442, 3663, 4884, 7326, 14652, 333667, 667334, 1001001, 1334668, 2002002, 3003003, 3670337, 4004004, 6006006, 7340674, 11011011, 12012012, 12345679, 14681348, 22022022, 24691358, 33033033, 37037037, 44044044, 49382716, 66066066, 74074074, 111111111, 132132132, 135802469, 148148148, 222222222, 271604938, 407407407, 444444444, 543209876, 814814814, 1222222221, 1629629628, 2444444442, 4888888884]).\n",
      "factors(3, [1, 2, 3, 6, 7, 9, 14, 18, 21, 27, 37, 42, 54, 63, 74, 111, 126, 189, 222, 259, 333, 378, 518, 666, 777, 999, 1554, 1998, 2331, 4662, 6993, 13986, 333667, 667334, 1001001, 2002002, 2335669, 3003003, 4671338, 6006006, 7007007, 9009009, 12345679, 14014014, 18018018, 21021021, 24691358, 37037037, 42042042, 63063063, 74074074, 86419753, 111111111, 126126126, 172839506, 222222222, 259259259, 333333333, 518518518, 666666666, 777777777, 1555555554, 2333333331, 4666666662]).\n",
      "factors(4, [1, 3, 9, 37, 41, 111, 123, 333, 369, 1517, 4551, 13653, 333667, 1001001, 3003003, 12345679, 13680347, 37037037, 41041041, 111111111, 123123123, 506172839, 1518518517, 4555555551]).\n",
      "factors(6, [1, 3, 9, 13, 27, 37, 39, 111, 117, 333, 351, 481, 999, 1443, 4329, 12987, 333667, 1001001, 3003003, 4337671, 9009009, 12345679, 13013013, 37037037, 39039039, 111111111, 117117117, 160493827, 333333333, 481481481, 1444444443, 4333333329]).\n",
      "factors(7, [1, 2, 3, 6, 9, 18, 19, 37, 38, 57, 74, 111, 114, 171, 222, 333, 342, 666, 703, 1406, 2109, 4218, 6327, 12654, 333667, 667334, 1001001, 2002002, 3003003, 6006006, 6339673, 12345679, 12679346, 19019019, 24691358, 37037037, 38038038, 57057057, 74074074, 111111111, 114114114, 222222222, 234567901, 469135802, 703703703, 1407407406, 2111111109, 4222222218]).\n",
      "factors(8, [1, 3, 9, 37, 111, 333, 1369, 4107, 12321, 333667, 1001001, 3003003, 12345679, 37037037, 111111111, 456790123, 1370370369, 4111111107]).\n",
      "factors(9, [1, 2, 3, 4, 6, 9, 12, 18, 27, 36, 37, 54, 74, 81, 108, 111, 148, 162, 222, 324, 333, 444, 666, 999, 1332, 1998, 2997, 3996, 5994, 11988, 333667, 667334, 1001001, 1334668, 2002002, 3003003, 4004004, 6006006, 9009009, 12012012, 12345679, 18018018, 24691358, 27027027, 36036036, 37037037, 49382716, 54054054, 74074074, 108108108, 111111111, 148148148, 222222222, 333333333, 444444444, 666666666, 999999999, 1333333332, 1999999998, 3999999996]).\n"
     ]
    }
   ],
   "source": [
    "for d, s in sums.items():\n",
    "    print(f\"factors({d}, {factors(s)}).\")"
   ]
  },
  {
   "cell_type": "markdown",
   "id": "c9fdf377-c8a3-4e7a-af9d-883bc8a4b73d",
   "metadata": {},
   "source": [
    "And incorporate this into a predicate to generate the candidates in order to attempt:\n",
    "\n",
    "```prolog\n",
    "% candidates/1 binds ordered Candidates in key-value format where the key is\n",
    "% the factor and the value is the deleted digit\n",
    "candidates(Candidates) :-\n",
    "  findall(\n",
    "    Factor-DelDigit,\n",
    "    (\n",
    "      factors(DelDigit, Factors),\n",
    "      member(Factor, Factors)\n",
    "    ),\n",
    "    AllCandidates\n",
    "  ),\n",
    "  keysort(AllCandidates, SortedCandidates), % this sorts candidates by factors\n",
    "  reverse(SortedCandidates, Candidates).    % ...and this reverses the order\n",
    "```\n",
    "\n",
    "Now we can define `valid_sol(Grid, DelDigit, GCD)`, which takes in a Sudoku grid to solve, an excluded digit, and GCD candidate to check if the cells in `Grid` can be filled satisfying the constraints of the puzzle. I used the [CLP(FD) library](https://www.swi-prolog.org/man/clpfd.html) and based my predicate on an existing [Sudoku example](https://www.swi-prolog.org/pldoc/man?section=clpfd-sudoku).\n",
    "\n",
    "First, we ensure the shape of the grid is 9x9:\n",
    "\n",
    "```prolog\n",
    "% predicate to solve puzzle given a grid, excluded digit, and a GCD\n",
    "valid_sol(Grid, DelDigit, GCD) :-\n",
    "  % valid sudoku shape\n",
    "  length(Grid, 9),\n",
    "  maplist(same_length(Grid), Grid),\n",
    "  append(Grid, AllCells),\n",
    "```\n",
    "\n",
    "Then, we need to ensure all but one of the digits 0–9 are used:\n",
    "\n",
    "```prolog\n",
    "    % puzzle uses digits 0-9 except one\n",
    "  AllCells ins 0..9,\n",
    "  member(DelDigit, [1,3,4,6,7,8,9]),\n",
    "  maplist(clpfd_ne(DelDigit), AllCells), % we'll define `clpfd_ne` later\n",
    "```\n",
    "\n",
    "Next, we state the last two constraints for Sudoku: Each row, column, and 3x3 box contain exactly one of the used digits:\n",
    "\n",
    "```prolog\n",
    "  % all rows & columns have distinct digits\n",
    "  maplist(all_distinct, Grid),\n",
    "  transpose(Grid, Cols), maplist(all_distinct, Cols),\n",
    "\n",
    "  % sudoku boxes\n",
    "  Grid = [As,Bs,Cs,Ds,Es,Fs,Gs,Hs,Is],\n",
    "  blocks(As, Bs, Cs),\n",
    "  blocks(Ds, Es, Fs),\n",
    "  blocks(Gs, Hs, Is),\n",
    "```\n",
    "\n",
    "Finally, we need to add the main puzzle constraint: The provided GCD must exactly divide each of row-wise numbers (since we'll use this predicate to test GCD candidates from largest to smallest, the first satisfying GCD candidate we find is our answer):\n",
    "\n",
    "```prolog\n",
    "  % puzzle constraint: GCD divides each row-wise number\n",
    "  maplist(list_to_integer, Grid, RowNumbers),\n",
    "  maplist(is_divisible(GCD), RowNumbers),\n",
    "  maplist(label, Grid).\n",
    "```\n",
    "\n",
    "That's it for the main predicate—now we need to define the rest of the helper predicates: The `blocks/3` predicate ensures that 3x3 boxes in the Sudoku grid contain all unique digits:\n",
    "\n",
    "```prolog\n",
    "% helper predicate for boxes\n",
    "blocks([], [], []).\n",
    "blocks([N1,N2,N3|Ns1], [N4,N5,N6|Ns2], [N7,N8,N9|Ns3]) :-\n",
    "  all_distinct([N1,N2,N3,N4,N5,N6,N7,N8,N9]),\n",
    "  blocks(Ns1, Ns2, Ns3).\n",
    "```\n",
    "\n",
    "Next, I define two predicates for convenience: `clpfd_ne/2` lets me `maplist` over the grid's cells to assert no cell is equal to our excluded digit, and `is_divisible/2` allows for a similar mapping when checking GCD divisibility.\n",
    "\n",
    "```prolog\n",
    "% custom CLPFD predicate for inequality\n",
    "clpfd_ne(A, B) :- A #\\= B.\n",
    "\n",
    "% flipped predicate for divisibility\n",
    "is_divisible(B, A) :- A mod B #= 0.\n",
    "```\n",
    "\n",
    "Finally, the `list_to_integer/2` predicate converts a row of cells to a nine-digit number:\n",
    "\n",
    "```prolog\n",
    "% predicate to convert list of digits to integer\n",
    "list_to_integer([], 0).\n",
    "list_to_integer([Digit|Rest], Number) :-\n",
    "  list_to_integer(Rest, RestNumber),\n",
    "  length(Rest, Len),\n",
    "  Power #= 10^Len,\n",
    "  Number #= Digit * Power + RestNumber.\n",
    "```\n",
    "\n",
    "And we can encode the puzzle grid as such:\n",
    "\n",
    "```prolog\n",
    "puzzle(Grid) :-\n",
    "  Grid = [\n",
    "    [_, _, _, _, _, _, _, 2, _],\n",
    "    [_, _, _, _, 2, _, _, _, 5], % note that this 2 is implicit in the grid\n",
    "    [_, 2, _, _, _, _, _, _, _],\n",
    "    [_, _, 0, _, _, _, _, _, _],\n",
    "    [_, _, _, _, _, _, _, _, _],\n",
    "    [_, _, _, 2, _, _, _, _, _],\n",
    "    [_, _, _, _, 0, _, _, _, _],\n",
    "    [_, _, _, _, _, 2, _, _, _],\n",
    "    [_, _, _, _, _, _, 5, _, _]\n",
    "  ].\n",
    "```"
   ]
  },
  {
   "cell_type": "markdown",
   "id": "d8413ecd-8afe-4419-a494-95f0fb7a206e",
   "metadata": {},
   "source": [
    "## Solving the grid\n",
    "\n",
    "We can run our `solve_puzzle/2` predicate to solve the puzzle:\n",
    "\n",
    "```prolog\n",
    "?- time(solve_puzzle(G, GCD)), maplist(portray_clause, G).\n",
    "% 93,516,469 inferences, 4.637 CPU in 4.835 seconds (96% CPU, 20169286 Lips)\n",
    "[3, 9, 5, 0, 6, 1, 7, 2, 8].\n",
    "[0, 6, 1, 7, 2, 8, 3, 9, 5].\n",
    "[7, 2, 8, 3, 9, 5, 0, 6, 1].\n",
    "[9, 5, 0, 6, 1, 7, 2, 8, 3].\n",
    "[2, 8, 3, 9, 5, 0, 6, 1, 7].\n",
    "[6, 1, 7, 2, 8, 3, 9, 5, 0].\n",
    "[8, 3, 9, 5, 0, 6, 1, 7, 2].\n",
    "[5, 0, 6, 1, 7, 2, 8, 3, 9].\n",
    "[1, 7, 2, 8, 3, 9, 5, 0, 6].\n",
    "G = [[3, 9, 5, 0, 6, 1, 7, 2|...], [0, 6, 1, 7, 2, 8, 3|...], [7, 2, 8, 3, 9, 5|...], [9, 5, 0, 6, 1|...], [2, 8, 3, 9|...], [6, 1, 7|...], [8, 3|...], [5|...], [...|...]],\n",
    "GCD = 12345679.\n",
    "```"
   ]
  },
  {
   "cell_type": "markdown",
   "id": "2fd7e1cf-cd28-407c-aa44-d6e9d1889707",
   "metadata": {},
   "source": [
    "Prolog yields a solution in under 5s with a GCD of 12,345,679 (the puzzle answer is the middle row number, or 283,950,617). If we look for the GCD in our list,"
   ]
  },
  {
   "cell_type": "code",
   "execution_count": 5,
   "id": "615f8c43-df4d-441e-937f-cfd9290cbb4a",
   "metadata": {},
   "outputs": [
    {
     "data": {
      "text/plain": [
       "74"
      ]
     },
     "execution_count": 5,
     "metadata": {},
     "output_type": "execute_result"
    }
   ],
   "source": [
    "all_factors[::-1].index(12345679)"
   ]
  },
  {
   "cell_type": "markdown",
   "id": "808fc097-bf49-4f6f-91b6-bd26821ffe8e",
   "metadata": {},
   "source": [
    "Prolog evidently tried 74 (larger) GCD candidates before identifying the correct one."
   ]
  },
  {
   "cell_type": "markdown",
   "id": "c60b555f-a9ce-47c3-9829-d80abd175c66",
   "metadata": {},
   "source": [
    "## Conclusion"
   ]
  },
  {
   "cell_type": "markdown",
   "id": "9e74e63f-4a57-41bf-9bec-7c5a3886b98d",
   "metadata": {},
   "source": [
    "I think there are two main takeaways from this puzzle: First, if a combinatorial problem is too difficult to brute-force, either you need a guiding heuristic (as in [Jun 2024](https://www.janestreet.com/puzzles/altered-states-2-index/)), or you need to deduce additional properties about the problem to narrow your search space (as in this puzzle and [May 2024](https://www.janestreet.com/puzzles/number-cross-4-index/)).\n",
    "\n",
    "Second, if you use a SAT solver engine like I did (Prolog, Z3, etc.), you can't rely on it to do _all_ of the work. Perhaps the most \"declarative\" solution to this problem would be to enumerate all GCD-grid pairs, sort the list according to GCDs (in non-ascending order), and take the head of the list. However, there is no lazy approach the inference engine can take to deduce the maximum GCD (head of the list) without enumerating all solutions—meaning you're back at the problem of brute force. Therefore, you need to do some \"gearing\" (in this case, trying largest candidates first) to reap the convenience of the SAT solver while ensuring the program terminates."
   ]
  }
 ],
 "metadata": {
  "kernelspec": {
   "display_name": "Python 3 (ipykernel)",
   "language": "python",
   "name": "python3"
  },
  "language_info": {
   "codemirror_mode": {
    "name": "ipython",
    "version": 3
   },
   "file_extension": ".py",
   "mimetype": "text/x-python",
   "name": "python",
   "nbconvert_exporter": "python",
   "pygments_lexer": "ipython3",
   "version": "3.11.1"
  }
 },
 "nbformat": 4,
 "nbformat_minor": 5
}

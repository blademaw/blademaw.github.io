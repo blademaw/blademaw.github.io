{
 "cells": [
  {
   "cell_type": "code",
   "execution_count": 2,
   "metadata": {
    "scrolled": false
   },
   "outputs": [
    {
     "name": "stdout",
     "output_type": "stream",
     "text": [
      "Populating the interactive namespace from numpy and matplotlib\n"
     ]
    }
   ],
   "source": [
    "%pylab inline\n",
    "import itertools"
   ]
  },
  {
   "cell_type": "markdown",
   "metadata": {},
   "source": [
    "## Problem 1 — http://puzzlor.com/2016-02_ToyBuilder.html — Toy Builder"
   ]
  },
  {
   "cell_type": "code",
   "execution_count": 283,
   "metadata": {},
   "outputs": [
    {
     "data": {
      "text/plain": [
       "[8.0, 7.0, 7.0]"
      ]
     },
     "execution_count": 283,
     "metadata": {},
     "output_type": "execute_result"
    }
   ],
   "source": [
    "starting_res = np.array([25, 29, 30])\n",
    "toy_costs = np.array([[3, 2, 1], [2, 4, 1], [1, 2, 4]])\n",
    "[np.floor(np.min(starting_res/toy_costs[i])) for i in range(3)]"
   ]
  },
  {
   "cell_type": "code",
   "execution_count": 354,
   "metadata": {},
   "outputs": [],
   "source": [
    "def toy_valid(sol):\n",
    "    i, j, k = sol[0], sol[1], sol[2]\n",
    "    cur_resources = np.array([25, 29, 30]) # initial\n",
    "    cur_resources -= np.array([3, 2, 1])*i + \\\n",
    "                        np.array([2, 4, 1])*j + \\\n",
    "                        np.array([1, 2, 4])*k # using resources\n",
    "    if np.all(cur_resources >= 0):\n",
    "        return True # valid solution\n",
    "    return False"
   ]
  },
  {
   "cell_type": "code",
   "execution_count": 355,
   "metadata": {},
   "outputs": [],
   "source": [
    "sols = []\n",
    "for i in range(9): # airplanes \n",
    "    for j in range(8): # helicopters\n",
    "        for z in range(8): # cars\n",
    "            toy_eval = toy_valid([i, j, z])\n",
    "            if toy_eval: # if valid solution\n",
    "                sols += [[i, j, z]]"
   ]
  },
  {
   "cell_type": "code",
   "execution_count": 356,
   "metadata": {},
   "outputs": [
    {
     "data": {
      "text/plain": [
       "246"
      ]
     },
     "execution_count": 356,
     "metadata": {},
     "output_type": "execute_result"
    }
   ],
   "source": [
    "len(sols)"
   ]
  },
  {
   "cell_type": "code",
   "execution_count": 357,
   "metadata": {},
   "outputs": [
    {
     "data": {
      "text/plain": [
       "(76, [5, 2, 5])"
      ]
     },
     "execution_count": 357,
     "metadata": {},
     "output_type": "execute_result"
    }
   ],
   "source": [
    "def toy_cost(sol):\n",
    "    return 7*sol[0] + 8*sol[1] + 5*sol[2]\n",
    "\n",
    "max_cost = 0\n",
    "cur_sol = None\n",
    "for sol in sols:\n",
    "    if toy_cost(sol) > max_cost:\n",
    "        max_cost = toy_cost(sol)\n",
    "        cur_sol = sol\n",
    "    elif toy_cost(sol) == max_cost:\n",
    "        sim_sols += [sol]\n",
    "\n",
    "max_cost, list(cur_sol)"
   ]
  },
  {
   "cell_type": "markdown",
   "metadata": {},
   "source": [
    "## Problem 2 — http://puzzlor.com/2017-02_PortInAStorm.html — Port in A Storm"
   ]
  },
  {
   "cell_type": "code",
   "execution_count": 48,
   "metadata": {},
   "outputs": [],
   "source": [
    "boat_nums = [1, 1, 1, 1, 1, 1, 1, 1, 2, 2, 2, 2, 2, 3, 3, 3, 3, 3, 3, 3]"
   ]
  },
  {
   "cell_type": "code",
   "execution_count": 62,
   "metadata": {
    "scrolled": true
   },
   "outputs": [],
   "source": [
    "sols = []\n",
    "for first_dock in list(itertools.combinations_with_replacement([1, 2, 3], 4)): # for every first-dock configuration\n",
    "    current = list.copy(boat_nums)\n",
    "    for boat in first_dock: # remove from possible further boats\n",
    "        current.remove(boat)\n",
    "        \n",
    "    # for each dock 2 config\n",
    "    for second_dock in list(itertools.combinations(current, 7)):\n",
    "        all_left = list.copy(current)\n",
    "        for boat in second_dock: # find remaining boats to alight at third dock\n",
    "            all_left.remove(boat)\n",
    "        sols += [list(first_dock) + list(second_dock) + all_left] # append solution"
   ]
  },
  {
   "cell_type": "code",
   "execution_count": 63,
   "metadata": {},
   "outputs": [
    {
     "data": {
      "text/plain": [
       "171600"
      ]
     },
     "execution_count": 63,
     "metadata": {},
     "output_type": "execute_result"
    }
   ],
   "source": [
    "len(sols)"
   ]
  },
  {
   "cell_type": "code",
   "execution_count": 66,
   "metadata": {},
   "outputs": [],
   "source": [
    "costs = [[1, 2, 3], [3, 2, 2], [2, 1, 1]]\n",
    "\n",
    "def distance_cost(s):\n",
    "    dist = 0\n",
    "    for boat in s[:4]: # first dock\n",
    "        dist += costs[0][boat-1]\n",
    "    for boat in s[4:11]: # second dock\n",
    "        dist += costs[1][boat-1]\n",
    "    for boat in s[11:]: # third dock\n",
    "        dist += costs[2][boat-1]\n",
    "    \n",
    "    return dist"
   ]
  },
  {
   "cell_type": "code",
   "execution_count": 68,
   "metadata": {},
   "outputs": [
    {
     "data": {
      "text/plain": [
       "(31, [1, 1, 1, 1, 1, 1, 1, 1, 2, 2, 2, 2, 2, 3, 3, 3, 3, 3, 3, 3])"
      ]
     },
     "execution_count": 68,
     "metadata": {},
     "output_type": "execute_result"
    }
   ],
   "source": [
    "min_dist = 999\n",
    "cur_sol = 0\n",
    "\n",
    "for sol in sols:\n",
    "    if distance_cost(sol) < min_dist:\n",
    "        cur_sol = sol\n",
    "        min_dist = distance_cost(sol)\n",
    "\n",
    "min_dist, cur_sol # solution"
   ]
  },
  {
   "cell_type": "markdown",
   "metadata": {},
   "source": [
    "## Problem 3 — N-Queens via Simulated Annealing"
   ]
  },
  {
   "cell_type": "code",
   "execution_count": 266,
   "metadata": {},
   "outputs": [],
   "source": [
    "def perturb(queens):\n",
    "    \"\"\"Function to perturb an arrangement of queens on a board. Randomly moves any queen to the left/right\n",
    "    \n",
    "    Input: representation of queens on a board\n",
    "    Output: perturbed representation.\"\"\"\n",
    "    q = np.copy(queens)    \n",
    "    i = np.random.choice(len(queens)) # getting random queen\n",
    "    u = rand()\n",
    "    \n",
    "    # equal prob. to decrease/increase\n",
    "    if u < .5:\n",
    "        # can't move right if at edge of board\n",
    "        if q[i] == len(queens)-1:\n",
    "            q[i] -= 1\n",
    "        else:\n",
    "            q[i] += 1\n",
    "    else:\n",
    "        # can't move left if at start of board\n",
    "        if q[i] == 0:\n",
    "            q[i] += 1\n",
    "        else:\n",
    "            q[i] -= 1\n",
    "            \n",
    "    return q"
   ]
  },
  {
   "cell_type": "code",
   "execution_count": 267,
   "metadata": {},
   "outputs": [],
   "source": [
    "def conflicts(queensIn):\n",
    "    \"\"\"Function to get number of conflicts (proportional) on the board with specified arrangement of queens.\n",
    "    \n",
    "    Input: representation of queens\n",
    "    Output: number of conflicts (proportional) in board\"\"\"\n",
    "    # turning into gameboard and finding amount of conflicts (repeats included - it just matters it's proportional)\n",
    "    queens = queensIn.astype(int)\n",
    "    n = len(queens)\n",
    "    board = np.zeros((n, n)) # create board\n",
    "    con = 0\n",
    "    \n",
    "    for i in range(n):\n",
    "        board[i, int(queens[i])] = 1\n",
    "    \n",
    "    # counting col conflicts\n",
    "    for i in queens:\n",
    "        con += np.count_nonzero([board[j, i] for j in range(n)]) - 1\n",
    "    \n",
    "    # counting left upper diagonals\n",
    "    for row in range(n):\n",
    "        col = queens[row]\n",
    "        for i, j in zip(range(row-1, -1, -1), range(col-1, -1, -1)):\n",
    "            if board[i, j] == 1:\n",
    "                con += 1\n",
    "    \n",
    "    # counting right upper diagonals\n",
    "    for row in range(n):\n",
    "        col = queens[row]\n",
    "        for i, j in zip(range(row-1, -1, -1), range(col+1, n, 1)):\n",
    "            if board[i, j] == 1:\n",
    "                con += 1\n",
    "    \n",
    "    # counting left lower diagonals\n",
    "    for row in range(n):\n",
    "        col = queens[row]\n",
    "        for i, j in zip(range(row+1, n, 1), range(col-1, -1, -1)):\n",
    "            if board[i, j] == 1:\n",
    "                con += 1\n",
    "                \n",
    "    # counting right lower diagonals\n",
    "    for row in range(n):\n",
    "        col = queens[row]\n",
    "        for i, j in zip(range(row+1, n, 1), range(col+1, n, 1)):\n",
    "            if board[i, j] == 1:\n",
    "                con += 1\n",
    "    \n",
    "    return con"
   ]
  },
  {
   "cell_type": "code",
   "execution_count": 271,
   "metadata": {},
   "outputs": [],
   "source": [
    "def SA_queens(queens, conflict_function, pertubations_per_annealing_sep, t0, cooling_factor):\n",
    "    \"\"\"Simulated annealing to find a solution to the N-queens problem.\n",
    "    \n",
    "    Inputs: board size, conflict function, number of perturbations per annealing step, initial temp,\n",
    "        cooling factor\n",
    "    Output: solution to N-queens problem arragement\"\"\"\n",
    "    \n",
    "    t = t0\n",
    "    current_solution = np.random.permutation(queens)\n",
    "    while t > 0.001:\n",
    "        for _ in range(pertubations_per_annealing_sep):\n",
    "            cur_val = conflict_function(current_solution)\n",
    "            \n",
    "            perturbation = perturb(current_solution)\n",
    "            per_val = conflict_function(perturbation)\n",
    "            \n",
    "            delta = per_val - cur_val\n",
    "            if per_val == 0:\n",
    "                current_solution = perturbation\n",
    "                t = -1\n",
    "                break\n",
    "            elif delta < 0 or np.random.rand() < np.exp(-delta/t):\n",
    "                current_solution = perturbation\n",
    "                cur_val = per_val\n",
    "        t = cooling_factor*t\n",
    "    return conflicts(current_solution), current_solution"
   ]
  },
  {
   "cell_type": "code",
   "execution_count": 272,
   "metadata": {},
   "outputs": [
    {
     "data": {
      "text/plain": [
       "(0, array([1, 3, 0, 2]))"
      ]
     },
     "execution_count": 272,
     "metadata": {},
     "output_type": "execute_result"
    }
   ],
   "source": [
    "SA_queens(4, conflicts, 100, 100, .95)"
   ]
  },
  {
   "cell_type": "code",
   "execution_count": 276,
   "metadata": {},
   "outputs": [
    {
     "name": "stdout",
     "output_type": "stream",
     "text": [
      "(0, array([6, 3, 1, 7, 5, 0, 2, 4]))\n",
      "[[0. 0. 0. 0. 0. 0. 1. 0.]\n",
      " [0. 0. 0. 1. 0. 0. 0. 0.]\n",
      " [0. 1. 0. 0. 0. 0. 0. 0.]\n",
      " [0. 0. 0. 0. 0. 0. 0. 1.]\n",
      " [0. 0. 0. 0. 0. 1. 0. 0.]\n",
      " [1. 0. 0. 0. 0. 0. 0. 0.]\n",
      " [0. 0. 1. 0. 0. 0. 0. 0.]\n",
      " [0. 0. 0. 0. 1. 0. 0. 0.]]\n"
     ]
    }
   ],
   "source": [
    "queens8 = SA_queens(8, conflicts, 500, 1000, .96)\n",
    "print(queens8)\n",
    "visual = np.zeros((8, 8))\n",
    "for i in range(8):\n",
    "    visual[i, queens8[1][i]] = 1\n",
    "print(visual)"
   ]
  },
  {
   "cell_type": "markdown",
   "metadata": {},
   "source": [
    "## Retired problems"
   ]
  },
  {
   "cell_type": "code",
   "execution_count": 73,
   "metadata": {},
   "outputs": [
    {
     "data": {
      "text/plain": [
       "155.0"
      ]
     },
     "execution_count": 73,
     "metadata": {},
     "output_type": "execute_result"
    }
   ],
   "source": [
    "sum([18, 48, 19, 59, 46, 72, 67, 57, 49, 80, 50, 69, 10, 48, 83])/5"
   ]
  },
  {
   "cell_type": "code",
   "execution_count": 162,
   "metadata": {},
   "outputs": [],
   "source": [
    "# cost function\n",
    "def cake_loss(sol):\n",
    "    loss = 0\n",
    "    for group in sol:\n",
    "        loss += abs(155-sum(group))\n",
    "    return loss"
   ]
  },
  {
   "cell_type": "code",
   "execution_count": 260,
   "metadata": {},
   "outputs": [],
   "source": [
    "# perturb function — transfer a piece of cake from someone to someone else\n",
    "def cake_perturb(sol):\n",
    "    pieces = list.copy(sol)\n",
    "    sampleable = []\n",
    "    p2_arr = list(range(5))\n",
    "    for i in range(5):\n",
    "        if len(pieces[i]) > 1:\n",
    "            sampleable += [i]\n",
    "        elif len(pieces[i]) == 0:\n",
    "            p2_arr.remove(i)\n",
    "    p1 = np.random.choice(sampleable)\n",
    "    p2_arr.remove(p1)\n",
    "    p2 = np.random.choice(p2_arr)\n",
    "    k = np.random.choice(len(pieces[p1]))\n",
    "    \n",
    "    piece = pieces[p1][k]\n",
    "    pieces[p1].remove(piece)\n",
    "    pieces[p2].append(piece)\n",
    "    return pieces"
   ]
  },
  {
   "cell_type": "code",
   "execution_count": 246,
   "metadata": {},
   "outputs": [],
   "source": [
    "def SA_cake(pertubations_per_annealing_sep, t0, cooling_factor):    \n",
    "    t = t0\n",
    "    current_solution = [[18, 48, 19], [59, 46, 72], [67, 57, 49], [80, 50, 69], [10, 48, 83]]\n",
    "    \n",
    "    while t > 0.001:\n",
    "        for _ in range(pertubations_per_annealing_sep):\n",
    "            cur_val = cake_loss(current_solution)\n",
    "            \n",
    "            perturbation = cake_perturb(current_solution)\n",
    "            per_val = cake_loss(perturbation)\n",
    "            \n",
    "            delta = per_val - cur_val\n",
    "            if per_val == 0:\n",
    "                current_solution = perturbation\n",
    "                t = -1\n",
    "                break\n",
    "            elif delta < 0 or np.random.rand() < np.exp(-delta/t):\n",
    "                current_solution = perturbation\n",
    "                cur_val = per_val\n",
    "                \n",
    "        t = cooling_factor*t\n",
    "    return cake_loss(current_solution), current_solution"
   ]
  },
  {
   "cell_type": "code",
   "execution_count": 265,
   "metadata": {},
   "outputs": [
    {
     "data": {
      "text/plain": [
       "(250, [[83, 48], [50, 72], [67, 19, 80], [46, 10, 57, 59, 49, 48], [69, 18]])"
      ]
     },
     "execution_count": 265,
     "metadata": {},
     "output_type": "execute_result"
    }
   ],
   "source": [
    "SA_cake(1000, 1000, .97)"
   ]
  },
  {
   "cell_type": "code",
   "execution_count": 173,
   "metadata": {},
   "outputs": [],
   "source": [
    "start = [[18, 48, 19], [59, 46, 72], [67, 57, 49], [80, 50, 69], [10, 48, 83]]"
   ]
  },
  {
   "cell_type": "code",
   "execution_count": 174,
   "metadata": {},
   "outputs": [
    {
     "data": {
      "text/plain": [
       "168"
      ]
     },
     "execution_count": 174,
     "metadata": {},
     "output_type": "execute_result"
    }
   ],
   "source": [
    "cake_loss(start)"
   ]
  },
  {
   "cell_type": "code",
   "execution_count": 171,
   "metadata": {},
   "outputs": [
    {
     "data": {
      "text/plain": [
       "[1, 2, 4]"
      ]
     },
     "execution_count": 171,
     "metadata": {},
     "output_type": "execute_result"
    }
   ],
   "source": [
    "x = [1, 2, 3, 4]\n",
    "x.remove(3)\n",
    "x"
   ]
  },
  {
   "cell_type": "code",
   "execution_count": 154,
   "metadata": {},
   "outputs": [
    {
     "data": {
      "text/plain": [
       "([], [4, 2])"
      ]
     },
     "execution_count": 154,
     "metadata": {},
     "output_type": "execute_result"
    }
   ],
   "source": [
    "x = [2]\n",
    "y = [4]\n",
    "val = x[0]\n",
    "x.remove(val)\n",
    "y.append(val)\n",
    "x, y"
   ]
  }
 ],
 "metadata": {
  "kernelspec": {
   "display_name": "Python 3",
   "language": "python",
   "name": "python3"
  },
  "language_info": {
   "codemirror_mode": {
    "name": "ipython",
    "version": 3
   },
   "file_extension": ".py",
   "mimetype": "text/x-python",
   "name": "python",
   "nbconvert_exporter": "python",
   "pygments_lexer": "ipython3",
   "version": "3.8.5"
  }
 },
 "nbformat": 4,
 "nbformat_minor": 4
}

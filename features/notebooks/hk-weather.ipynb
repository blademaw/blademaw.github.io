{
 "cells": [
  {
   "cell_type": "markdown",
   "metadata": {},
   "source": [
    "# Does Weather Affect my Productivity?"
   ]
  },
  {
   "cell_type": "code",
   "execution_count": 1,
   "metadata": {
    "scrolled": true
   },
   "outputs": [
    {
     "name": "stdout",
     "output_type": "stream",
     "text": [
      "Populating the interactive namespace from numpy and matplotlib\n"
     ]
    }
   ],
   "source": [
    "%pylab inline"
   ]
  },
  {
   "cell_type": "code",
   "execution_count": 2,
   "metadata": {},
   "outputs": [
    {
     "data": {
      "text/plain": [
       "DataTransformerRegistry.enable('json_dir')"
      ]
     },
     "execution_count": 2,
     "metadata": {},
     "output_type": "execute_result"
    }
   ],
   "source": [
    "import pandas as pd\n",
    "import altair as alt\n",
    "from altair.expr import datum\n",
    "from altair_saver import save\n",
    "import os\n",
    "from toolz.curried import pipe\n",
    "\n",
    "\n",
    "def json_dir(data, data_dir='altairdata'):\n",
    "    os.makedirs(data_dir, exist_ok=True)\n",
    "    return pipe(data, alt.to_json(filename=data_dir + '/{prefix}-{hash}.{extension}') )\n",
    "\n",
    "\n",
    "alt.data_transformers.register('json_dir', json_dir)\n",
    "alt.data_transformers.enable('json_dir', data_dir='mydata')"
   ]
  },
  {
   "cell_type": "markdown",
   "metadata": {},
   "source": [
    "# Obtaining HK Weather data\n",
    "From https://www.hko.gov.hk/en/cis/climat.htm"
   ]
  },
  {
   "cell_type": "code",
   "execution_count": 3,
   "metadata": {},
   "outputs": [],
   "source": [
    "mar = \"\"\"\n",
    "01\t1016.1\t22.4\t20.8\t19.6\t18.8\t89\t91\t0.4\t0.4\t060\t30.6\n",
    "02\t1012.7\t23.9\t21.5\t19.9\t19.2\t87\t84\tTrace\t5.0\t070\t23.3\n",
    "03\t1011.3\t23.5\t21.5\t20.0\t19.1\t87\t85\t6.3\t4.2\t010\t8.0\n",
    "04\t1013.7\t22.6\t20.9\t19.3\t17.7\t82\t83\t10.2\t3.2\t080\t26.1\n",
    "05\t1012.1\t26.7\t22.2\t17.7\t20.0\t88\t89\t30.3\t2.0\t070\t22.7\n",
    "06\t1013.2\t22.0\t20.5\t19.6\t19.2\t92\t91\t45.5\t0.0\t040\t24.5\n",
    "07\t1015.8\t20.5\t17.9\t15.5\t16.7\t93\t89\t29.6\t0.0\t040\t39.5\n",
    "08\t1016.0\t17.4\t16.5\t15.1\t15.2\t92\t95\t11.5\t0.0\t060\t46.0\n",
    "09\t1012.2\t18.7\t17.8\t17.0\t17.0\t95\t95\t14.5\t0.0\t050\t25.0\n",
    "10\t1013.6\t18.5\t17.7\t17.0\t15.6\t87\t86\t4.6\t0.0\t360\t17.3\n",
    "11\t1014.9\t22.6\t18.4\t15.5\t14.9\t81\t58\t7.6\t6.5\t360\t17.0\n",
    "12\t1016.4\t24.2\t20.1\t17.4\t15.9\t77\t15\t0.0\t10.7\t070\t21.0\n",
    "13\t1017.8\t22.9\t20.8\t19.1\t15.3\t71\t66\t0.0\t6.1\t050\t30.2\n",
    "14\t1018.3\t21.5\t20.4\t19.8\t17.4\t83\t95\t6.4\t0.0\t060\t32.4\n",
    "15\t1020.6\t20.0\t18.7\t17.3\t15.4\t81\t89\t0.4\t0.0\t010\t25.1\n",
    "16\t1020.0\t22.8\t20.2\t18.8\t13.2\t65\t85\t0.0\t7.1\t070\t35.0\n",
    "17\t1018.9\t22.7\t20.9\t19.7\t16.7\t77\t85\t0.0\t4.9\t070\t34.1\n",
    "18\t1016.8\t24.7\t21.7\t19.7\t18.5\t82\t70\t0.0\t5.1\t060\t20.1\n",
    "19\t1014.8\t27.4\t23.4\t20.7\t20.5\t84\t42\t0.0\t10.0\t100\t9.0\n",
    "20\t1013.0\t25.0\t23.5\t22.1\t21.3\t88\t86\t0.0\t1.8\t090\t14.3\n",
    "21\t1011.4\t27.2\t25.3\t23.4\t21.8\t81\t79\t0.0\t4.1\t160\t7.6\n",
    "22\t1012.0\t27.5\t25.8\t24.8\t22.9\t84\t84\tTrace\t0.9\t160\t13.8\n",
    "23\t1017.1\t25.0\t20.0\t17.4\t18.1\t89\t99\t3.3\t0.0\t060\t39.6\n",
    "24\t1018.0\t18.2\t17.5\t16.6\t15.5\t88\t100\t0.3\t0.0\t070\t44.9\n",
    "25\t1016.8\t23.3\t20.5\t17.9\t17.8\t85\t92\t1.0\t2.0\t060\t19.1\n",
    "26\t1018.5\t24.6\t21.9\t20.8\t19.2\t85\t86\t0.0\t3.2\t070\t26.4\n",
    "27\t1017.1\t25.3\t22.3\t20.3\t19.0\t82\t77\tTrace\t4.8\t060\t22.8\n",
    "28\t1012.6\t27.8\t24.4\t22.2\t21.4\t84\t57\t0.0\t6.6\t030\t7.4\n",
    "29\t1010.5\t26.5\t24.4\t23.1\t21.9\t86\t81\t6.9\t2.0\t230\t14.2\n",
    "30\t1013.3\t24.0\t23.1\t22.5\t20.6\t86\t81\tTrace\t0.6\t060\t20.0\n",
    "31\t1016.8\t22.9\t21.4\t20.2\t18.7\t85\t93\t7.7\t0.1\t070\t44.3\"\"\"\n",
    "\n",
    "apr = \"\"\"\n",
    "01\t1019.3\t21.6\t20.3\t19.7\t16.8\t81\t91\tTrace\t0.2\t070\t45.3\n",
    "02\t1018.2\t23.0\t20.7\t18.9\t16.3\t76\t89\tTrace\t3.6\t070\t35.4\n",
    "03\t1016.9\t25.7\t22.8\t20.7\t19.0\t80\t85\tTrace\t7.0\t060\t23.3\n",
    "04\t1016.7\t23.8\t21.7\t20.4\t18.6\t83\t86\tTrace\t1.6\t070\t29.2\n",
    "05\t1014.5\t27.4\t24.0\t20.9\t19.5\t76\t37\t0.0\t9.2\t010\t13.7\n",
    "06\t1013.0\t28.1\t25.1\t22.4\t21.0\t79\t27\t0.0\t10.3\t230\t13.1\n",
    "07\t1012.5\t28.0\t25.7\t23.7\t21.9\t80\t48\t0.0\t8.8\t230\t12.0\n",
    "08\t1011.6\t29.9\t26.7\t25.1\t23.0\t80\t80\t0.0\t6.4\t210\t13.8\n",
    "09\t1011.1\t28.9\t26.6\t25.5\t23.1\t81\t79\t0.0\t5.0\t180\t17.1\n",
    "10\t1010.9\t30.1\t27.1\t25.3\t23.2\t80\t79\t0.0\t6.6\t220\t16.7\n",
    "11\t1010.0\t29.9\t27.3\t25.3\t23.7\t81\t84\t0.7\t3.9\t180#\t15.0#\n",
    "12\t1013.3\t25.2\t22.3\t21.0\t20.3\t89\t91\t6.1\t0.0\t070\t43.0\n",
    "13\t1014.3\t22.3\t21.2\t20.3\t19.9\t92\t98\t3.8\t0.0\t070\t38.5\n",
    "14\t1013.8\t24.4\t22.7\t21.9\t20.9\t90\t92\t10.4\t0.6\t050\t25.7\n",
    "15\t1014.4\t23.1\t22.1\t20.9\t19.4\t85\t91\t1.1\t0.3\t070\t41.7\n",
    "16\t1012.6\t23.6\t21.2\t19.5\t19.6\t91\t87\t9.2\t0.6\t070\t24.2\n",
    "17\t1012.2\t26.1\t23.5\t21.5\t20.7\t85\t77\t0.0\t3.9\t050\t9.3\n",
    "18\t1010.0\t25.0\t24.0\t23.0\t22.1\t90\t91\t6.7\t0.0\t080\t18.2\n",
    "19\t1007.7\t28.6\t23.7\t21.3\t22.3\t93\t90\t75.8\t0.6\t040\t18.0\n",
    "20\t1007.2\t26.2\t23.3\t21.9\t22.5\t95\t93\t43.6\t0.0\t030\t14.3\n",
    "21\t1008.0\t30.1\t26.2\t23.2\t24.0\t88\t81\t0.3\t2.6\t030\t7.4\n",
    "22\t1009.3\t30.1\t27.5\t25.6\t24.5\t84\t72\t0.0\t6.3\t190\t10.0\n",
    "23\t1010.4\t31.0\t28.0\t26.0\t24.3\t81\t58\t0.0\t8.7\t220\t13.4\n",
    "24\t1009.9\t31.2\t28.0\t26.2\t23.7\t78\t57\t0.0\t9.6\t220\t16.9\n",
    "25\t1009.3\t31.1\t28.5\t26.4\t24.0\t77\t39\t0.0\t10.5\t230\t18.6\n",
    "26\t1010.4\t31.5\t28.4\t26.2\t24.7\t81\t58\t0.9\t7.6\t220\t13.4\n",
    "27\t1012.8\t26.4\t24.9\t22.3\t22.4\t86\t91\t16.6\t0.0\t080\t39.5\n",
    "28\t1013.2\t26.9\t24.3\t22.7\t22.4\t89\t85\t3.1\t2.1\t070\t31.0\n",
    "29\t1010.9\t29.2\t26.4\t24.7\t23.8\t86\t71\t0.0\t5.8\t070\t12.7\n",
    "30\t1008.0\t28.8\t26.7\t25.3\t23.3\t82\t83\t7.5\t1.3\t180\t17.3\"\"\"\n",
    "\n",
    "may = \"\"\"\n",
    "01\t1009.1\t27.1\t25.4\t23.8\t21.1\t78\t85\t0.2\t3.0\t020\t17.8\n",
    "02\t1012.1\t24.4\t23.0\t21.7\t19.2\t80\t89\t0.5\t0.2\t060\t36.5\n",
    "03\t1014.5\t24.0\t21.8\t19.3\t18.2\t81\t91\t5.3\t1.7\t060\t36.7\n",
    "04\t1013.2\t23.6\t22.6\t21.0\t18.1\t76\t88\t8.4\t0.0\t070\t43.4\n",
    "05\t1009.4\t22.3\t21.7\t20.9\t20.6\t93\t94\t8.3\t0.0\t060\t39.9\n",
    "06\t1008.7\t22.8\t21.8\t20.0\t20.1\t90\t95\t11.3\t0.0\t060\t42.0\n",
    "07\t1010.2\t21.4\t20.5\t18.9\t18.3\t87\t95\t17.0\t0.0\t070\t49.6\n",
    "08\t1009.3\t21.2\t20.4\t19.8\t18.3\t88\t93\t25.1\t0.0\t060\t42.1\n",
    "09\t1008.1\t26.3\t22.7\t20.2\t21.1\t90\t92\t10.0\t1.0\t040\t20.3\n",
    "10\t1010.0\t26.7\t23.9\t22.7\t21.6\t87\t63\t0.0\t3.4\t080\t13.0\n",
    "11\t1011.5\t28.9\t25.3\t22.8\t20.8\t76\t14\t0.0\t11.3\t070\t15.4\n",
    "12\t1011.2\t28.9\t25.5\t23.5\t21.7\t80\t57\t0.0\t9.7\t050\t22.1\n",
    "13\t1010.5\t26.3\t25.1\t23.9\t23.1\t89\t92\tTrace\t0.5\t040\t19.4\n",
    "14\t1009.2\t31.1\t27.5\t25.2\t24.4\t84\t64\t0.0\t8.0\t030\t8.6\n",
    "15\t1009.1\t30.9\t28.5\t26.4\t25.6\t85\t85\tTrace\t1.8\t160\t8.9\n",
    "16\t1007.4\t31.5\t29.2\t27.8\t26.0\t83\t82\t0.8\t5.0\t230\t30.2\n",
    "17\t1005.5\t31.6\t29.6\t28.4\t25.9\t80\t82\t0.1\t3.9\t230\t28.9\n",
    "18\t1005.2\t32.3\t30.0\t28.5\t26.1\t80\t77\tTrace\t9.0\t230\t26.9\n",
    "19\t1006.9\t32.3\t30.2\t29.2\t26.3\t80\t79\t0.0\t7.2\t220\t25.3\n",
    "20\t1008.0\t32.0\t29.1\t25.0\t25.9\t83\t85\t9.0\t2.7\t230\t14.5\n",
    "21\t1010.8\t26.5\t25.0\t22.6\t21.6\t82\t91\t3.3\t0.2\t070\t34.3\n",
    "22\t1010.1\t28.3\t25.3\t22.6\t22.1\t83\t77\t0.7\t8.6\t070\t17.3\n",
    "23\t1010.2\t26.8\t25.9\t24.7\t24.1\t90\t89\t6.5\t0.1\t080\t26.2\n",
    "24\t1011.0\t25.8\t24.8\t23.8\t23.4\t92\t97\t21.5\t0.1\t080\t37.5\n",
    "25\t1008.8\t28.9\t26.7\t25.1\t24.9\t90\t89\t2.4\t1.2\t070\t24.7\n",
    "26\t1007.8\t28.1\t26.5\t24.7\t25.0\t92\t83\t15.1\t2.5\t120\t12.6\n",
    "27\t1008.1\t28.0\t26.5\t25.4\t25.2\t93\t87\t27.8\t0.0\t140\t10.5\n",
    "28\t1008.7\t27.7\t25.9\t23.9\t24.6\t92\t87\t43.9\t0.9\t030\t10.6\n",
    "29\t1009.9\t25.7\t24.7\t23.4\t23.1\t91\t95\t3.2\t0.0\t070\t41.4\n",
    "30\t1010.1\t25.9\t24.4\t23.2\t22.5\t89\t97\t3.2\t1.0\t070\t37.3\n",
    "31\t1008.7\t26.7\t25.7\t25.0\t24.4\t93\t93\t11.0\t0.1\t070\t13.8\"\"\"\n",
    "\n",
    "jun = \"\"\"\n",
    "01\t1007.5\t30.6\t27.2\t24.9\t24.7\t87\t85\t32.6\t2.0\t220\t18.9\n",
    "02\t1007.2\t31.2\t27.2\t25.4\t24.6\t86\t81\t3.0\t4.5\t240\t20.3\n",
    "03\t1007.3\t30.2\t27.5\t25.3\t24.7\t85\t83\t34.1\t3.8\t220\t24.2\n",
    "04\t1008.6\t31.1\t28.0\t25.9\t25.9\t89\t84\t38.1\t3.4\t220\t17.0\n",
    "05\t1009.5\t32.6\t29.4\t27.4\t25.9\t82\t78\t0.0\t7.3\t190\t14.5\n",
    "06\t1010.4\t33.0\t30.2\t28.5\t25.9\t78\t76\tTrace\t7.8\t180\t17.8\n",
    "07\t1010.4\t33.2\t30.1\t28.6\t25.5\t77\t72\t0.0\t9.9\t210\t21.0\n",
    "08\t1008.5\t32.4\t30.1\t28.2\t25.4\t76\t76\t1.1\t9.6\t220\t24.7\n",
    "09\t1005.4\t32.3\t30.1\t28.4\t26.0\t79\t82\t4.1\t6.4\t220\t35.6\n",
    "10\t1003.5\t31.7\t29.5\t25.8\t25.7\t81\t86\t3.3\t2.3\t220\t29.5\n",
    "11\t1004.4\t29.4\t27.5\t24.6\t25.9\t91\t90\t111.6\t0.3\t220\t11.8\n",
    "12\t1005.3\t29.6\t27.5\t26.5\t25.8\t91\t89\t1.5\t1.4\t040\t17.3\n",
    "13\t1003.0\t30.7\t27.7\t25.5\t25.6\t88\t90\t55.8\t0.2\t030#\t13.8#\n",
    "14\t1002.4\t31.6\t28.4\t25.4\t23.5\t76\t58\t16.5\t10.7\t***\t***\n",
    "15\t1005.3\t31.4\t28.6\t26.4\t23.4\t74\t42\tTrace\t11.1\t***\t***\n",
    "16\t1006.5\t30.1\t27.9\t26.8\t24.1\t80\t77\t0.0\t9.0\t***\t***\n",
    "17\t1007.3\t28.7\t27.6\t26.8\t25.3\t88\t87\t4.7\t0.5\t***\t***\n",
    "18\t1008.1\t30.0\t28.6\t27.5\t26.4\t88\t82\t11.1\t2.4\t***\t***\n",
    "19\t1007.8\t31.7\t28.9\t26.5\t26.4\t87\t84\t14.0\t2.8\t***\t***\n",
    "20\t1006.9\t32.5\t30.1\t28.2\t26.1\t80\t66\t0.5\t9.2\t230#\t25.5#\n",
    "21\t1005.9\t32.8\t30.8\t29.5\t26.3\t77\t79\t0.7\t8.7\t220\t30.0\n",
    "22\t1004.7\t33.0\t30.7\t28.7\t26.4\t78\t81\t0.7\t8.9\t220\t31.6\n",
    "23\t1004.8\t32.2\t30.3\t29.1\t26.4\t80\t84\t3.2\t3.9\t230\t30.4\n",
    "24\t1006.2\t30.6\t29.1\t24.7\t26.2\t85\t88\t16.8\t0.2\t220\t27.5\n",
    "25\t1006.7\t29.7\t27.2\t24.8\t25.1\t89\t88\t35.4\t0.4\t070\t9.4\n",
    "26\t1004.0\t31.4\t28.6\t26.1\t26.0\t86\t78\t0.9\t3.7\t230\t12.9\n",
    "27\t1001.7\t32.5\t30.2\t28.3\t26.9\t83\t78\t3.5\t5.3\t230\t17.2\n",
    "28\t1001.7\t32.7\t30.5\t29.3\t27.1\t82\t77\t2.2\t5.3\t200\t19.7\n",
    "29\t1001.6\t33.3\t31.0\t29.5\t26.8\t79\t72\t0.6\t6.5\t190\t21.6\n",
    "30\t1001.6\t33.0\t29.5\t26.9\t26.7\t85\t74\t33.1\t6.4\t190\t11.7\"\"\""
   ]
  },
  {
   "cell_type": "markdown",
   "metadata": {},
   "source": [
    "<figure class=\"styled\"><img class=\"styled\" src=\"/images/lazy_summer.jpg\" width=\"350\" height=\"200\" title=\"A lazy summer morning, evening?\" alt=\"A lazy summer morning, evening?\"><figurecaption>Image from The New Yorker <a href=\"https://www.newyorker.com/tech/annals-of-technology/why-summer-makes-us-lazy\">(source)</a></figurecaption></figure>\n",
    "\n",
    "For most of us, the environment in which we work is an extremely impactful factor that contributes to our capacity for productivity. Lighting, odor, temperature, furniture — these are parameters of our environment **we can tune** to allow ourselves to work better.\n",
    "\n",
    "But we can't control _everything_, that would be cheating. Weather conditions are an external factor that may or may not affect productivity: [one study](https://www.apa.org/pubs/journals/features/apl-a0035559.pdf) suggests worse weather is correlated with higher productivity.\n",
    "\n",
    "This got me thinking — could I conduct a toy case-study on myself? Where would I get the data? Suddenly, I remembered in the months of study-leave leading up to my International Baccalaureate (IB) exams, I had tracked **my time spent studying and doing homework** using [Toggl](https://toggl.com/).\n",
    "\n",
    "<figure class=\"styled\"><img class=\"styled\" src=\"/images/toggl-time.png\" width=\"350\" height=\"260\" title=\"My hours logged leading up to the IB examinations\" alt=\"My hours logged leading up to the IB examinations\"></figure>\n",
    "\n",
    "So I had 135 hours' worth of data over March, April, and May 2019 that could be downloaded as a `.csv` — not bad. Also, at the time, I was **totally blind** to what I would do with the data, meaning I possibly ducked data collection biases by being naïve! I wagered it wouldn't be too hard to find the weather data, and the rest of this blog post is what ensued.\n",
    "\n",
    "## Part 1 — Weather data: collection\n",
    "At the time of my IB exams, I was in Hong Kong, so I navigated to the [Hong Kong Observatory](https://www.hko.gov.hk/en/index.html) to download the `csv` files, and was very quickly reality-checked when I realized the data I sought were nowhere to be found. Eventually I found a [subpage](https://www.hko.gov.hk/en/cis/climat.htm) that had daily extracts of records for my timeframe, but the problem was, the page looked like this:\n",
    "\n",
    "<figure class=\"styled\"><img class=\"styled\" src=\"/images/hko-daily.png\" width=\"600\" height=\"253\" title=\"A nice front-end presentation with no access to the back.\" alt=\"A nice front-end presentation with no access to the back.\"><figurecaption>A nice front-end presentation with no access to the back. <a href=\"https://www.hko.gov.hk/en/cis/dailyExtract.htm?y=2019&m=6\">(source)</a></figurecaption></figure>\n",
    "\n",
    "And there was no 'Download' button in sight. In defeat, I copy-pasted 2019's records for March, April, May, and June (although June was not in the Toggl data) into a Jupyter notebook and prepared for some wrangling. With each month imported as a string, by some miracle, the text was delimited with tabs:"
   ]
  },
  {
   "cell_type": "code",
   "execution_count": 4,
   "metadata": {
    "scrolled": false
   },
   "outputs": [
    {
     "name": "stdout",
     "output_type": "stream",
     "text": [
      "\n",
      "01\t1016.1\t22.4\t20.8\t19.6\t18.8\t89\t91\t0.4\t0.4\t060\t30.6\n",
      "02\t1012.7\t23.9\t21.5\t19.9\t19.2\t87\t84\tTrace\t5.0\t070\t23.3\n",
      "03\t1011.3\t23.5\t21.5\t20.0\t19.1\t87\t85\t6.3\t4.2\t010\t8.0\n",
      "04\t1013.7\t22.6\t20.9\t19.3\t17.7\t82\t83\t10.2\t3.2\t080\t26.1\n"
     ]
    }
   ],
   "source": [
    "for line in mar.split('\\n')[:5]: print(line)"
   ]
  },
  {
   "cell_type": "markdown",
   "metadata": {},
   "source": [
    "We ideally want this in a `pandas` data frame or in `.csv` format, so we can begin by stripping any newlines and replacing the delimiter."
   ]
  },
  {
   "cell_type": "code",
   "execution_count": 5,
   "metadata": {},
   "outputs": [],
   "source": [
    "(mar, apr, may, jun) = (mon.strip('\\n').replace('\\t', ',') for mon in (mar, apr, may, jun))"
   ]
  },
  {
   "cell_type": "markdown",
   "metadata": {},
   "source": [
    "Then, we can aggregate all months into one `yearly` string, and format the dates properly by joining `2019/0` with the month and date:\n"
   ]
  },
  {
   "cell_type": "code",
   "execution_count": 6,
   "metadata": {},
   "outputs": [],
   "source": [
    "yearly = \"\"\n",
    "for m, month_obj in enumerate((mar, apr, may, jun), start=3):\n",
    "    yearly += f'2019/0{m}/' + month_obj.replace('\\n', f'\\n2019/0{m}/') + '\\n'"
   ]
  },
  {
   "cell_type": "markdown",
   "metadata": {},
   "source": [
    "The data also have some special characters indicating partial records, but we'll just strip those too, and add our headers. This gives the following:"
   ]
  },
  {
   "cell_type": "code",
   "execution_count": 7,
   "metadata": {},
   "outputs": [],
   "source": [
    "yearly = yearly.rstrip('\\n').replace('Trace', '0.0').replace('#', '') # remove trailing \\n at end, markers\n",
    "yearly = \"date,mean_pressure,max_temp,mean_temp,min_temp,mean_dew,humid,cloud,rain,sunshine,wind_dir,wind_speed\\n\" + yearly"
   ]
  },
  {
   "cell_type": "code",
   "execution_count": 8,
   "metadata": {
    "scrolled": true
   },
   "outputs": [
    {
     "name": "stdout",
     "output_type": "stream",
     "text": [
      "date,mean_pressure,max_temp,mean_temp,min_temp,mean_dew,humid,cloud,rain,sunshine,wind_dir,wind_speed\n",
      "2019/03/01,1016.1,22.4,20.8,19.6,18.8,89,91,0.4,0.4,060,30.6\n",
      "2019/03/02,1012.7,23.9,21.5,19.9,19.2,87,84,0.0,5.0,070,23.3\n",
      "2019/03/03,1011.3,23.5,21.5,20.0,19.1,87,85,6.3,4.2,010,8.0\n",
      "2019/03/04,1013.7,22.6,20.9,19.3,17.7,82,83,10.2,3.2,080,26.1\n"
     ]
    }
   ],
   "source": [
    "for line in yearly.split('\\n')[:5]: print(line)"
   ]
  },
  {
   "cell_type": "markdown",
   "metadata": {},
   "source": [
    "Now we can write this to a file and load it with `pandas`."
   ]
  },
  {
   "cell_type": "code",
   "execution_count": 9,
   "metadata": {},
   "outputs": [
    {
     "name": "stdout",
     "output_type": "stream",
     "text": [
      "(122, 12)\n"
     ]
    }
   ],
   "source": [
    "with open(\"hk_weather.csv\", \"w\") as csv_file:\n",
    "    print(yearly, file=csv_file)\n",
    "hk_df = pd.read_csv('hk_weather.csv', header=0, index_col=False)\n",
    "print(hk_df.shape)"
   ]
  },
  {
   "cell_type": "markdown",
   "metadata": {},
   "source": [
    "Our last preprocessing job is to tell `pandas` our `date` column is of datetime format, and our job is done."
   ]
  },
  {
   "cell_type": "code",
   "execution_count": 6,
   "metadata": {},
   "outputs": [
    {
     "ename": "NameError",
     "evalue": "name 'hk_df' is not defined",
     "output_type": "error",
     "traceback": [
      "\u001b[0;31m---------------------------------------------------------------------------\u001b[0m",
      "\u001b[0;31mNameError\u001b[0m                                 Traceback (most recent call last)",
      "\u001b[0;32m<ipython-input-6-0de617a44efe>\u001b[0m in \u001b[0;36m<module>\u001b[0;34m\u001b[0m\n\u001b[0;32m----> 1\u001b[0;31m \u001b[0mhk_df\u001b[0m\u001b[0;34m[\u001b[0m\u001b[0;34m\"date\"\u001b[0m\u001b[0;34m]\u001b[0m \u001b[0;34m=\u001b[0m \u001b[0mpd\u001b[0m\u001b[0;34m.\u001b[0m\u001b[0mto_datetime\u001b[0m\u001b[0;34m(\u001b[0m\u001b[0mhk_df\u001b[0m\u001b[0;34m[\u001b[0m\u001b[0;34m\"date\"\u001b[0m\u001b[0;34m]\u001b[0m\u001b[0;34m)\u001b[0m\u001b[0;34m\u001b[0m\u001b[0;34m\u001b[0m\u001b[0m\n\u001b[0m\u001b[1;32m      2\u001b[0m \u001b[0mhk_df\u001b[0m\u001b[0;34m.\u001b[0m\u001b[0mhead\u001b[0m\u001b[0;34m(\u001b[0m\u001b[0;34m)\u001b[0m\u001b[0;34m\u001b[0m\u001b[0;34m\u001b[0m\u001b[0m\n",
      "\u001b[0;31mNameError\u001b[0m: name 'hk_df' is not defined"
     ]
    }
   ],
   "source": [
    "hk_df[\"date\"] = pd.to_datetime(hk_df[\"date\"])\n",
    "hk_df.head()"
   ]
  },
  {
   "cell_type": "markdown",
   "metadata": {},
   "source": [
    "Because I'm curious, let's check out how temperature and rain are distributed over the four months:\n"
   ]
  },
  {
   "cell_type": "code",
   "execution_count": 12,
   "metadata": {
    "scrolled": true
   },
   "outputs": [
    {
     "data": {
      "text/html": [
       "\n",
       "<div id=\"altair-viz-47c488766b814a73a5c57c8614a8c8c4\"></div>\n",
       "<script type=\"text/javascript\">\n",
       "  (function(spec, embedOpt){\n",
       "    let outputDiv = document.currentScript.previousElementSibling;\n",
       "    if (outputDiv.id !== \"altair-viz-47c488766b814a73a5c57c8614a8c8c4\") {\n",
       "      outputDiv = document.getElementById(\"altair-viz-47c488766b814a73a5c57c8614a8c8c4\");\n",
       "    }\n",
       "    const paths = {\n",
       "      \"vega\": \"https://cdn.jsdelivr.net/npm//vega@5?noext\",\n",
       "      \"vega-lib\": \"https://cdn.jsdelivr.net/npm//vega-lib?noext\",\n",
       "      \"vega-lite\": \"https://cdn.jsdelivr.net/npm//vega-lite@4.8.1?noext\",\n",
       "      \"vega-embed\": \"https://cdn.jsdelivr.net/npm//vega-embed@6?noext\",\n",
       "    };\n",
       "\n",
       "    function loadScript(lib) {\n",
       "      return new Promise(function(resolve, reject) {\n",
       "        var s = document.createElement('script');\n",
       "        s.src = paths[lib];\n",
       "        s.async = true;\n",
       "        s.onload = () => resolve(paths[lib]);\n",
       "        s.onerror = () => reject(`Error loading script: ${paths[lib]}`);\n",
       "        document.getElementsByTagName(\"head\")[0].appendChild(s);\n",
       "      });\n",
       "    }\n",
       "\n",
       "    function showError(err) {\n",
       "      outputDiv.innerHTML = `<div class=\"error\" style=\"color:red;\">${err}</div>`;\n",
       "      throw err;\n",
       "    }\n",
       "\n",
       "    function displayChart(vegaEmbed) {\n",
       "      vegaEmbed(outputDiv, spec, embedOpt)\n",
       "        .catch(err => showError(`Javascript Error: ${err.message}<br>This usually means there's a typo in your chart specification. See the javascript console for the full traceback.`));\n",
       "    }\n",
       "\n",
       "    if(typeof define === \"function\" && define.amd) {\n",
       "      requirejs.config({paths});\n",
       "      require([\"vega-embed\"], displayChart, err => showError(`Error loading script: ${err.message}`));\n",
       "    } else if (typeof vegaEmbed === \"function\") {\n",
       "      displayChart(vegaEmbed);\n",
       "    } else {\n",
       "      loadScript(\"vega\")\n",
       "        .then(() => loadScript(\"vega-lite\"))\n",
       "        .then(() => loadScript(\"vega-embed\"))\n",
       "        .catch(showError)\n",
       "        .then(() => displayChart(vegaEmbed));\n",
       "    }\n",
       "  })({\"config\": {\"view\": {\"continuousWidth\": 400, \"continuousHeight\": 300}}, \"hconcat\": [{\"mark\": {\"type\": \"bar\", \"tooltip\": {\"content\": \"encoding\"}}, \"encoding\": {\"color\": {\"type\": \"ordinal\", \"field\": \"date\", \"legend\": {\"direction\": \"horizontal\", \"orient\": \"top\"}, \"timeUnit\": \"month\", \"title\": \"Month\"}, \"x\": {\"type\": \"quantitative\", \"bin\": true, \"field\": \"mean_temp\", \"title\": \"Average Temperature (C)\"}, \"y\": {\"type\": \"quantitative\", \"aggregate\": \"count\", \"title\": \"Number of days\"}}, \"height\": 200, \"width\": 250}, {\"mark\": {\"type\": \"bar\", \"tooltip\": {\"content\": \"encoding\"}}, \"encoding\": {\"color\": {\"type\": \"ordinal\", \"field\": \"date\", \"timeUnit\": \"month\"}, \"x\": {\"type\": \"quantitative\", \"bin\": {\"extent\": [0, 120], \"step\": 10}, \"field\": \"rain\", \"title\": \"Rainfall (mm)\"}, \"y\": {\"type\": \"quantitative\", \"aggregate\": \"count\", \"title\": null}}, \"height\": 200, \"width\": 250}], \"data\": {\"url\": \"mydata/altair-data-f96e6253e95232f9754f04bd1cd18379.json\", \"format\": {\"type\": \"json\"}}, \"$schema\": \"https://vega.github.io/schema/vega-lite/v4.8.1.json\"}, {\"mode\": \"vega-lite\"});\n",
       "</script>"
      ],
      "text/plain": [
       "alt.HConcatChart(...)"
      ]
     },
     "execution_count": 12,
     "metadata": {},
     "output_type": "execute_result"
    }
   ],
   "source": [
    "temps = alt.Chart(hk_df).mark_bar(tooltip=alt.TooltipContent('encoding')).encode(\n",
    "    alt.X(\"mean_temp:Q\", bin=True, title=\"Average Temperature (C)\"),\n",
    "    alt.Y(\"count()\", title=\"Number of days\"),\n",
    "    color=alt.Color(\"month(date):O\", title=\"Month\", legend=alt.Legend(direction=\"horizontal\", orient=\"top\"))\n",
    ").properties(width=250, height=200)\n",
    "\n",
    "rains = alt.Chart(hk_df).mark_bar(tooltip=alt.TooltipContent('encoding')).encode(\n",
    "    alt.X(\"rain:Q\", bin=alt.Bin(extent=[0,120], step=10), title=\"Rainfall (mm)\"),\n",
    "    alt.Y(\"count()\", title=None),\n",
    "    color=\"month(date):O\"\n",
    ").properties(width=250, height=200)\n",
    "\n",
    "temps | rains"
   ]
  },
  {
   "cell_type": "markdown",
   "metadata": {},
   "source": [
    "This is not just an excuse to show off the sheer power of Altair (the chart is interactive, too), but we can see that there are not that many rainy days in our dataset. Either way, we've essentially got half of the data processing done.\n",
    "\n",
    "## Part 2 — Toggl data: quantifying productivity\n",
    "I glossed over this in the introduction, but if we're going to approach the question \"Does weather impact my productivity?\" we're going to need to define 'productivity.' Before we tackle that, let's load the data from Toggl:"
   ]
  },
  {
   "cell_type": "code",
   "execution_count": 13,
   "metadata": {},
   "outputs": [],
   "source": [
    "toggl = pd.read_csv('time_entries.csv', header=0)\n",
    "toggl['Email'] = '-'\n",
    "toggl.head()"
   ]
  },
  {
   "cell_type": "markdown",
   "metadata": {},
   "source": [
    "### Understanding the Toggl data\n",
    "In Toggl, each entry requires a 'description' and a 'project' (originally designed for firms to track employee hours). Here, a 'description' in the data represents a specific task done, e.g. *Physics Notes*, and a 'project' represents what type of task that belongs to, e.g. *Study / Revision*. Toggl also records the date and time you started and ended the task, in addition to the duration.\n",
    "\n",
    "The data frame is obviously quite bloated (and includes my email!), so let's subset the columns:"
   ]
  },
  {
   "cell_type": "code",
   "execution_count": 15,
   "metadata": {},
   "outputs": [
    {
     "data": {
      "text/html": [
       "<div>\n",
       "<style scoped>\n",
       "    .dataframe tbody tr th:only-of-type {\n",
       "        vertical-align: middle;\n",
       "    }\n",
       "\n",
       "    .dataframe tbody tr th {\n",
       "        vertical-align: top;\n",
       "    }\n",
       "\n",
       "    .dataframe thead th {\n",
       "        text-align: right;\n",
       "    }\n",
       "</style>\n",
       "<table border=\"1\" class=\"dataframe\">\n",
       "  <thead>\n",
       "    <tr style=\"text-align: right;\">\n",
       "      <th></th>\n",
       "      <th>Project</th>\n",
       "      <th>Description</th>\n",
       "      <th>Start date</th>\n",
       "      <th>Start time</th>\n",
       "      <th>Duration</th>\n",
       "    </tr>\n",
       "  </thead>\n",
       "  <tbody>\n",
       "    <tr>\n",
       "      <th>0</th>\n",
       "      <td>Study / Revision</td>\n",
       "      <td>Physics Notes</td>\n",
       "      <td>2019-03-30</td>\n",
       "      <td>19:30:36</td>\n",
       "      <td>01:04:39</td>\n",
       "    </tr>\n",
       "    <tr>\n",
       "      <th>1</th>\n",
       "      <td>Study / Revision</td>\n",
       "      <td>Physics Notes</td>\n",
       "      <td>2019-03-30</td>\n",
       "      <td>20:47:40</td>\n",
       "      <td>00:31:30</td>\n",
       "    </tr>\n",
       "    <tr>\n",
       "      <th>2</th>\n",
       "      <td>Entertainment</td>\n",
       "      <td>Darkest Dungeon</td>\n",
       "      <td>2019-03-30</td>\n",
       "      <td>21:23:38</td>\n",
       "      <td>00:25:00</td>\n",
       "    </tr>\n",
       "    <tr>\n",
       "      <th>3</th>\n",
       "      <td>Entertainment</td>\n",
       "      <td>Darkest Dungeon</td>\n",
       "      <td>2019-03-30</td>\n",
       "      <td>21:48:47</td>\n",
       "      <td>00:24:55</td>\n",
       "    </tr>\n",
       "    <tr>\n",
       "      <th>4</th>\n",
       "      <td>Study / Revision</td>\n",
       "      <td>Physics Notes</td>\n",
       "      <td>2019-03-31</td>\n",
       "      <td>09:50:52</td>\n",
       "      <td>00:25:00</td>\n",
       "    </tr>\n",
       "  </tbody>\n",
       "</table>\n",
       "</div>"
      ],
      "text/plain": [
       "            Project      Description  Start date Start time  Duration\n",
       "0  Study / Revision    Physics Notes  2019-03-30   19:30:36  01:04:39\n",
       "1  Study / Revision    Physics Notes  2019-03-30   20:47:40  00:31:30\n",
       "2     Entertainment  Darkest Dungeon  2019-03-30   21:23:38  00:25:00\n",
       "3     Entertainment  Darkest Dungeon  2019-03-30   21:48:47  00:24:55\n",
       "4  Study / Revision    Physics Notes  2019-03-31   09:50:52  00:25:00"
      ]
     },
     "execution_count": 15,
     "metadata": {},
     "output_type": "execute_result"
    }
   ],
   "source": [
    "toggl = toggl.iloc[:, [3, 5, 7, 8, 11]]\n",
    "toggl.head()"
   ]
  },
  {
   "cell_type": "markdown",
   "metadata": {},
   "source": [
    "### Defining productivity\n",
    "So how can we **quantify productivity**? There would be many ways to do this, but my approach is simple: assume that productivity is directly proportional to the minutes of schoolwork logged (in some timeframe). This way, if I goofed off, I wouldn't have recorded any work, so `Minutes` would be 0. An extra benefit of totalling the *minutes worked* rather than the *amount of tasks done in a day* is that we don't interpret doing many small tasks as 'being more productive' than doing one large task (also, we lack sufficient data to count entries as units of productivity).\n",
    "\n",
    "It may be argued this approach is counterintuitive given **productivity** is largely thought of alongside **efficiency**, and this approach may actually penalize efficiency by rewarding longer tasks (even if the effort is low). However, since our sample is quite small, my intuition says we can't reliably derive a measure like *minutes worked per **complete** task*, so we'll stick to the prior approach. As an aside, this is an example of an assumption and design decision made in the data science process that may fundamentally alter the results of an analysis.\n",
    "\n",
    "With that out of the way, let's add a new row to our data frame called `Minutes` that is the total minutes worked for one entry. We can pass the string `Duration` to a function to convert the `HH:MM:SS` format to a numeric type:"
   ]
  },
  {
   "cell_type": "code",
   "execution_count": 16,
   "metadata": {},
   "outputs": [],
   "source": [
    "def str_to_dt(in_string):\n",
    "    timeq = [int(i) for i in in_string.split(\":\")]\n",
    "    return timeq[0]*60 + timeq[1] + timeq[2]/60"
   ]
  },
  {
   "cell_type": "code",
   "execution_count": 17,
   "metadata": {},
   "outputs": [],
   "source": [
    "toggl[\"Minutes\"] = toggl[\"Duration\"].map(str_to_dt)"
   ]
  },
  {
   "cell_type": "markdown",
   "metadata": {},
   "source": [
    "The `map()` function here is essentially taking every record of `Duration` and passing it to `str_to_dt()` to compute the minutes worked. Let's take this opportunity to also correct some types, and we'll add a new column called `Task_Start` to store both the date and time of starting a time entry."
   ]
  },
  {
   "cell_type": "code",
   "execution_count": 18,
   "metadata": {},
   "outputs": [],
   "source": [
    "toggl[\"Task_Start\"] = pd.to_datetime(toggl[\"Start date\"] + \" \" + toggl[\"Start time\"])\n",
    "toggl[\"Start date\"] = pd.to_datetime(toggl[\"Start date\"])\n",
    "toggl[\"Start time\"] = pd.to_datetime(toggl[\"Start time\"])"
   ]
  },
  {
   "cell_type": "code",
   "execution_count": 19,
   "metadata": {},
   "outputs": [
    {
     "data": {
      "text/html": [
       "<div>\n",
       "<style scoped>\n",
       "    .dataframe tbody tr th:only-of-type {\n",
       "        vertical-align: middle;\n",
       "    }\n",
       "\n",
       "    .dataframe tbody tr th {\n",
       "        vertical-align: top;\n",
       "    }\n",
       "\n",
       "    .dataframe thead th {\n",
       "        text-align: right;\n",
       "    }\n",
       "</style>\n",
       "<table border=\"1\" class=\"dataframe\">\n",
       "  <thead>\n",
       "    <tr style=\"text-align: right;\">\n",
       "      <th></th>\n",
       "      <th>Project</th>\n",
       "      <th>Description</th>\n",
       "      <th>Start date</th>\n",
       "      <th>Start time</th>\n",
       "      <th>Duration</th>\n",
       "      <th>Minutes</th>\n",
       "      <th>Task_Start</th>\n",
       "    </tr>\n",
       "  </thead>\n",
       "  <tbody>\n",
       "    <tr>\n",
       "      <th>0</th>\n",
       "      <td>Study / Revision</td>\n",
       "      <td>Physics Notes</td>\n",
       "      <td>2019-03-30</td>\n",
       "      <td>2021-09-28 19:30:36</td>\n",
       "      <td>01:04:39</td>\n",
       "      <td>64.650000</td>\n",
       "      <td>2019-03-30 19:30:36</td>\n",
       "    </tr>\n",
       "    <tr>\n",
       "      <th>1</th>\n",
       "      <td>Study / Revision</td>\n",
       "      <td>Physics Notes</td>\n",
       "      <td>2019-03-30</td>\n",
       "      <td>2021-09-28 20:47:40</td>\n",
       "      <td>00:31:30</td>\n",
       "      <td>31.500000</td>\n",
       "      <td>2019-03-30 20:47:40</td>\n",
       "    </tr>\n",
       "    <tr>\n",
       "      <th>2</th>\n",
       "      <td>Entertainment</td>\n",
       "      <td>Darkest Dungeon</td>\n",
       "      <td>2019-03-30</td>\n",
       "      <td>2021-09-28 21:23:38</td>\n",
       "      <td>00:25:00</td>\n",
       "      <td>25.000000</td>\n",
       "      <td>2019-03-30 21:23:38</td>\n",
       "    </tr>\n",
       "    <tr>\n",
       "      <th>3</th>\n",
       "      <td>Entertainment</td>\n",
       "      <td>Darkest Dungeon</td>\n",
       "      <td>2019-03-30</td>\n",
       "      <td>2021-09-28 21:48:47</td>\n",
       "      <td>00:24:55</td>\n",
       "      <td>24.916667</td>\n",
       "      <td>2019-03-30 21:48:47</td>\n",
       "    </tr>\n",
       "    <tr>\n",
       "      <th>4</th>\n",
       "      <td>Study / Revision</td>\n",
       "      <td>Physics Notes</td>\n",
       "      <td>2019-03-31</td>\n",
       "      <td>2021-09-28 09:50:52</td>\n",
       "      <td>00:25:00</td>\n",
       "      <td>25.000000</td>\n",
       "      <td>2019-03-31 09:50:52</td>\n",
       "    </tr>\n",
       "  </tbody>\n",
       "</table>\n",
       "</div>"
      ],
      "text/plain": [
       "            Project      Description Start date          Start time  Duration  \\\n",
       "0  Study / Revision    Physics Notes 2019-03-30 2021-09-28 19:30:36  01:04:39   \n",
       "1  Study / Revision    Physics Notes 2019-03-30 2021-09-28 20:47:40  00:31:30   \n",
       "2     Entertainment  Darkest Dungeon 2019-03-30 2021-09-28 21:23:38  00:25:00   \n",
       "3     Entertainment  Darkest Dungeon 2019-03-30 2021-09-28 21:48:47  00:24:55   \n",
       "4  Study / Revision    Physics Notes 2019-03-31 2021-09-28 09:50:52  00:25:00   \n",
       "\n",
       "     Minutes          Task_Start  \n",
       "0  64.650000 2019-03-30 19:30:36  \n",
       "1  31.500000 2019-03-30 20:47:40  \n",
       "2  25.000000 2019-03-30 21:23:38  \n",
       "3  24.916667 2019-03-30 21:48:47  \n",
       "4  25.000000 2019-03-31 09:50:52  "
      ]
     },
     "execution_count": 19,
     "metadata": {},
     "output_type": "execute_result"
    }
   ],
   "source": [
    "toggl.head()"
   ]
  },
  {
   "cell_type": "markdown",
   "metadata": {},
   "source": [
    "Now we're ready to visualize the data. The two plots effortlessly made with Altair display how minutes are distributed in each project, and when each task was done. Click on a colored bar in the top plot to explore a project, and hover over points on the lower chart to see individual tasks. You can also try clicking and dragging on the lower plot to highlight a timeframe to see the minutes distribution update."
   ]
  },
  {
   "cell_type": "code",
   "execution_count": 20,
   "metadata": {},
   "outputs": [
    {
     "data": {
      "text/html": [
       "\n",
       "<div id=\"altair-viz-e91be32df4ab48d1b7c216adc60f9687\"></div>\n",
       "<script type=\"text/javascript\">\n",
       "  (function(spec, embedOpt){\n",
       "    let outputDiv = document.currentScript.previousElementSibling;\n",
       "    if (outputDiv.id !== \"altair-viz-e91be32df4ab48d1b7c216adc60f9687\") {\n",
       "      outputDiv = document.getElementById(\"altair-viz-e91be32df4ab48d1b7c216adc60f9687\");\n",
       "    }\n",
       "    const paths = {\n",
       "      \"vega\": \"https://cdn.jsdelivr.net/npm//vega@5?noext\",\n",
       "      \"vega-lib\": \"https://cdn.jsdelivr.net/npm//vega-lib?noext\",\n",
       "      \"vega-lite\": \"https://cdn.jsdelivr.net/npm//vega-lite@4.8.1?noext\",\n",
       "      \"vega-embed\": \"https://cdn.jsdelivr.net/npm//vega-embed@6?noext\",\n",
       "    };\n",
       "\n",
       "    function loadScript(lib) {\n",
       "      return new Promise(function(resolve, reject) {\n",
       "        var s = document.createElement('script');\n",
       "        s.src = paths[lib];\n",
       "        s.async = true;\n",
       "        s.onload = () => resolve(paths[lib]);\n",
       "        s.onerror = () => reject(`Error loading script: ${paths[lib]}`);\n",
       "        document.getElementsByTagName(\"head\")[0].appendChild(s);\n",
       "      });\n",
       "    }\n",
       "\n",
       "    function showError(err) {\n",
       "      outputDiv.innerHTML = `<div class=\"error\" style=\"color:red;\">${err}</div>`;\n",
       "      throw err;\n",
       "    }\n",
       "\n",
       "    function displayChart(vegaEmbed) {\n",
       "      vegaEmbed(outputDiv, spec, embedOpt)\n",
       "        .catch(err => showError(`Javascript Error: ${err.message}<br>This usually means there's a typo in your chart specification. See the javascript console for the full traceback.`));\n",
       "    }\n",
       "\n",
       "    if(typeof define === \"function\" && define.amd) {\n",
       "      requirejs.config({paths});\n",
       "      require([\"vega-embed\"], displayChart, err => showError(`Error loading script: ${err.message}`));\n",
       "    } else if (typeof vegaEmbed === \"function\") {\n",
       "      displayChart(vegaEmbed);\n",
       "    } else {\n",
       "      loadScript(\"vega\")\n",
       "        .then(() => loadScript(\"vega-lite\"))\n",
       "        .then(() => loadScript(\"vega-embed\"))\n",
       "        .catch(showError)\n",
       "        .then(() => displayChart(vegaEmbed));\n",
       "    }\n",
       "  })({\"config\": {\"view\": {\"continuousWidth\": 400, \"continuousHeight\": 300}}, \"vconcat\": [{\"mark\": {\"type\": \"bar\", \"tooltip\": {\"content\": \"encoding\"}}, \"encoding\": {\"color\": {\"type\": \"nominal\", \"field\": \"Project\"}, \"x\": {\"type\": \"quantitative\", \"bin\": {\"extent\": [0, 250], \"step\": 15}, \"field\": \"Minutes\", \"title\": \"Minutes spent doing entry\"}, \"y\": {\"type\": \"quantitative\", \"aggregate\": \"count\", \"title\": \"Number of entries\"}}, \"selection\": {\"selector002\": {\"type\": \"single\", \"fields\": [\"Project\"]}}, \"transform\": [{\"filter\": {\"selection\": \"selector001\"}}, {\"filter\": {\"selection\": \"selector002\"}}], \"width\": 400}, {\"mark\": {\"type\": \"point\", \"size\": 60}, \"encoding\": {\"color\": {\"condition\": {\"type\": \"nominal\", \"field\": \"Project\", \"selection\": \"selector002\"}, \"value\": \"lightgray\"}, \"opacity\": {\"value\": 0.65}, \"tooltip\": {\"type\": \"nominal\", \"field\": \"Description\"}, \"x\": {\"type\": \"temporal\", \"field\": \"Start date\", \"title\": \"Date\"}, \"y\": {\"type\": \"quantitative\", \"field\": \"Minutes\", \"title\": \"Minutes spent doing entry\"}}, \"selection\": {\"selector001\": {\"type\": \"interval\", \"encodings\": [\"x\"]}}, \"width\": 400}], \"data\": {\"url\": \"mydata/altair-data-0968b2103e401fcb6fad9bbcbae3bd53.json\", \"format\": {\"type\": \"json\"}}, \"$schema\": \"https://vega.github.io/schema/vega-lite/v4.8.1.json\"}, {\"mode\": \"vega-lite\"});\n",
       "</script>"
      ],
      "text/plain": [
       "alt.VConcatChart(...)"
      ]
     },
     "execution_count": 20,
     "metadata": {},
     "output_type": "execute_result"
    }
   ],
   "source": [
    "proj_select = alt.selection(type='interval', encodings=['x'])\n",
    "hist_select = alt.selection_single(fields=[\"Project\"])\n",
    "\n",
    "hist_alt = alt.Chart(toggl).mark_bar(tooltip=alt.TooltipContent('encoding')).encode(\n",
    "    alt.X(\"Minutes:Q\", bin=alt.Bin(extent=[0,250], step=15), title=\"Minutes spent doing entry\"),\n",
    "    alt.Y(\"count()\", title=\"Number of entries\"),\n",
    "    color=\"Project:N\"\n",
    ").properties(\n",
    "    width=400\n",
    ").add_selection(\n",
    "    hist_select\n",
    ").transform_filter(\n",
    "    proj_select\n",
    ").transform_filter(\n",
    "    hist_select\n",
    ")\n",
    "\n",
    "line_alt = alt.Chart(toggl).mark_point(size=60).encode(\n",
    "    alt.X(\"Start date:T\", title=\"Date\"),\n",
    "    alt.Y(\"Minutes:Q\", title=\"Minutes spent doing entry\"),\n",
    "    color=alt.condition(hist_select, 'Project:N', alt.value('lightgray')),\n",
    "    opacity=alt.value(0.65),\n",
    "    tooltip=alt.Tooltip('Description:N')\n",
    ").add_selection(\n",
    "    proj_select\n",
    ").properties(\n",
    "    width=400\n",
    ")\n",
    "\n",
    "hist_alt & line_alt"
   ]
  },
  {
   "cell_type": "markdown",
   "metadata": {},
   "source": [
    "Unsurprisingly, homework and revision dominate the entries. The 'Entertainment' category is also quick to fade as exams begin to creep up (beginning on May 6 in 2019). There are some hints my study habits were more sporadic towards the beginning of exams too, with entries becoming more densely distributed at shorter minute counts.\n",
    "\n",
    "We can also inquire into the day specifics. The two charts below implicitly answer the questions \"*Which day was I most productive throughout the week?*\" and \"*At what time did I record the most tasks?*\""
   ]
  },
  {
   "cell_type": "code",
   "execution_count": 21,
   "metadata": {},
   "outputs": [
    {
     "data": {
      "text/html": [
       "\n",
       "<div id=\"altair-viz-9e26ab47e87b463580410bb3bce5e5b0\"></div>\n",
       "<script type=\"text/javascript\">\n",
       "  (function(spec, embedOpt){\n",
       "    let outputDiv = document.currentScript.previousElementSibling;\n",
       "    if (outputDiv.id !== \"altair-viz-9e26ab47e87b463580410bb3bce5e5b0\") {\n",
       "      outputDiv = document.getElementById(\"altair-viz-9e26ab47e87b463580410bb3bce5e5b0\");\n",
       "    }\n",
       "    const paths = {\n",
       "      \"vega\": \"https://cdn.jsdelivr.net/npm//vega@5?noext\",\n",
       "      \"vega-lib\": \"https://cdn.jsdelivr.net/npm//vega-lib?noext\",\n",
       "      \"vega-lite\": \"https://cdn.jsdelivr.net/npm//vega-lite@4.8.1?noext\",\n",
       "      \"vega-embed\": \"https://cdn.jsdelivr.net/npm//vega-embed@6?noext\",\n",
       "    };\n",
       "\n",
       "    function loadScript(lib) {\n",
       "      return new Promise(function(resolve, reject) {\n",
       "        var s = document.createElement('script');\n",
       "        s.src = paths[lib];\n",
       "        s.async = true;\n",
       "        s.onload = () => resolve(paths[lib]);\n",
       "        s.onerror = () => reject(`Error loading script: ${paths[lib]}`);\n",
       "        document.getElementsByTagName(\"head\")[0].appendChild(s);\n",
       "      });\n",
       "    }\n",
       "\n",
       "    function showError(err) {\n",
       "      outputDiv.innerHTML = `<div class=\"error\" style=\"color:red;\">${err}</div>`;\n",
       "      throw err;\n",
       "    }\n",
       "\n",
       "    function displayChart(vegaEmbed) {\n",
       "      vegaEmbed(outputDiv, spec, embedOpt)\n",
       "        .catch(err => showError(`Javascript Error: ${err.message}<br>This usually means there's a typo in your chart specification. See the javascript console for the full traceback.`));\n",
       "    }\n",
       "\n",
       "    if(typeof define === \"function\" && define.amd) {\n",
       "      requirejs.config({paths});\n",
       "      require([\"vega-embed\"], displayChart, err => showError(`Error loading script: ${err.message}`));\n",
       "    } else if (typeof vegaEmbed === \"function\") {\n",
       "      displayChart(vegaEmbed);\n",
       "    } else {\n",
       "      loadScript(\"vega\")\n",
       "        .then(() => loadScript(\"vega-lite\"))\n",
       "        .then(() => loadScript(\"vega-embed\"))\n",
       "        .catch(showError)\n",
       "        .then(() => displayChart(vegaEmbed));\n",
       "    }\n",
       "  })({\"config\": {\"view\": {\"continuousWidth\": 400, \"continuousHeight\": 300}}, \"hconcat\": [{\"mark\": {\"type\": \"bar\", \"tooltip\": {\"content\": \"encoding\"}}, \"encoding\": {\"color\": {\"type\": \"nominal\", \"field\": \"Project\", \"legend\": {\"orient\": \"top\"}}, \"x\": {\"type\": \"temporal\", \"field\": \"Task_Start\", \"timeUnit\": \"day\", \"title\": \"Day of week\"}, \"y\": {\"type\": \"quantitative\", \"aggregate\": \"count\", \"title\": \"Number of entries\"}}, \"height\": 200, \"width\": 250}, {\"mark\": {\"type\": \"area\", \"tooltip\": {\"content\": \"encoding\"}}, \"encoding\": {\"color\": {\"type\": \"nominal\", \"field\": \"Project\"}, \"x\": {\"type\": \"temporal\", \"field\": \"Task_Start\", \"timeUnit\": \"hours\", \"title\": \"Time of day\"}, \"y\": {\"type\": \"quantitative\", \"aggregate\": \"count\", \"title\": null}}, \"height\": 200, \"width\": 250}], \"data\": {\"url\": \"mydata/altair-data-0968b2103e401fcb6fad9bbcbae3bd53.json\", \"format\": {\"type\": \"json\"}}, \"$schema\": \"https://vega.github.io/schema/vega-lite/v4.8.1.json\"}, {\"mode\": \"vega-lite\"});\n",
       "</script>"
      ],
      "text/plain": [
       "alt.HConcatChart(...)"
      ]
     },
     "execution_count": 21,
     "metadata": {},
     "output_type": "execute_result"
    }
   ],
   "source": [
    "w_chart = alt.Chart(toggl).mark_bar(tooltip=alt.TooltipContent('encoding')).encode(\n",
    "    alt.X(\"day(Task_Start):T\", title=\"Day of week\"),\n",
    "    alt.Y(\"count()\", title=\"Number of entries\"),\n",
    "    color=alt.Color(\"Project:N\", legend=alt.Legend(orient='top'))\n",
    ").properties(\n",
    "    width=250,\n",
    "    height=200\n",
    ")\n",
    "\n",
    "h_chart = alt.Chart(toggl).mark_area(tooltip=alt.TooltipContent('encoding')).encode(\n",
    "    alt.X(\"hours(Task_Start):T\", title=\"Time of day\"),\n",
    "    alt.Y(\"count()\", title=None),\n",
    "    color='Project:N'\n",
    ").properties(\n",
    "    width=250,\n",
    "    height=200\n",
    ")\n",
    "\n",
    "w_chart | h_chart"
   ]
  },
  {
   "cell_type": "markdown",
   "metadata": {},
   "source": [
    "These charts show entertainment and homework taking over during weekends, and revision stagnating throughout the week (remember, I was on study-leave for these months). \n",
    "\n",
    "## Part 3 — Answering the question(s)\n",
    "Let's move on to trying to answer the question at hand: \"Does weather affect my productivity?\"\n",
    "\n",
    "### Rain analysis\n",
    "First, I want to investigate whether *rain* makes me more prone to working hard. We're aiming for data with just productive entries, so let's drop all rows that aren't concerning 'Homework' or 'Study / Revision':"
   ]
  },
  {
   "cell_type": "markdown",
   "metadata": {},
   "source": [
    "Not enough data to ask the question \"Does rain make me more prone to entertainment?\", but rather we should ask \"Does rain make me log less hours of homework/study?\"\n",
    "\n",
    "Let's start by removing entries for non-school-related activities:"
   ]
  },
  {
   "cell_type": "code",
   "execution_count": 23,
   "metadata": {},
   "outputs": [],
   "source": [
    "toggl = toggl[(toggl[\"Project\"] == \"Study / Revision\") & (toggl[\"Project\"] != \"Homework\")].reset_index(drop=True)"
   ]
  },
  {
   "cell_type": "code",
   "execution_count": 24,
   "metadata": {},
   "outputs": [
    {
     "data": {
      "text/html": [
       "<div>\n",
       "<style scoped>\n",
       "    .dataframe tbody tr th:only-of-type {\n",
       "        vertical-align: middle;\n",
       "    }\n",
       "\n",
       "    .dataframe tbody tr th {\n",
       "        vertical-align: top;\n",
       "    }\n",
       "\n",
       "    .dataframe thead th {\n",
       "        text-align: right;\n",
       "    }\n",
       "</style>\n",
       "<table border=\"1\" class=\"dataframe\">\n",
       "  <thead>\n",
       "    <tr style=\"text-align: right;\">\n",
       "      <th></th>\n",
       "      <th>Project</th>\n",
       "      <th>Description</th>\n",
       "      <th>Start date</th>\n",
       "      <th>Start time</th>\n",
       "      <th>Duration</th>\n",
       "      <th>Minutes</th>\n",
       "      <th>Task_Start</th>\n",
       "    </tr>\n",
       "  </thead>\n",
       "  <tbody>\n",
       "    <tr>\n",
       "      <th>0</th>\n",
       "      <td>Study / Revision</td>\n",
       "      <td>Physics Notes</td>\n",
       "      <td>2019-03-30</td>\n",
       "      <td>2021-09-28 19:30:36</td>\n",
       "      <td>01:04:39</td>\n",
       "      <td>64.65</td>\n",
       "      <td>2019-03-30 19:30:36</td>\n",
       "    </tr>\n",
       "    <tr>\n",
       "      <th>1</th>\n",
       "      <td>Study / Revision</td>\n",
       "      <td>Physics Notes</td>\n",
       "      <td>2019-03-30</td>\n",
       "      <td>2021-09-28 20:47:40</td>\n",
       "      <td>00:31:30</td>\n",
       "      <td>31.50</td>\n",
       "      <td>2019-03-30 20:47:40</td>\n",
       "    </tr>\n",
       "    <tr>\n",
       "      <th>2</th>\n",
       "      <td>Study / Revision</td>\n",
       "      <td>Physics Notes</td>\n",
       "      <td>2019-03-31</td>\n",
       "      <td>2021-09-28 09:50:52</td>\n",
       "      <td>00:25:00</td>\n",
       "      <td>25.00</td>\n",
       "      <td>2019-03-31 09:50:52</td>\n",
       "    </tr>\n",
       "    <tr>\n",
       "      <th>3</th>\n",
       "      <td>Study / Revision</td>\n",
       "      <td>Physics Notes</td>\n",
       "      <td>2019-03-31</td>\n",
       "      <td>2021-09-28 10:26:23</td>\n",
       "      <td>00:25:00</td>\n",
       "      <td>25.00</td>\n",
       "      <td>2019-03-31 10:26:23</td>\n",
       "    </tr>\n",
       "    <tr>\n",
       "      <th>4</th>\n",
       "      <td>Study / Revision</td>\n",
       "      <td>Physics Notes</td>\n",
       "      <td>2019-03-31</td>\n",
       "      <td>2021-09-28 10:56:28</td>\n",
       "      <td>00:25:00</td>\n",
       "      <td>25.00</td>\n",
       "      <td>2019-03-31 10:56:28</td>\n",
       "    </tr>\n",
       "  </tbody>\n",
       "</table>\n",
       "</div>"
      ],
      "text/plain": [
       "            Project    Description Start date          Start time  Duration  \\\n",
       "0  Study / Revision  Physics Notes 2019-03-30 2021-09-28 19:30:36  01:04:39   \n",
       "1  Study / Revision  Physics Notes 2019-03-30 2021-09-28 20:47:40  00:31:30   \n",
       "2  Study / Revision  Physics Notes 2019-03-31 2021-09-28 09:50:52  00:25:00   \n",
       "3  Study / Revision  Physics Notes 2019-03-31 2021-09-28 10:26:23  00:25:00   \n",
       "4  Study / Revision  Physics Notes 2019-03-31 2021-09-28 10:56:28  00:25:00   \n",
       "\n",
       "   Minutes          Task_Start  \n",
       "0    64.65 2019-03-30 19:30:36  \n",
       "1    31.50 2019-03-30 20:47:40  \n",
       "2    25.00 2019-03-31 09:50:52  \n",
       "3    25.00 2019-03-31 10:26:23  \n",
       "4    25.00 2019-03-31 10:56:28  "
      ]
     },
     "execution_count": 24,
     "metadata": {},
     "output_type": "execute_result"
    }
   ],
   "source": [
    "toggl.head()"
   ]
  },
  {
   "cell_type": "markdown",
   "metadata": {},
   "source": [
    "Now let's take a look at our minutes data for 'productive' entries:\n"
   ]
  },
  {
   "cell_type": "code",
   "execution_count": 25,
   "metadata": {},
   "outputs": [
    {
     "data": {
      "text/plain": [
       "count    204.000000\n",
       "mean      39.876797\n",
       "std       26.987821\n",
       "min        0.050000\n",
       "25%       19.787500\n",
       "50%       31.900000\n",
       "75%       56.320833\n",
       "max      126.966667\n",
       "Name: Minutes, dtype: float64"
      ]
     },
     "execution_count": 25,
     "metadata": {},
     "output_type": "execute_result"
    }
   ],
   "source": [
    "toggl[\"Minutes\"].describe()"
   ]
  },
  {
   "cell_type": "markdown",
   "metadata": {},
   "source": [
    "As an aside, can we investigate which subject/task took me the longest to complete work for, on average:\n"
   ]
  },
  {
   "cell_type": "code",
   "execution_count": 26,
   "metadata": {},
   "outputs": [
    {
     "data": {
      "text/html": [
       "<div>\n",
       "<style scoped>\n",
       "    .dataframe tbody tr th:only-of-type {\n",
       "        vertical-align: middle;\n",
       "    }\n",
       "\n",
       "    .dataframe tbody tr th {\n",
       "        vertical-align: top;\n",
       "    }\n",
       "\n",
       "    .dataframe thead th {\n",
       "        text-align: right;\n",
       "    }\n",
       "</style>\n",
       "<table border=\"1\" class=\"dataframe\">\n",
       "  <thead>\n",
       "    <tr style=\"text-align: right;\">\n",
       "      <th></th>\n",
       "      <th>count</th>\n",
       "      <th>mean</th>\n",
       "      <th>std</th>\n",
       "      <th>min</th>\n",
       "      <th>25%</th>\n",
       "      <th>50%</th>\n",
       "      <th>75%</th>\n",
       "      <th>max</th>\n",
       "    </tr>\n",
       "    <tr>\n",
       "      <th>Description</th>\n",
       "      <th></th>\n",
       "      <th></th>\n",
       "      <th></th>\n",
       "      <th></th>\n",
       "      <th></th>\n",
       "      <th></th>\n",
       "      <th></th>\n",
       "      <th></th>\n",
       "    </tr>\n",
       "  </thead>\n",
       "  <tbody>\n",
       "    <tr>\n",
       "      <th>English Notes</th>\n",
       "      <td>5.0</td>\n",
       "      <td>61.806667</td>\n",
       "      <td>30.260271</td>\n",
       "      <td>29.450000</td>\n",
       "      <td>32.200000</td>\n",
       "      <td>65.133333</td>\n",
       "      <td>89.000000</td>\n",
       "      <td>93.250000</td>\n",
       "    </tr>\n",
       "    <tr>\n",
       "      <th>Planning Schedule</th>\n",
       "      <td>1.0</td>\n",
       "      <td>56.333333</td>\n",
       "      <td>NaN</td>\n",
       "      <td>56.333333</td>\n",
       "      <td>56.333333</td>\n",
       "      <td>56.333333</td>\n",
       "      <td>56.333333</td>\n",
       "      <td>56.333333</td>\n",
       "    </tr>\n",
       "    <tr>\n",
       "      <th>Mathematics Past Papers</th>\n",
       "      <td>34.0</td>\n",
       "      <td>53.134804</td>\n",
       "      <td>34.469471</td>\n",
       "      <td>5.550000</td>\n",
       "      <td>25.041667</td>\n",
       "      <td>41.800000</td>\n",
       "      <td>83.041667</td>\n",
       "      <td>126.966667</td>\n",
       "    </tr>\n",
       "    <tr>\n",
       "      <th>Computer Science Notes</th>\n",
       "      <td>21.0</td>\n",
       "      <td>39.665079</td>\n",
       "      <td>24.453009</td>\n",
       "      <td>11.150000</td>\n",
       "      <td>20.050000</td>\n",
       "      <td>36.950000</td>\n",
       "      <td>58.000000</td>\n",
       "      <td>105.750000</td>\n",
       "    </tr>\n",
       "    <tr>\n",
       "      <th>Physics Past Papers</th>\n",
       "      <td>23.0</td>\n",
       "      <td>38.766667</td>\n",
       "      <td>26.062142</td>\n",
       "      <td>5.516667</td>\n",
       "      <td>15.150000</td>\n",
       "      <td>44.400000</td>\n",
       "      <td>57.958333</td>\n",
       "      <td>80.200000</td>\n",
       "    </tr>\n",
       "    <tr>\n",
       "      <th>Spanish Notes</th>\n",
       "      <td>6.0</td>\n",
       "      <td>38.233333</td>\n",
       "      <td>22.977312</td>\n",
       "      <td>12.050000</td>\n",
       "      <td>18.445833</td>\n",
       "      <td>38.841667</td>\n",
       "      <td>56.212500</td>\n",
       "      <td>66.016667</td>\n",
       "    </tr>\n",
       "    <tr>\n",
       "      <th>Economics Past Papers</th>\n",
       "      <td>11.0</td>\n",
       "      <td>37.972727</td>\n",
       "      <td>27.203248</td>\n",
       "      <td>6.133333</td>\n",
       "      <td>18.358333</td>\n",
       "      <td>25.216667</td>\n",
       "      <td>52.025000</td>\n",
       "      <td>89.416667</td>\n",
       "    </tr>\n",
       "    <tr>\n",
       "      <th>Economics Notes</th>\n",
       "      <td>61.0</td>\n",
       "      <td>36.199727</td>\n",
       "      <td>25.419009</td>\n",
       "      <td>2.366667</td>\n",
       "      <td>18.416667</td>\n",
       "      <td>29.366667</td>\n",
       "      <td>44.366667</td>\n",
       "      <td>120.333333</td>\n",
       "    </tr>\n",
       "    <tr>\n",
       "      <th>Computer Science Past Papers</th>\n",
       "      <td>16.0</td>\n",
       "      <td>36.158333</td>\n",
       "      <td>23.603877</td>\n",
       "      <td>0.050000</td>\n",
       "      <td>25.670833</td>\n",
       "      <td>30.075000</td>\n",
       "      <td>44.720833</td>\n",
       "      <td>93.733333</td>\n",
       "    </tr>\n",
       "    <tr>\n",
       "      <th>Spanish Past Papers</th>\n",
       "      <td>9.0</td>\n",
       "      <td>32.940741</td>\n",
       "      <td>20.024442</td>\n",
       "      <td>0.433333</td>\n",
       "      <td>24.133333</td>\n",
       "      <td>30.333333</td>\n",
       "      <td>35.416667</td>\n",
       "      <td>72.516667</td>\n",
       "    </tr>\n",
       "    <tr>\n",
       "      <th>Physics Notes</th>\n",
       "      <td>14.0</td>\n",
       "      <td>30.442857</td>\n",
       "      <td>19.917956</td>\n",
       "      <td>0.216667</td>\n",
       "      <td>21.025000</td>\n",
       "      <td>25.000000</td>\n",
       "      <td>40.191667</td>\n",
       "      <td>64.650000</td>\n",
       "    </tr>\n",
       "    <tr>\n",
       "      <th>English Past Papers</th>\n",
       "      <td>1.0</td>\n",
       "      <td>28.266667</td>\n",
       "      <td>NaN</td>\n",
       "      <td>28.266667</td>\n",
       "      <td>28.266667</td>\n",
       "      <td>28.266667</td>\n",
       "      <td>28.266667</td>\n",
       "      <td>28.266667</td>\n",
       "    </tr>\n",
       "    <tr>\n",
       "      <th>Mathematics Notes</th>\n",
       "      <td>2.0</td>\n",
       "      <td>26.783333</td>\n",
       "      <td>24.701597</td>\n",
       "      <td>9.316667</td>\n",
       "      <td>18.050000</td>\n",
       "      <td>26.783333</td>\n",
       "      <td>35.516667</td>\n",
       "      <td>44.250000</td>\n",
       "    </tr>\n",
       "  </tbody>\n",
       "</table>\n",
       "</div>"
      ],
      "text/plain": [
       "                              count       mean        std        min  \\\n",
       "Description                                                            \n",
       "English Notes                   5.0  61.806667  30.260271  29.450000   \n",
       "Planning Schedule               1.0  56.333333        NaN  56.333333   \n",
       "Mathematics Past Papers        34.0  53.134804  34.469471   5.550000   \n",
       "Computer Science Notes         21.0  39.665079  24.453009  11.150000   \n",
       "Physics Past Papers            23.0  38.766667  26.062142   5.516667   \n",
       "Spanish Notes                   6.0  38.233333  22.977312  12.050000   \n",
       "Economics Past Papers          11.0  37.972727  27.203248   6.133333   \n",
       "Economics Notes                61.0  36.199727  25.419009   2.366667   \n",
       "Computer Science Past Papers   16.0  36.158333  23.603877   0.050000   \n",
       "Spanish Past Papers             9.0  32.940741  20.024442   0.433333   \n",
       "Physics Notes                  14.0  30.442857  19.917956   0.216667   \n",
       "English Past Papers             1.0  28.266667        NaN  28.266667   \n",
       "Mathematics Notes               2.0  26.783333  24.701597   9.316667   \n",
       "\n",
       "                                    25%        50%        75%         max  \n",
       "Description                                                                \n",
       "English Notes                 32.200000  65.133333  89.000000   93.250000  \n",
       "Planning Schedule             56.333333  56.333333  56.333333   56.333333  \n",
       "Mathematics Past Papers       25.041667  41.800000  83.041667  126.966667  \n",
       "Computer Science Notes        20.050000  36.950000  58.000000  105.750000  \n",
       "Physics Past Papers           15.150000  44.400000  57.958333   80.200000  \n",
       "Spanish Notes                 18.445833  38.841667  56.212500   66.016667  \n",
       "Economics Past Papers         18.358333  25.216667  52.025000   89.416667  \n",
       "Economics Notes               18.416667  29.366667  44.366667  120.333333  \n",
       "Computer Science Past Papers  25.670833  30.075000  44.720833   93.733333  \n",
       "Spanish Past Papers           24.133333  30.333333  35.416667   72.516667  \n",
       "Physics Notes                 21.025000  25.000000  40.191667   64.650000  \n",
       "English Past Papers           28.266667  28.266667  28.266667   28.266667  \n",
       "Mathematics Notes             18.050000  26.783333  35.516667   44.250000  "
      ]
     },
     "execution_count": 26,
     "metadata": {},
     "output_type": "execute_result"
    }
   ],
   "source": [
    "toggl.groupby('Description')['Minutes'].describe().sort_values('mean', ascending=False)"
   ]
  },
  {
   "cell_type": "markdown",
   "metadata": {},
   "source": [
    "So English seems to be the dominator, but Mathematics past papers land high, and Economics has a total of 72 entries! I could aggregate these further into classes, but I digress.\n",
    "\n",
    "At this point we should ask about the number of days we have:"
   ]
  },
  {
   "cell_type": "code",
   "execution_count": 27,
   "metadata": {},
   "outputs": [
    {
     "data": {
      "text/plain": [
       "39"
      ]
     },
     "execution_count": 27,
     "metadata": {},
     "output_type": "execute_result"
    }
   ],
   "source": [
    "toggl[\"Start date\"].nunique()"
   ]
  },
  {
   "cell_type": "markdown",
   "metadata": {},
   "source": [
    "39 is a pretty small sample size, but the analysis is still worth a shot anyways. Let's start by just grabbing the related rows of our weather data frame:"
   ]
  },
  {
   "cell_type": "code",
   "execution_count": 29,
   "metadata": {},
   "outputs": [],
   "source": [
    "raindf = hk_df.iloc[:, [0, 8]]"
   ]
  },
  {
   "cell_type": "code",
   "execution_count": 30,
   "metadata": {},
   "outputs": [
    {
     "data": {
      "text/html": [
       "<div>\n",
       "<style scoped>\n",
       "    .dataframe tbody tr th:only-of-type {\n",
       "        vertical-align: middle;\n",
       "    }\n",
       "\n",
       "    .dataframe tbody tr th {\n",
       "        vertical-align: top;\n",
       "    }\n",
       "\n",
       "    .dataframe thead th {\n",
       "        text-align: right;\n",
       "    }\n",
       "</style>\n",
       "<table border=\"1\" class=\"dataframe\">\n",
       "  <thead>\n",
       "    <tr style=\"text-align: right;\">\n",
       "      <th></th>\n",
       "      <th>date</th>\n",
       "      <th>rain</th>\n",
       "    </tr>\n",
       "  </thead>\n",
       "  <tbody>\n",
       "    <tr>\n",
       "      <th>0</th>\n",
       "      <td>2019-03-01</td>\n",
       "      <td>0.4</td>\n",
       "    </tr>\n",
       "    <tr>\n",
       "      <th>1</th>\n",
       "      <td>2019-03-02</td>\n",
       "      <td>0.0</td>\n",
       "    </tr>\n",
       "    <tr>\n",
       "      <th>2</th>\n",
       "      <td>2019-03-03</td>\n",
       "      <td>6.3</td>\n",
       "    </tr>\n",
       "    <tr>\n",
       "      <th>3</th>\n",
       "      <td>2019-03-04</td>\n",
       "      <td>10.2</td>\n",
       "    </tr>\n",
       "    <tr>\n",
       "      <th>4</th>\n",
       "      <td>2019-03-05</td>\n",
       "      <td>30.3</td>\n",
       "    </tr>\n",
       "  </tbody>\n",
       "</table>\n",
       "</div>"
      ],
      "text/plain": [
       "        date  rain\n",
       "0 2019-03-01   0.4\n",
       "1 2019-03-02   0.0\n",
       "2 2019-03-03   6.3\n",
       "3 2019-03-04  10.2\n",
       "4 2019-03-05  30.3"
      ]
     },
     "execution_count": 30,
     "metadata": {},
     "output_type": "execute_result"
    }
   ],
   "source": [
    "raindf.head()"
   ]
  },
  {
   "cell_type": "markdown",
   "metadata": {},
   "source": [
    "Then we can aggregate our Toggl data into two rows: days, and minutes worked for that day.\n"
   ]
  },
  {
   "cell_type": "code",
   "execution_count": 32,
   "metadata": {},
   "outputs": [],
   "source": [
    "toggl_days = toggl.groupby('Start date')['Minutes'].sum().reset_index().rename(columns={\"Start date\": \"date\", \"Minutes\": \"minutes\"})"
   ]
  },
  {
   "cell_type": "code",
   "execution_count": 33,
   "metadata": {},
   "outputs": [
    {
     "data": {
      "text/html": [
       "<div>\n",
       "<style scoped>\n",
       "    .dataframe tbody tr th:only-of-type {\n",
       "        vertical-align: middle;\n",
       "    }\n",
       "\n",
       "    .dataframe tbody tr th {\n",
       "        vertical-align: top;\n",
       "    }\n",
       "\n",
       "    .dataframe thead th {\n",
       "        text-align: right;\n",
       "    }\n",
       "</style>\n",
       "<table border=\"1\" class=\"dataframe\">\n",
       "  <thead>\n",
       "    <tr style=\"text-align: right;\">\n",
       "      <th></th>\n",
       "      <th>date</th>\n",
       "      <th>minutes</th>\n",
       "    </tr>\n",
       "  </thead>\n",
       "  <tbody>\n",
       "    <tr>\n",
       "      <th>0</th>\n",
       "      <td>2019-03-30</td>\n",
       "      <td>96.150000</td>\n",
       "    </tr>\n",
       "    <tr>\n",
       "      <th>1</th>\n",
       "      <td>2019-03-31</td>\n",
       "      <td>82.050000</td>\n",
       "    </tr>\n",
       "    <tr>\n",
       "      <th>2</th>\n",
       "      <td>2019-04-01</td>\n",
       "      <td>185.583333</td>\n",
       "    </tr>\n",
       "    <tr>\n",
       "      <th>3</th>\n",
       "      <td>2019-04-02</td>\n",
       "      <td>94.050000</td>\n",
       "    </tr>\n",
       "    <tr>\n",
       "      <th>4</th>\n",
       "      <td>2019-04-03</td>\n",
       "      <td>184.066667</td>\n",
       "    </tr>\n",
       "  </tbody>\n",
       "</table>\n",
       "</div>"
      ],
      "text/plain": [
       "        date     minutes\n",
       "0 2019-03-30   96.150000\n",
       "1 2019-03-31   82.050000\n",
       "2 2019-04-01  185.583333\n",
       "3 2019-04-02   94.050000\n",
       "4 2019-04-03  184.066667"
      ]
     },
     "execution_count": 33,
     "metadata": {},
     "output_type": "execute_result"
    }
   ],
   "source": [
    "toggl_days.head()"
   ]
  },
  {
   "cell_type": "markdown",
   "metadata": {},
   "source": [
    "This operation isn't too intimidating — in English, this is telling `pandas` to compute the sum of minutes worked for each day, and `.reset_index()` fixes our indices (left-most bolded column), and we finish by renaming the columns."
   ]
  },
  {
   "cell_type": "code",
   "execution_count": 34,
   "metadata": {},
   "outputs": [],
   "source": [
    "df = pd.merge(toggl_days, raindf)\n",
    "df.head()"
   ]
  },
  {
   "cell_type": "markdown",
   "metadata": {},
   "source": [
    "A nice result. We can now seamlessly join these tables and write them to a `.csv`:"
   ]
  },
  {
   "cell_type": "code",
   "execution_count": 35,
   "metadata": {},
   "outputs": [
    {
     "data": {
      "text/html": [
       "<div>\n",
       "<style scoped>\n",
       "    .dataframe tbody tr th:only-of-type {\n",
       "        vertical-align: middle;\n",
       "    }\n",
       "\n",
       "    .dataframe tbody tr th {\n",
       "        vertical-align: top;\n",
       "    }\n",
       "\n",
       "    .dataframe thead th {\n",
       "        text-align: right;\n",
       "    }\n",
       "</style>\n",
       "<table border=\"1\" class=\"dataframe\">\n",
       "  <thead>\n",
       "    <tr style=\"text-align: right;\">\n",
       "      <th></th>\n",
       "      <th>date</th>\n",
       "      <th>minutes</th>\n",
       "      <th>rain</th>\n",
       "    </tr>\n",
       "  </thead>\n",
       "  <tbody>\n",
       "    <tr>\n",
       "      <th>0</th>\n",
       "      <td>2019-03-30</td>\n",
       "      <td>96.150000</td>\n",
       "      <td>0.0</td>\n",
       "    </tr>\n",
       "    <tr>\n",
       "      <th>1</th>\n",
       "      <td>2019-03-31</td>\n",
       "      <td>82.050000</td>\n",
       "      <td>7.7</td>\n",
       "    </tr>\n",
       "    <tr>\n",
       "      <th>2</th>\n",
       "      <td>2019-04-01</td>\n",
       "      <td>185.583333</td>\n",
       "      <td>0.0</td>\n",
       "    </tr>\n",
       "    <tr>\n",
       "      <th>3</th>\n",
       "      <td>2019-04-02</td>\n",
       "      <td>94.050000</td>\n",
       "      <td>0.0</td>\n",
       "    </tr>\n",
       "    <tr>\n",
       "      <th>4</th>\n",
       "      <td>2019-04-03</td>\n",
       "      <td>184.066667</td>\n",
       "      <td>0.0</td>\n",
       "    </tr>\n",
       "  </tbody>\n",
       "</table>\n",
       "</div>"
      ],
      "text/plain": [
       "        date     minutes  rain\n",
       "0 2019-03-30   96.150000   0.0\n",
       "1 2019-03-31   82.050000   7.7\n",
       "2 2019-04-01  185.583333   0.0\n",
       "3 2019-04-02   94.050000   0.0\n",
       "4 2019-04-03  184.066667   0.0"
      ]
     },
     "execution_count": 35,
     "metadata": {},
     "output_type": "execute_result"
    }
   ],
   "source": [
    "df.to_csv(\"rain_raw.csv\", index=False)"
   ]
  },
  {
   "cell_type": "markdown",
   "metadata": {},
   "source": [
    "So to gauge whether rain has an effect on minutes worked, we want to be able to classify each 'day' record as either rainy or not rainy. Here we encounter another assumption and design decision in the data transformation process. [One method](http://www.bom.gov.au/climate/data-services/content/faqs-elements.html) for classifying days based on precipitation is to use a threshold $\\boldsymbol{\\lambda} \\in \\{0.1,0.2,1,10,25\\}$ such that:\n",
    "\n",
    "$$ \\verb|rain| = \\begin{cases}\n",
    "          \\text{False} \\quad &\\text{if} \\, \\verb|rain| \\lt \\lambda \\\\\n",
    "          \\text{True} \\quad &\\text{if} \\, \\verb|rain| \\ge \\lambda \\\\\n",
    "     \\end{cases} $$\n",
    "\n",
    "To choose $\\lambda$, let's check out our data for `rain`:"
   ]
  },
  {
   "cell_type": "code",
   "execution_count": 36,
   "metadata": {},
   "outputs": [
    {
     "data": {
      "text/plain": [
       "count    39.000000\n",
       "mean      7.169231\n",
       "std      14.187896\n",
       "min       0.000000\n",
       "25%       0.000000\n",
       "50%       0.900000\n",
       "75%       8.350000\n",
       "max      75.800000\n",
       "Name: rain, dtype: float64"
      ]
     },
     "execution_count": 36,
     "metadata": {},
     "output_type": "execute_result"
    }
   ],
   "source": [
    "df['rain'].describe()"
   ]
  },
  {
   "cell_type": "code",
   "execution_count": 37,
   "metadata": {},
   "outputs": [
    {
     "data": {
      "text/html": [
       "\n",
       "<div id=\"altair-viz-0732209e10ec4f029625c40c089eab92\"></div>\n",
       "<script type=\"text/javascript\">\n",
       "  (function(spec, embedOpt){\n",
       "    let outputDiv = document.currentScript.previousElementSibling;\n",
       "    if (outputDiv.id !== \"altair-viz-0732209e10ec4f029625c40c089eab92\") {\n",
       "      outputDiv = document.getElementById(\"altair-viz-0732209e10ec4f029625c40c089eab92\");\n",
       "    }\n",
       "    const paths = {\n",
       "      \"vega\": \"https://cdn.jsdelivr.net/npm//vega@5?noext\",\n",
       "      \"vega-lib\": \"https://cdn.jsdelivr.net/npm//vega-lib?noext\",\n",
       "      \"vega-lite\": \"https://cdn.jsdelivr.net/npm//vega-lite@4.8.1?noext\",\n",
       "      \"vega-embed\": \"https://cdn.jsdelivr.net/npm//vega-embed@6?noext\",\n",
       "    };\n",
       "\n",
       "    function loadScript(lib) {\n",
       "      return new Promise(function(resolve, reject) {\n",
       "        var s = document.createElement('script');\n",
       "        s.src = paths[lib];\n",
       "        s.async = true;\n",
       "        s.onload = () => resolve(paths[lib]);\n",
       "        s.onerror = () => reject(`Error loading script: ${paths[lib]}`);\n",
       "        document.getElementsByTagName(\"head\")[0].appendChild(s);\n",
       "      });\n",
       "    }\n",
       "\n",
       "    function showError(err) {\n",
       "      outputDiv.innerHTML = `<div class=\"error\" style=\"color:red;\">${err}</div>`;\n",
       "      throw err;\n",
       "    }\n",
       "\n",
       "    function displayChart(vegaEmbed) {\n",
       "      vegaEmbed(outputDiv, spec, embedOpt)\n",
       "        .catch(err => showError(`Javascript Error: ${err.message}<br>This usually means there's a typo in your chart specification. See the javascript console for the full traceback.`));\n",
       "    }\n",
       "\n",
       "    if(typeof define === \"function\" && define.amd) {\n",
       "      requirejs.config({paths});\n",
       "      require([\"vega-embed\"], displayChart, err => showError(`Error loading script: ${err.message}`));\n",
       "    } else if (typeof vegaEmbed === \"function\") {\n",
       "      displayChart(vegaEmbed);\n",
       "    } else {\n",
       "      loadScript(\"vega\")\n",
       "        .then(() => loadScript(\"vega-lite\"))\n",
       "        .then(() => loadScript(\"vega-embed\"))\n",
       "        .catch(showError)\n",
       "        .then(() => displayChart(vegaEmbed));\n",
       "    }\n",
       "  })({\"config\": {\"view\": {\"continuousWidth\": 400, \"continuousHeight\": 300}}, \"data\": {\"url\": \"mydata/altair-data-2a2c1ca967d9ca7d7b4cc93a8406c093.json\", \"format\": {\"type\": \"json\"}}, \"mark\": \"bar\", \"encoding\": {\"x\": {\"type\": \"quantitative\", \"bin\": {\"extent\": [0, 80], \"step\": 5}, \"field\": \"rain\"}, \"y\": {\"type\": \"quantitative\", \"aggregate\": \"count\"}}, \"$schema\": \"https://vega.github.io/schema/vega-lite/v4.8.1.json\"}, {\"mode\": \"vega-lite\"});\n",
       "</script>"
      ],
      "text/plain": [
       "alt.Chart(...)"
      ]
     },
     "execution_count": 37,
     "metadata": {},
     "output_type": "execute_result"
    }
   ],
   "source": [
    "alt.Chart(df).mark_bar().encode(\n",
    "    alt.X(\"rain:Q\", bin=alt.Bin(extent=[0,80], step=5)),\n",
    "    alt.Y(\"count()\")\n",
    ")"
   ]
  },
  {
   "cell_type": "markdown",
   "metadata": {},
   "source": [
    "Given Hong Kong's humid nature, $\\lambda=1\\,\\text{mm}$ appears to be a good fit for the data given the median precipitation. We can redefine our `rain` column to achieve the following data frame:"
   ]
  },
  {
   "cell_type": "code",
   "execution_count": 38,
   "metadata": {},
   "outputs": [],
   "source": [
    "df.loc[df['rain'] >= 1, 'rain_day'] = \"Yes\"\n",
    "df.loc[df['rain'] < 1, 'rain_day'] = \"No\"\n",
    "\n",
    "df.drop(columns='rain', inplace=True)\n",
    "df.rename(columns={\"rain_day\": \"rain\"}, inplace=True)"
   ]
  },
  {
   "cell_type": "code",
   "execution_count": 40,
   "metadata": {},
   "outputs": [
    {
     "data": {
      "text/html": [
       "<div>\n",
       "<style scoped>\n",
       "    .dataframe tbody tr th:only-of-type {\n",
       "        vertical-align: middle;\n",
       "    }\n",
       "\n",
       "    .dataframe tbody tr th {\n",
       "        vertical-align: top;\n",
       "    }\n",
       "\n",
       "    .dataframe thead th {\n",
       "        text-align: right;\n",
       "    }\n",
       "</style>\n",
       "<table border=\"1\" class=\"dataframe\">\n",
       "  <thead>\n",
       "    <tr style=\"text-align: right;\">\n",
       "      <th></th>\n",
       "      <th>date</th>\n",
       "      <th>minutes</th>\n",
       "      <th>rain</th>\n",
       "    </tr>\n",
       "  </thead>\n",
       "  <tbody>\n",
       "    <tr>\n",
       "      <th>0</th>\n",
       "      <td>2019-03-30</td>\n",
       "      <td>96.150000</td>\n",
       "      <td>No</td>\n",
       "    </tr>\n",
       "    <tr>\n",
       "      <th>1</th>\n",
       "      <td>2019-03-31</td>\n",
       "      <td>82.050000</td>\n",
       "      <td>Yes</td>\n",
       "    </tr>\n",
       "    <tr>\n",
       "      <th>2</th>\n",
       "      <td>2019-04-01</td>\n",
       "      <td>185.583333</td>\n",
       "      <td>No</td>\n",
       "    </tr>\n",
       "    <tr>\n",
       "      <th>3</th>\n",
       "      <td>2019-04-02</td>\n",
       "      <td>94.050000</td>\n",
       "      <td>No</td>\n",
       "    </tr>\n",
       "    <tr>\n",
       "      <th>4</th>\n",
       "      <td>2019-04-03</td>\n",
       "      <td>184.066667</td>\n",
       "      <td>No</td>\n",
       "    </tr>\n",
       "  </tbody>\n",
       "</table>\n",
       "</div>"
      ],
      "text/plain": [
       "        date     minutes rain\n",
       "0 2019-03-30   96.150000   No\n",
       "1 2019-03-31   82.050000  Yes\n",
       "2 2019-04-01  185.583333   No\n",
       "3 2019-04-02   94.050000   No\n",
       "4 2019-04-03  184.066667   No"
      ]
     },
     "execution_count": 40,
     "metadata": {},
     "output_type": "execute_result"
    }
   ],
   "source": [
    "df.head()"
   ]
  },
  {
   "cell_type": "markdown",
   "metadata": {},
   "source": [
    "Let's see how the data are split:"
   ]
  },
  {
   "cell_type": "code",
   "execution_count": 41,
   "metadata": {},
   "outputs": [
    {
     "data": {
      "text/plain": [
       "No     20\n",
       "Yes    19\n",
       "Name: rain, dtype: int64"
      ]
     },
     "execution_count": 41,
     "metadata": {},
     "output_type": "execute_result"
    }
   ],
   "source": [
    "df['rain'].value_counts()"
   ]
  },
  {
   "cell_type": "markdown",
   "metadata": {},
   "source": [
    "Which is as good of a split as we could've hoped for. Now for some preliminary visualization: let's see how rainy/non-rainy days are distributed against minutes:"
   ]
  },
  {
   "cell_type": "code",
   "execution_count": 42,
   "metadata": {},
   "outputs": [
    {
     "data": {
      "text/html": [
       "\n",
       "<div id=\"altair-viz-676bf460ad924482a35dc1b2c89cdfd9\"></div>\n",
       "<script type=\"text/javascript\">\n",
       "  (function(spec, embedOpt){\n",
       "    let outputDiv = document.currentScript.previousElementSibling;\n",
       "    if (outputDiv.id !== \"altair-viz-676bf460ad924482a35dc1b2c89cdfd9\") {\n",
       "      outputDiv = document.getElementById(\"altair-viz-676bf460ad924482a35dc1b2c89cdfd9\");\n",
       "    }\n",
       "    const paths = {\n",
       "      \"vega\": \"https://cdn.jsdelivr.net/npm//vega@5?noext\",\n",
       "      \"vega-lib\": \"https://cdn.jsdelivr.net/npm//vega-lib?noext\",\n",
       "      \"vega-lite\": \"https://cdn.jsdelivr.net/npm//vega-lite@4.8.1?noext\",\n",
       "      \"vega-embed\": \"https://cdn.jsdelivr.net/npm//vega-embed@6?noext\",\n",
       "    };\n",
       "\n",
       "    function loadScript(lib) {\n",
       "      return new Promise(function(resolve, reject) {\n",
       "        var s = document.createElement('script');\n",
       "        s.src = paths[lib];\n",
       "        s.async = true;\n",
       "        s.onload = () => resolve(paths[lib]);\n",
       "        s.onerror = () => reject(`Error loading script: ${paths[lib]}`);\n",
       "        document.getElementsByTagName(\"head\")[0].appendChild(s);\n",
       "      });\n",
       "    }\n",
       "\n",
       "    function showError(err) {\n",
       "      outputDiv.innerHTML = `<div class=\"error\" style=\"color:red;\">${err}</div>`;\n",
       "      throw err;\n",
       "    }\n",
       "\n",
       "    function displayChart(vegaEmbed) {\n",
       "      vegaEmbed(outputDiv, spec, embedOpt)\n",
       "        .catch(err => showError(`Javascript Error: ${err.message}<br>This usually means there's a typo in your chart specification. See the javascript console for the full traceback.`));\n",
       "    }\n",
       "\n",
       "    if(typeof define === \"function\" && define.amd) {\n",
       "      requirejs.config({paths});\n",
       "      require([\"vega-embed\"], displayChart, err => showError(`Error loading script: ${err.message}`));\n",
       "    } else if (typeof vegaEmbed === \"function\") {\n",
       "      displayChart(vegaEmbed);\n",
       "    } else {\n",
       "      loadScript(\"vega\")\n",
       "        .then(() => loadScript(\"vega-lite\"))\n",
       "        .then(() => loadScript(\"vega-embed\"))\n",
       "        .catch(showError)\n",
       "        .then(() => displayChart(vegaEmbed));\n",
       "    }\n",
       "  })({\"config\": {\"view\": {\"continuousWidth\": 400, \"continuousHeight\": 300}}, \"data\": {\"url\": \"mydata/altair-data-ae36042c8a35bb89e8c1af82709b6ddd.json\", \"format\": {\"type\": \"json\"}}, \"mark\": {\"type\": \"bar\", \"tooltip\": {\"content\": \"encoding\"}}, \"encoding\": {\"color\": {\"type\": \"nominal\", \"field\": \"rain\", \"scale\": {\"domain\": [\"No\", \"Yes\"], \"range\": [\"#ffdfbf\", \"steelblue\"]}, \"title\": \"Rain\"}, \"x\": {\"type\": \"quantitative\", \"bin\": {\"extent\": [25, 500], \"step\": 25}, \"field\": \"minutes\", \"title\": \"Minutes spent on schoolwork\"}, \"y\": {\"type\": \"quantitative\", \"aggregate\": \"count\", \"title\": \"Number of entries\"}}, \"$schema\": \"https://vega.github.io/schema/vega-lite/v4.8.1.json\"}, {\"mode\": \"vega-lite\"});\n",
       "</script>"
      ],
      "text/plain": [
       "alt.Chart(...)"
      ]
     },
     "execution_count": 42,
     "metadata": {},
     "output_type": "execute_result"
    }
   ],
   "source": [
    "alt.Chart(df).mark_bar(tooltip=alt.TooltipContent(\"encoding\")).encode(\n",
    "    alt.X(\"minutes:Q\", bin=alt.Bin(extent=[25,500], step=25), title=\"Minutes spent on schoolwork\"),\n",
    "    alt.Y(\"count()\", title=\"Number of entries\"),\n",
    "    alt.Color(\"rain:N\", title=\"Rain\",\n",
    "              scale=alt.Scale(domain=[\"No\", \"Yes\"], range=['#ffdfbf', 'steelblue']))\n",
    ")"
   ]
  },
  {
   "cell_type": "markdown",
   "metadata": {},
   "source": [
    "By eye, it looks like rainy days have slightly higher minute counts. Let's compute the mean of both types of days:\n"
   ]
  },
  {
   "cell_type": "markdown",
   "metadata": {},
   "source": [
    "But is the difference statistically significant?"
   ]
  },
  {
   "cell_type": "code",
   "execution_count": 43,
   "metadata": {},
   "outputs": [
    {
     "data": {
      "text/plain": [
       "rain\n",
       "No     200.647500\n",
       "Yes    216.942982\n",
       "Name: minutes, dtype: float64"
      ]
     },
     "execution_count": 43,
     "metadata": {},
     "output_type": "execute_result"
    }
   ],
   "source": [
    "df.groupby('rain')['minutes'].mean()"
   ]
  },
  {
   "cell_type": "markdown",
   "metadata": {},
   "source": [
    "So the average task time is higher on average, but is the difference **statistically significant**? One way of answering this is to knock on the frequentist's door and ask for a _p_-value. We want to test the alternative hypothesis that rainy days, on average, have **higher** minute counts. So our null hypothesis will be that there is **no difference** between minutes worked on average on rainy and non-rainy days. So our set-up is as follows:\n",
    "\n",
    "$$ H_0:\\mu_R=\\mu_N \\\\ \\text{vs} \\\\ H_A:\\mu_R\\gt\\mu_N$$\n",
    "\n",
    "where $\\mu_R,\\mu_N$ are the true means of minutes worked for rainy and non-rainy days respectively. Let's write the data frame to a `.csv` and head into R to perform a simple *t*-test:"
   ]
  },
  {
   "cell_type": "code",
   "execution_count": 44,
   "metadata": {},
   "outputs": [],
   "source": [
    "df.to_csv(\"rain_school.csv\", index=False)"
   ]
  },
  {
   "cell_type": "markdown",
   "metadata": {},
   "source": [
    "```r\n",
    "    rain <- read.csv(\"rain_school.csv\")\n",
    "    t.test(rain[rain$rain==\"Yes\",]$minutes, rain[rain$rain==\"No\",]$minutes, alternative='greater')\n",
    "```\n",
    "\n",
    "\n",
    "        Welch Two Sample t-test\n",
    "\n",
    "    data:  rain[rain$rain == \"Yes\", ]$minutes and rain[rain$rain == \"No\", ]$minutes\n",
    "    t = 0.48793, df = 35.485, p-value = 0.3143\n",
    "    alternative hypothesis: true difference in means is greater than 0\n",
    "    95 percent confidence interval:\n",
    "     -40.11065       Inf\n",
    "    sample estimates:\n",
    "    mean of x mean of y \n",
    "     216.9430  200.6475 \n"
   ]
  },
  {
   "cell_type": "markdown",
   "metadata": {},
   "source": [
    "So we obtain a *p*-value of $\\approx0.3$, which is quite large. To interpret this, we can say that if we repeated the experiment for minutes worked on rainy/non-rainy days, and there really was no impact of rain on minutes worked, the probability of seeing **more** minutes worked for rainy days than non-rainy days to the extent we saw or to a greater extent just by chance is 30%.\n",
    "\n",
    "While that is a mouthful, it tells us there is a relatively high probability of seeing a positive deviation in minutes worked just by chance if there was no difference in rainy/non-rainy days — so we **fail to reject** the null hypothesis. The mini-conclusion here is that more data are definitely needed.\n",
    "\n",
    "### Predicting minutes worked\n",
    "Let's backtrack and look at the rest of the weather data:"
   ]
  },
  {
   "cell_type": "code",
   "execution_count": 45,
   "metadata": {},
   "outputs": [
    {
     "data": {
      "text/html": [
       "<div>\n",
       "<style scoped>\n",
       "    .dataframe tbody tr th:only-of-type {\n",
       "        vertical-align: middle;\n",
       "    }\n",
       "\n",
       "    .dataframe tbody tr th {\n",
       "        vertical-align: top;\n",
       "    }\n",
       "\n",
       "    .dataframe thead th {\n",
       "        text-align: right;\n",
       "    }\n",
       "</style>\n",
       "<table border=\"1\" class=\"dataframe\">\n",
       "  <thead>\n",
       "    <tr style=\"text-align: right;\">\n",
       "      <th></th>\n",
       "      <th>date</th>\n",
       "      <th>mean_pressure</th>\n",
       "      <th>max_temp</th>\n",
       "      <th>mean_temp</th>\n",
       "      <th>min_temp</th>\n",
       "      <th>mean_dew</th>\n",
       "      <th>humid</th>\n",
       "      <th>cloud</th>\n",
       "      <th>rain</th>\n",
       "      <th>sunshine</th>\n",
       "      <th>wind_dir</th>\n",
       "      <th>wind_speed</th>\n",
       "    </tr>\n",
       "  </thead>\n",
       "  <tbody>\n",
       "    <tr>\n",
       "      <th>0</th>\n",
       "      <td>2019-03-01</td>\n",
       "      <td>1016.1</td>\n",
       "      <td>22.4</td>\n",
       "      <td>20.8</td>\n",
       "      <td>19.6</td>\n",
       "      <td>18.8</td>\n",
       "      <td>89</td>\n",
       "      <td>91</td>\n",
       "      <td>0.4</td>\n",
       "      <td>0.4</td>\n",
       "      <td>060</td>\n",
       "      <td>30.6</td>\n",
       "    </tr>\n",
       "    <tr>\n",
       "      <th>1</th>\n",
       "      <td>2019-03-02</td>\n",
       "      <td>1012.7</td>\n",
       "      <td>23.9</td>\n",
       "      <td>21.5</td>\n",
       "      <td>19.9</td>\n",
       "      <td>19.2</td>\n",
       "      <td>87</td>\n",
       "      <td>84</td>\n",
       "      <td>0.0</td>\n",
       "      <td>5.0</td>\n",
       "      <td>070</td>\n",
       "      <td>23.3</td>\n",
       "    </tr>\n",
       "    <tr>\n",
       "      <th>2</th>\n",
       "      <td>2019-03-03</td>\n",
       "      <td>1011.3</td>\n",
       "      <td>23.5</td>\n",
       "      <td>21.5</td>\n",
       "      <td>20.0</td>\n",
       "      <td>19.1</td>\n",
       "      <td>87</td>\n",
       "      <td>85</td>\n",
       "      <td>6.3</td>\n",
       "      <td>4.2</td>\n",
       "      <td>010</td>\n",
       "      <td>8.0</td>\n",
       "    </tr>\n",
       "    <tr>\n",
       "      <th>3</th>\n",
       "      <td>2019-03-04</td>\n",
       "      <td>1013.7</td>\n",
       "      <td>22.6</td>\n",
       "      <td>20.9</td>\n",
       "      <td>19.3</td>\n",
       "      <td>17.7</td>\n",
       "      <td>82</td>\n",
       "      <td>83</td>\n",
       "      <td>10.2</td>\n",
       "      <td>3.2</td>\n",
       "      <td>080</td>\n",
       "      <td>26.1</td>\n",
       "    </tr>\n",
       "    <tr>\n",
       "      <th>4</th>\n",
       "      <td>2019-03-05</td>\n",
       "      <td>1012.1</td>\n",
       "      <td>26.7</td>\n",
       "      <td>22.2</td>\n",
       "      <td>17.7</td>\n",
       "      <td>20.0</td>\n",
       "      <td>88</td>\n",
       "      <td>89</td>\n",
       "      <td>30.3</td>\n",
       "      <td>2.0</td>\n",
       "      <td>070</td>\n",
       "      <td>22.7</td>\n",
       "    </tr>\n",
       "  </tbody>\n",
       "</table>\n",
       "</div>"
      ],
      "text/plain": [
       "        date  mean_pressure  max_temp  mean_temp  min_temp  mean_dew  humid  \\\n",
       "0 2019-03-01         1016.1      22.4       20.8      19.6      18.8     89   \n",
       "1 2019-03-02         1012.7      23.9       21.5      19.9      19.2     87   \n",
       "2 2019-03-03         1011.3      23.5       21.5      20.0      19.1     87   \n",
       "3 2019-03-04         1013.7      22.6       20.9      19.3      17.7     82   \n",
       "4 2019-03-05         1012.1      26.7       22.2      17.7      20.0     88   \n",
       "\n",
       "   cloud  rain  sunshine wind_dir wind_speed  \n",
       "0     91   0.4       0.4      060       30.6  \n",
       "1     84   0.0       5.0      070       23.3  \n",
       "2     85   6.3       4.2      010        8.0  \n",
       "3     83  10.2       3.2      080       26.1  \n",
       "4     89  30.3       2.0      070       22.7  "
      ]
     },
     "execution_count": 45,
     "metadata": {},
     "output_type": "execute_result"
    }
   ],
   "source": [
    "hk_df.head()"
   ]
  },
  {
   "cell_type": "markdown",
   "metadata": {},
   "source": [
    "There are an abundance of variables — let's just siphon `mean_temp`, `humid`, `cloud`, `rain`, and `sunshine` for factors we think may have an impact on productivity."
   ]
  },
  {
   "cell_type": "code",
   "execution_count": 46,
   "metadata": {},
   "outputs": [
    {
     "data": {
      "text/html": [
       "<div>\n",
       "<style scoped>\n",
       "    .dataframe tbody tr th:only-of-type {\n",
       "        vertical-align: middle;\n",
       "    }\n",
       "\n",
       "    .dataframe tbody tr th {\n",
       "        vertical-align: top;\n",
       "    }\n",
       "\n",
       "    .dataframe thead th {\n",
       "        text-align: right;\n",
       "    }\n",
       "</style>\n",
       "<table border=\"1\" class=\"dataframe\">\n",
       "  <thead>\n",
       "    <tr style=\"text-align: right;\">\n",
       "      <th></th>\n",
       "      <th>date</th>\n",
       "      <th>mean_temp</th>\n",
       "      <th>humid</th>\n",
       "      <th>cloud</th>\n",
       "      <th>rain</th>\n",
       "      <th>sunshine</th>\n",
       "    </tr>\n",
       "  </thead>\n",
       "  <tbody>\n",
       "    <tr>\n",
       "      <th>0</th>\n",
       "      <td>2019-03-01</td>\n",
       "      <td>20.8</td>\n",
       "      <td>89</td>\n",
       "      <td>91</td>\n",
       "      <td>0.4</td>\n",
       "      <td>0.4</td>\n",
       "    </tr>\n",
       "    <tr>\n",
       "      <th>1</th>\n",
       "      <td>2019-03-02</td>\n",
       "      <td>21.5</td>\n",
       "      <td>87</td>\n",
       "      <td>84</td>\n",
       "      <td>0.0</td>\n",
       "      <td>5.0</td>\n",
       "    </tr>\n",
       "    <tr>\n",
       "      <th>2</th>\n",
       "      <td>2019-03-03</td>\n",
       "      <td>21.5</td>\n",
       "      <td>87</td>\n",
       "      <td>85</td>\n",
       "      <td>6.3</td>\n",
       "      <td>4.2</td>\n",
       "    </tr>\n",
       "    <tr>\n",
       "      <th>3</th>\n",
       "      <td>2019-03-04</td>\n",
       "      <td>20.9</td>\n",
       "      <td>82</td>\n",
       "      <td>83</td>\n",
       "      <td>10.2</td>\n",
       "      <td>3.2</td>\n",
       "    </tr>\n",
       "    <tr>\n",
       "      <th>4</th>\n",
       "      <td>2019-03-05</td>\n",
       "      <td>22.2</td>\n",
       "      <td>88</td>\n",
       "      <td>89</td>\n",
       "      <td>30.3</td>\n",
       "      <td>2.0</td>\n",
       "    </tr>\n",
       "  </tbody>\n",
       "</table>\n",
       "</div>"
      ],
      "text/plain": [
       "        date  mean_temp  humid  cloud  rain  sunshine\n",
       "0 2019-03-01       20.8     89     91   0.4       0.4\n",
       "1 2019-03-02       21.5     87     84   0.0       5.0\n",
       "2 2019-03-03       21.5     87     85   6.3       4.2\n",
       "3 2019-03-04       20.9     82     83  10.2       3.2\n",
       "4 2019-03-05       22.2     88     89  30.3       2.0"
      ]
     },
     "execution_count": 46,
     "metadata": {},
     "output_type": "execute_result"
    }
   ],
   "source": [
    "weather = hk_df.iloc[:, [0, 3, 6, 7, 8, 9]]\n",
    "weather.head()"
   ]
  },
  {
   "cell_type": "markdown",
   "metadata": {},
   "source": [
    "Let's join this with our previous table containing the minutes, and write that to a `.csv`:"
   ]
  },
  {
   "cell_type": "code",
   "execution_count": 47,
   "metadata": {},
   "outputs": [],
   "source": [
    "df = pd.merge(df.iloc[: , [0, 1]], weather)\n",
    "df.to_csv(\"full_days.csv\", index=False)\n",
    "df.head()"
   ]
  },
  {
   "cell_type": "markdown",
   "metadata": {},
   "source": [
    "By the way, `sunshine` is the number of hours of *bright* sunshine hours. Let's head over to R to try to build some models for predicting `minutes`. We can begin by just checking out the correlation matrix between our variables:\n",
    "\n",
    "    > days <- read.csv(\"full_days.csv\")\n",
    "    > cor(days[c(2:7)])\n",
    "                minutes   mean_temp      humid       cloud        rain    sunshine\n",
    "    minutes    1.00000000  0.08525068  0.1479811 -0.07462029 -0.04984429  0.07714833\n",
    "    mean_temp  0.08525068  1.00000000 -0.3882086 -0.63293077 -0.23396924  0.70265663\n",
    "    humid      0.14798108 -0.38820860  1.0000000  0.56440892  0.53635898 -0.63297290\n",
    "    cloud     -0.07462029 -0.63293077  0.5644089  1.00000000  0.33323933 -0.90797842\n",
    "    rain      -0.04984429 -0.23396924  0.5363590  0.33323933  1.00000000 -0.38933099\n",
    "    sunshine   0.07714833  0.70265663 -0.6329729 -0.90797842 -0.38933099  1.00000000\n",
    "    \n",
    "We can see the weather associations we'd expect — temperature/cloud and sunshine, humidity and cloud, etc. But the correlations among `minutes` look pretty unpromising. Regardless, let's begin by partitioning our data with a 75/25 training/testing split:\n",
    "\n",
    "```r\n",
    "    set.seed(30734592) # for reproduceability\n",
    "    train.ind <- sample(seq_len(nrow(days)), size = floor(.75*nrow(days)))\n",
    "    days.train <- days[train.ind,]\n",
    "    days.test <- days[-train.ind,]\n",
    "```\n",
    "\n",
    "And fit a multiple regression equation by modeling `minutes` as a function of our weather variables:\n",
    "\n",
    "    > days.fit <- lm(minutes ~ mean_temp + humid + cloud + rain + sunshine, data=days.train)\n",
    "    > summary(days.fit)\n",
    "\n",
    "    Residuals:\n",
    "        Min       1Q   Median       3Q      Max \n",
    "    -117.588  -65.600   -2.683   69.162  151.200 \n",
    "\n",
    "    Coefficients:\n",
    "                Estimate Std. Error t value Pr(>|t|)\n",
    "    (Intercept) -139.4934   413.7243  -0.337    0.739\n",
    "    mean_temp    -13.0997     9.7955  -1.337    0.194\n",
    "    humid          7.0194     4.1107   1.708    0.101\n",
    "    cloud          0.2519     2.0980   0.120    0.905\n",
    "    rain          -1.7436     1.2900  -1.352    0.190\n",
    "    sunshine      10.9424    14.1435   0.774    0.447\n",
    "\n",
    "    Residual standard error: 86.59 on 23 degrees of freedom\n",
    "    Multiple R-squared:  0.1723,\tAdjusted R-squared:  -0.007695 \n",
    "    F-statistic: 0.9572 on 5 and 23 DF,  p-value: 0.4639\n",
    "    \n",
    "Our *p*-values are pretty large across the board, but there are some hints a few variables may be associated with `minutes`. We can calculate the Root Mean Square Error (RMSE) by \n",
    "\n",
    "$$\n",
    "\\text{RMSE} = \\sqrt{\n",
    "    \\frac{\\sum_{i=1}^{n}(\\hat{y}_i - y_i)^2}\n",
    "    {n}\n",
    "    } \n",
    "$$\n",
    "\n",
    "where $y_i$ are the true values for our targets and $\\hat{y}_i$ are the predicted values, and $n$ is our sample size. This can be done in R for our test dataset:\n",
    "\n",
    "    > sqrt(mean((days.test$minutes - predict(days.fit, days.test))^2))\n",
    "    [1] 160.763\n",
    "\n",
    "Which is quite a large average difference. We can try a few other models — bagged regression trees are generally good for reducing variance. We can create one in R with the `rpart` package:\n",
    "\n",
    "```r\n",
    "    rain_bag <- bagging(\n",
    "    formula = minutes ~ mean_temp + humid + cloud + rain + sunshine,\n",
    "    data = days.train,\n",
    "    nbagg = 100,\n",
    "    coob = TRUE,\n",
    "    control = rpart.control(minsplit=2, cp=0)\n",
    "    )\n",
    "```\n",
    "\n",
    "    > sqrt(mean((days.test$minutes - predict(rain_bag, days.test))^2))\n",
    "    [1] 156.6805\n",
    "\n",
    "And we achieve a new RMSE of 157, which is an *improvement* over 161. We can try one more model — a random forest, for fun. We can use the `randomForest` library in R to elegantly do this:\n",
    "\n",
    "```r\n",
    "    rain.rf <- randomForest(minutes ~ mean_temp + humid + cloud + rain + sunshine,\n",
    "                            data=days.train,\n",
    "                            importance=TRUE)\n",
    "```\n",
    "\n",
    "    > sqrt(mean((days.test$minutes - predict(rain.rf, days.test))^2))\n",
    "    [1] 149.3987\n",
    "    \n",
    "And an RMSE of 149 is definitely better than 157 or 161, but still very high. To conclude, we can plot the predictions and compare models:\n",
    "\n",
    "<figure class=\"styled\"><img class=\"styled\" src=\"/images/weather-model.png\" width=\"420\" height=\"280\" title=\"Models predicting on the test dataset\" alt=\"Models predicting on the test dataset\"><figurecaption>Models predicting on the test dataset</figurecaption></figure>\n",
    "\n",
    "## Conclusion\n",
    "As is typical with analysis of small samples, more data are needed to conclusively suggest there is any difference in (my) productivity owing to the weather. Looking back at the linear model, perhaps an interesting route to explore is "
   ]
  }
 ],
 "metadata": {
  "kernelspec": {
   "display_name": "Python 3",
   "language": "python",
   "name": "python3"
  },
  "language_info": {
   "codemirror_mode": {
    "name": "ipython",
    "version": 3
   },
   "file_extension": ".py",
   "mimetype": "text/x-python",
   "name": "python",
   "nbconvert_exporter": "python",
   "pygments_lexer": "ipython3",
   "version": "3.8.5"
  }
 },
 "nbformat": 4,
 "nbformat_minor": 4
}

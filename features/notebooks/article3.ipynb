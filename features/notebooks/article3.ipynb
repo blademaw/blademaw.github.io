{
 "cells": [
  {
   "cell_type": "code",
   "execution_count": 1,
   "metadata": {
    "scrolled": true
   },
   "outputs": [
    {
     "name": "stdout",
     "output_type": "stream",
     "text": [
      "Populating the interactive namespace from numpy and matplotlib\n"
     ]
    }
   ],
   "source": [
    "%pylab inline"
   ]
  },
  {
   "cell_type": "code",
   "execution_count": 2,
   "metadata": {},
   "outputs": [],
   "source": [
    "import pandas as pd\n",
    "import altair as alt\n",
    "from numba import jit\n",
    "from matplotlib.lines import Line2D\n",
    "matplotlib.rcParams['figure.dpi'] = 75"
   ]
  },
  {
   "cell_type": "markdown",
   "metadata": {},
   "source": [
    "While I have obtained permission to use the question publicly, I have slightly altered and reworded the problem. All credit for the question is attributed to the wonderful [Prof. Julián García](https://research.monash.edu/en/persons/julian-garcia-gallego). Here it is:\n",
    "\n",
    "> Say we have a game with three players: $A$, $B$, $C$.   \n",
    "Starting with $A$, each player rolls an $n$-sided die once and then passes the die to the next player.  \n",
    "The first player to roll a $1$ wins the game.  \n",
    "For example, if $B$ wins on the second round, the sequence would be: $A, B, C, A, B$.  \n",
    "<br/>What is the probability of each player winning?\n",
    "\n",
    "Not necessarily a difficult problem, and I encourage you to have a go — but it is fun to play around with."
   ]
  },
  {
   "cell_type": "markdown",
   "metadata": {},
   "source": [
    "## Analytical solution #1 — Direct\n",
    "\n",
    "First, let's take a moment to ponder what the result _should_ look like. By intuition, if we note that this is a cyclic game of chance, it would make sense to say that those who take turns before others naturally have an advantage. Since $A$ goes before $B$ and $B$ goes before $C$, it stands to reason that $\\mathbb{P}(A \\text{ wins}) \\gt \\mathbb{P}(B \\text{ wins}) \\gt \\mathbb{P}(C \\text{ wins})$ might be true. We'll keep this in mind moving forward as a sanity check.\n",
    "\n",
    "We can start by visualizing a game:\n",
    "$$\\begin{matrix} \\text{turn } t & 1 & 2 & 3 & 4 & 5 & 6 & 7 & \\space \\\\ \\text{player} & A & B & C & A & B & C & A & \\dots \\end{matrix}$$\n",
    "With $t$ denoting a turn, a 'round' denoting a set of three turns beginning with $A$, and $\\mathbb{P}(X)$ denoting the probability of player $X$ winning the game.\n",
    "\n",
    "It's worth stating that players can win at multiple $t$, meaning we're going to be dealing with a sum. For example, for $A$ to win, a $1$ could be rolled on the first turn ($t=1$), with probability $\\frac{1}{n}$. \n",
    "\n",
    "Alternatively, $A$ could win during the second round at $t=4$. For this to happen, the first three turns must **not result in a win** (i.e., not roll a $1$), and _then_ $A$ must roll a $1$. This occurs with probability $$\\frac{n-1}{n}\\cdot\\frac{n-1}{n}\\cdot\\frac{n-1}{n}\\cdot\\frac{1}{n} = \\left(\\frac{n-1}{n}\\right)^3 \\cdot \\frac{1}{n}$$\n",
    "\n",
    "$A$ could also win at $t=7$ or $t=10$ or $t=13$ or et cetera. It's pretty clear where this is heading. We can express this as\n",
    "\n",
    "$$P(A)=\\left(\\frac{1}{n}\\right) + \\left(\\left(\\frac{n-1}{n}\\right)^3 \\cdot \\frac{1}{n}\\right) + \\left(\\left(\\frac{n-1}{n}\\right)^6 \\cdot \\frac{1}{n}\\right) + \\dots $$ \n",
    "\n",
    "Note that $A$ can **only win at the start of some new round**, which is some multiple of $3$ turns ($0$ included) followed by rolling a $1$. We must first _lose_ some number of rounds _and then win one_. The probability of $A$ winning at some round $k$ where we index $k$ starting at zero ($k\\in\\{0,1,2,\\dots\\}$) is thus:\n",
    "$$\\mathbb{P}(A_k) = \\left(\\frac{n-1}{n}\\right)^{3k} \\cdot \\frac{1}{n}$$\n",
    "\n",
    "_Theoretically,_ these games could last for a long time (i.e., an arbitrarily large amount of rounds). So, we need to account for every possible $k$ producing a nonzero value in $\\mathbb{P}(A_k)$. We can call this $\\mathcal{K}$. To obtain $\\mathbb{P}(A)$, we need to therefore sum over each $k\\in\\mathcal{K}$, or every round in the support of $\\mathbb{P}(A_k)$, leaving us with\n",
    "\n",
    "$$\\mathbb{P}(A) = \\sum_{k\\in\\mathcal{K}}\\left(\\left(\\frac{n-1}{n}\\right)^{3k} \\cdot \\frac{1}{n}\\right)$$\n",
    "\n",
    "Since there is a nonzero probability of terminating at an arbitrarily large round, we can equivalently write:\n",
    "\n",
    "$$\\mathbb{P}(A) = \\sum_{k=0}^\\infty\\left(\\left(\\frac{n-1}{n}\\right)^{3k} \\cdot \\frac{1}{n}\\right)$$\n",
    "\n",
    "For $\\mathbb{P}(B)$, $\\mathbb{P}(C)$, the win condition is essentially identical to $\\mathbb{P}(A)$, just shifted either one or two turns to the right for $B$ and $C$ respectively. In other words, for any winning round $k$, $B$'s number of losses is $t=3k+1$, and $C$'s is $t=3k+2$. Now we have our analytical probabilities:\n",
    "\n",
    "$$\n",
    "\\begin{align}\n",
    "\\mathbb{P}(A) &= \\sum_{k=0}^{\\infty}{\\left(\\left(\\frac{n-1}{n}\\right)^{3k}\\cdot\\frac{1}{n}\\right)} \\\\\n",
    "\\mathbb{P}(B) &= \\sum_{k=0}^{\\infty}{\\left(\\left(\\frac{n-1}{n}\\right)^{3k+1}\\cdot\\frac{1}{n}\\right)} \\\\\n",
    "\\mathbb{P}(C) &= \\sum_{k=0}^{\\infty}{\\left(\\left(\\frac{n-1}{n}\\right)^{3k+2}\\cdot\\frac{1}{n}\\right)} \n",
    "\\end{align}\n",
    "$$"
   ]
  },
  {
   "cell_type": "markdown",
   "metadata": {},
   "source": [
    "While these sums look intimidating, they can actually be converted to closed-form solutions rather easily. This is because each sum is just a bloated geometric series.\n",
    "\n",
    "If we let $\\alpha=\\left(\\frac{n-1}{n}\\right)$ and $\\beta=\\frac{1}{n}$, then we can rewrite\n",
    "\n",
    "$$ \\mathbb{P}(A) = \\sum_{k=0}^{\\infty}\\left[\\left(\\frac{n-1}{n}\\right)^{3k}\\cdot\\frac{1}{n}\\right] = \\sum_{k=0}^\\infty\\left(\\alpha^{3k}\\cdot\\beta\\right) = \\beta\\sum_{k=0}^\\infty \\alpha^{3k} $$\n",
    "\n",
    "Keeping in mind $n$ (and thus $\\beta$) is a constant, we're now only concerned with $\\sum_{k=0}^\\infty \\alpha^{3k} $.\n",
    "\n",
    "The sum $S$ of an infinite geometric series is given by $$ S = \\frac{a_0}{(1-r)} $$ where $a_0$ is the first term of the series and $r$ is the common ratio.\n",
    "\n",
    "The first term is just\n",
    "\n",
    "$$ a_0 = \\left(\\frac{n-1}{n}\\right)^{3(0)} = 1 $$\n",
    "\n",
    "and the common ratio is\n",
    "\n",
    "$$ r = \\frac{a_1}{a_0} = a_1 = \\frac{(n-1)^3}{n^3} $$\n",
    "\n",
    "So we can easily solve for $S$ as below:\n",
    "\n",
    "$$\n",
    "\\begin{align}\n",
    "S = \\frac{a_0}{(1-r)} &= \\frac{1}{\\left(1-\\frac{(n-1)^3}{n^3}\\right)} \\\\\n",
    "&= \\frac{n^3}{n^3 - (n-1)^3} \\\\\n",
    "&= \\frac{n^3}{3n^2 - 3n + 1}\n",
    "\\end{align}\n",
    "$$\n",
    "\n",
    "And recall that\n",
    "\n",
    "$$ \\mathbb{P}(A) = \\beta\\sum_{k=0}^\\infty \\alpha^{3k} $$\n",
    "\n",
    "and thus\n",
    "\n",
    "$$ \\mathbb{P}(A) = \\frac{n^2}{3n^2 - 3n + 1} $$"
   ]
  },
  {
   "cell_type": "markdown",
   "metadata": {},
   "source": [
    "We can similarly compute the closed-form summation for other players to find\n",
    "\n",
    "$$\n",
    "\\begin{align}\n",
    "\\mathbb{P}(B) &= \\frac{n(n-1)}{3n^2 - 3n + 1} \\\\\n",
    "\\mathbb{P}(C) &= \\frac{(n-1)^2}{3n^2 - 3n + 1} \n",
    "\\end{align}\n",
    "$$\n",
    "\n",
    "You'll notice that all solutions have the same denominator, as a result of their similarity of forms as sums. This is also where we can conduct our sanity check from the beginning:\n",
    "\n",
    "$$ \\mathbb{P}(A) \\stackrel{?}{\\gt} \\mathbb{P}(B) \\stackrel{?}{\\gt} \\mathbb{P}(C) $$\n",
    "\n",
    "And if we look at our results, we can see that \n",
    "\n",
    "$$ n^2 \\gt n(n-1) \\gt (n-1)^2 $$\n",
    "for $n>1$, so we can be a little more confident in our answer."
   ]
  },
  {
   "cell_type": "markdown",
   "metadata": {},
   "source": [
    "## Analyzing the game\n",
    "\n",
    "Now we have the three functions, let's figure out the probabilities for each player for a regular $6$-sided die. Evaluating each function, we find that:\n",
    "\n",
    "$$\n",
    "\\begin{align}\n",
    "\\mathbb{P}(A) &\\approx 0.396 \\\\\n",
    "\\mathbb{P}(B) &\\approx 0.330 \\\\\n",
    "\\mathbb{P}(C) &\\approx 0.275\n",
    "\\end{align}\n",
    "$$\n",
    "\n",
    "So compared to $A$, $B$ is approximately $6.6\\%$ less likely to win, and $C$ around $12.1\\%$.\n",
    "\n",
    "So we've sort of answered the question at hand, but we haven't played with $n$ (faces on the die) yet, which is a parameter we can control. Let's see how the probabilities of each player winning change as we manipulate $n$.\n",
    "\n",
    "We can start by calculating the probabilities for $2\\le n \\le 24$:"
   ]
  },
  {
   "cell_type": "code",
   "execution_count": 3,
   "metadata": {},
   "outputs": [],
   "source": [
    "n_arr = np.arange(2, 25, 1)\n",
    "n_denom = lambda b: 3*b**2 - 3*b + 1\n",
    "p_arr = [[f(n)/n_denom(n) for n in n_arr] for f in [lambda a: a**2,\n",
    "                                                    lambda a: a*(a-1),\n",
    "                                                    lambda a: (a-1)**2]]\n",
    "p_char = [\"A\", \"B\", \"C\"]"
   ]
  },
  {
   "cell_type": "markdown",
   "metadata": {},
   "source": [
    "And then plot how the win rates differ:"
   ]
  },
  {
   "cell_type": "code",
   "execution_count": 4,
   "metadata": {},
   "outputs": [
    {
     "data": {
      "text/html": [
       "\n",
       "<div id=\"altair-viz-995381edda1f44f9bf2810bd61332f3c\"></div>\n",
       "<script type=\"text/javascript\">\n",
       "  (function(spec, embedOpt){\n",
       "    let outputDiv = document.currentScript.previousElementSibling;\n",
       "    if (outputDiv.id !== \"altair-viz-995381edda1f44f9bf2810bd61332f3c\") {\n",
       "      outputDiv = document.getElementById(\"altair-viz-995381edda1f44f9bf2810bd61332f3c\");\n",
       "    }\n",
       "    const paths = {\n",
       "      \"vega\": \"https://cdn.jsdelivr.net/npm//vega@5?noext\",\n",
       "      \"vega-lib\": \"https://cdn.jsdelivr.net/npm//vega-lib?noext\",\n",
       "      \"vega-lite\": \"https://cdn.jsdelivr.net/npm//vega-lite@4.8.1?noext\",\n",
       "      \"vega-embed\": \"https://cdn.jsdelivr.net/npm//vega-embed@6?noext\",\n",
       "    };\n",
       "\n",
       "    function loadScript(lib) {\n",
       "      return new Promise(function(resolve, reject) {\n",
       "        var s = document.createElement('script');\n",
       "        s.src = paths[lib];\n",
       "        s.async = true;\n",
       "        s.onload = () => resolve(paths[lib]);\n",
       "        s.onerror = () => reject(`Error loading script: ${paths[lib]}`);\n",
       "        document.getElementsByTagName(\"head\")[0].appendChild(s);\n",
       "      });\n",
       "    }\n",
       "\n",
       "    function showError(err) {\n",
       "      outputDiv.innerHTML = `<div class=\"error\" style=\"color:red;\">${err}</div>`;\n",
       "      throw err;\n",
       "    }\n",
       "\n",
       "    function displayChart(vegaEmbed) {\n",
       "      vegaEmbed(outputDiv, spec, embedOpt)\n",
       "        .catch(err => showError(`Javascript Error: ${err.message}<br>This usually means there's a typo in your chart specification. See the javascript console for the full traceback.`));\n",
       "    }\n",
       "\n",
       "    if(typeof define === \"function\" && define.amd) {\n",
       "      requirejs.config({paths});\n",
       "      require([\"vega-embed\"], displayChart, err => showError(`Error loading script: ${err.message}`));\n",
       "    } else if (typeof vegaEmbed === \"function\") {\n",
       "      displayChart(vegaEmbed);\n",
       "    } else {\n",
       "      loadScript(\"vega\")\n",
       "        .then(() => loadScript(\"vega-lite\"))\n",
       "        .then(() => loadScript(\"vega-embed\"))\n",
       "        .catch(showError)\n",
       "        .then(() => displayChart(vegaEmbed));\n",
       "    }\n",
       "  })({\"config\": {\"view\": {\"continuousWidth\": 400, \"continuousHeight\": 300}}, \"layer\": [{\"mark\": \"line\", \"encoding\": {\"color\": {\"type\": \"nominal\", \"field\": \"player\", \"legend\": {\"direction\": \"horizontal\", \"orient\": \"top\"}, \"title\": \"Player\"}, \"x\": {\"type\": \"quantitative\", \"field\": \"n\", \"scale\": {\"domain\": [2, 25]}, \"title\": \"n\"}, \"y\": {\"type\": \"quantitative\", \"field\": \"prob\", \"title\": \"P(X)\"}}}, {\"mark\": \"point\", \"encoding\": {\"opacity\": {\"value\": 0}, \"x\": {\"type\": \"quantitative\", \"field\": \"n\"}}, \"selection\": {\"selector001\": {\"type\": \"single\", \"nearest\": true, \"on\": \"mouseover\", \"fields\": [\"n\"], \"empty\": \"none\"}}}, {\"mark\": \"point\", \"encoding\": {\"color\": {\"type\": \"nominal\", \"field\": \"player\", \"legend\": {\"direction\": \"horizontal\", \"orient\": \"top\"}, \"title\": \"Player\"}, \"opacity\": {\"condition\": {\"value\": 1, \"selection\": \"selector001\"}, \"value\": 0}, \"x\": {\"type\": \"quantitative\", \"field\": \"n\", \"scale\": {\"domain\": [2, 25]}, \"title\": \"n\"}, \"y\": {\"type\": \"quantitative\", \"field\": \"prob\", \"title\": \"P(X)\"}}}, {\"mark\": {\"type\": \"rule\", \"color\": \"gray\"}, \"encoding\": {\"x\": {\"type\": \"quantitative\", \"field\": \"n\"}}, \"transform\": [{\"filter\": {\"selection\": \"selector001\"}}]}, {\"mark\": {\"type\": \"text\", \"align\": \"left\", \"dx\": 5, \"dy\": -5}, \"encoding\": {\"color\": {\"type\": \"nominal\", \"field\": \"player\", \"legend\": {\"direction\": \"horizontal\", \"orient\": \"top\"}, \"title\": \"Player\"}, \"text\": {\"condition\": {\"type\": \"quantitative\", \"field\": \"probround\", \"selection\": \"selector001\"}, \"value\": \" \"}, \"x\": {\"type\": \"quantitative\", \"field\": \"n\", \"scale\": {\"domain\": [2, 25]}, \"title\": \"n\"}, \"y\": {\"type\": \"quantitative\", \"field\": \"prob\", \"title\": \"P(X)\"}}}], \"data\": {\"name\": \"data-85afe9a6b255eb67f532a1801ae9146d\"}, \"height\": 250, \"width\": 450, \"$schema\": \"https://vega.github.io/schema/vega-lite/v4.8.1.json\", \"datasets\": {\"data-85afe9a6b255eb67f532a1801ae9146d\": [{\"n\": 2, \"player\": \"A\", \"prob\": 0.5714285714285714, \"probround\": 0.57}, {\"n\": 3, \"player\": \"A\", \"prob\": 0.47368421052631576, \"probround\": 0.47}, {\"n\": 4, \"player\": \"A\", \"prob\": 0.43243243243243246, \"probround\": 0.43}, {\"n\": 5, \"player\": \"A\", \"prob\": 0.4098360655737705, \"probround\": 0.41}, {\"n\": 6, \"player\": \"A\", \"prob\": 0.3956043956043956, \"probround\": 0.4}, {\"n\": 7, \"player\": \"A\", \"prob\": 0.3858267716535433, \"probround\": 0.39}, {\"n\": 8, \"player\": \"A\", \"prob\": 0.378698224852071, \"probround\": 0.38}, {\"n\": 9, \"player\": \"A\", \"prob\": 0.37327188940092165, \"probround\": 0.37}, {\"n\": 10, \"player\": \"A\", \"prob\": 0.36900369003690037, \"probround\": 0.37}, {\"n\": 11, \"player\": \"A\", \"prob\": 0.36555891238670696, \"probround\": 0.37}, {\"n\": 12, \"player\": \"A\", \"prob\": 0.36272040302267, \"probround\": 0.36}, {\"n\": 13, \"player\": \"A\", \"prob\": 0.3603411513859275, \"probround\": 0.36}, {\"n\": 14, \"player\": \"A\", \"prob\": 0.3583180987202925, \"probround\": 0.36}, {\"n\": 15, \"player\": \"A\", \"prob\": 0.35657686212361334, \"probround\": 0.36}, {\"n\": 16, \"player\": \"A\", \"prob\": 0.3550624133148405, \"probround\": 0.36}, {\"n\": 17, \"player\": \"A\", \"prob\": 0.3537331701346389, \"probround\": 0.35}, {\"n\": 18, \"player\": \"A\", \"prob\": 0.352557127312296, \"probround\": 0.35}, {\"n\": 19, \"player\": \"A\", \"prob\": 0.35150925024342744, \"probround\": 0.35}, {\"n\": 20, \"player\": \"A\", \"prob\": 0.35056967572305, \"probround\": 0.35}, {\"n\": 21, \"player\": \"A\", \"prob\": 0.34972244250594764, \"probround\": 0.35}, {\"n\": 22, \"player\": \"A\", \"prob\": 0.34895457822638787, \"probround\": 0.35}, {\"n\": 23, \"player\": \"A\", \"prob\": 0.34825543120473995, \"probround\": 0.35}, {\"n\": 24, \"player\": \"A\", \"prob\": 0.3476161738080869, \"probround\": 0.35}, {\"n\": 2, \"player\": \"B\", \"prob\": 0.2857142857142857, \"probround\": 0.29}, {\"n\": 3, \"player\": \"B\", \"prob\": 0.3157894736842105, \"probround\": 0.32}, {\"n\": 4, \"player\": \"B\", \"prob\": 0.32432432432432434, \"probround\": 0.32}, {\"n\": 5, \"player\": \"B\", \"prob\": 0.32786885245901637, \"probround\": 0.33}, {\"n\": 6, \"player\": \"B\", \"prob\": 0.32967032967032966, \"probround\": 0.33}, {\"n\": 7, \"player\": \"B\", \"prob\": 0.33070866141732286, \"probround\": 0.33}, {\"n\": 8, \"player\": \"B\", \"prob\": 0.33136094674556216, \"probround\": 0.33}, {\"n\": 9, \"player\": \"B\", \"prob\": 0.3317972350230415, \"probround\": 0.33}, {\"n\": 10, \"player\": \"B\", \"prob\": 0.33210332103321033, \"probround\": 0.33}, {\"n\": 11, \"player\": \"B\", \"prob\": 0.3323262839879154, \"probround\": 0.33}, {\"n\": 12, \"player\": \"B\", \"prob\": 0.33249370277078083, \"probround\": 0.33}, {\"n\": 13, \"player\": \"B\", \"prob\": 0.3326226012793177, \"probround\": 0.33}, {\"n\": 14, \"player\": \"B\", \"prob\": 0.3327239488117002, \"probround\": 0.33}, {\"n\": 15, \"player\": \"B\", \"prob\": 0.3328050713153724, \"probround\": 0.33}, {\"n\": 16, \"player\": \"B\", \"prob\": 0.332871012482663, \"probround\": 0.33}, {\"n\": 17, \"player\": \"B\", \"prob\": 0.3329253365973072, \"probround\": 0.33}, {\"n\": 18, \"player\": \"B\", \"prob\": 0.33297062023939067, \"probround\": 0.33}, {\"n\": 19, \"player\": \"B\", \"prob\": 0.3330087633885102, \"probround\": 0.33}, {\"n\": 20, \"player\": \"B\", \"prob\": 0.33304119193689746, \"probround\": 0.33}, {\"n\": 21, \"player\": \"B\", \"prob\": 0.3330689928628073, \"probround\": 0.33}, {\"n\": 22, \"player\": \"B\", \"prob\": 0.3330930064888248, \"probround\": 0.33}, {\"n\": 23, \"player\": \"B\", \"prob\": 0.33311389071757735, \"probround\": 0.33}, {\"n\": 24, \"player\": \"B\", \"prob\": 0.3331321665660833, \"probround\": 0.33}, {\"n\": 2, \"player\": \"C\", \"prob\": 0.14285714285714285, \"probround\": 0.14}, {\"n\": 3, \"player\": \"C\", \"prob\": 0.21052631578947367, \"probround\": 0.21}, {\"n\": 4, \"player\": \"C\", \"prob\": 0.24324324324324326, \"probround\": 0.24}, {\"n\": 5, \"player\": \"C\", \"prob\": 0.26229508196721313, \"probround\": 0.26}, {\"n\": 6, \"player\": \"C\", \"prob\": 0.27472527472527475, \"probround\": 0.27}, {\"n\": 7, \"player\": \"C\", \"prob\": 0.28346456692913385, \"probround\": 0.28}, {\"n\": 8, \"player\": \"C\", \"prob\": 0.28994082840236685, \"probround\": 0.29}, {\"n\": 9, \"player\": \"C\", \"prob\": 0.29493087557603687, \"probround\": 0.29}, {\"n\": 10, \"player\": \"C\", \"prob\": 0.2988929889298893, \"probround\": 0.3}, {\"n\": 11, \"player\": \"C\", \"prob\": 0.3021148036253776, \"probround\": 0.3}, {\"n\": 12, \"player\": \"C\", \"prob\": 0.3047858942065491, \"probround\": 0.3}, {\"n\": 13, \"player\": \"C\", \"prob\": 0.3070362473347548, \"probround\": 0.31}, {\"n\": 14, \"player\": \"C\", \"prob\": 0.30895795246800734, \"probround\": 0.31}, {\"n\": 15, \"player\": \"C\", \"prob\": 0.31061806656101426, \"probround\": 0.31}, {\"n\": 16, \"player\": \"C\", \"prob\": 0.3120665742024965, \"probround\": 0.31}, {\"n\": 17, \"player\": \"C\", \"prob\": 0.31334149326805383, \"probround\": 0.31}, {\"n\": 18, \"player\": \"C\", \"prob\": 0.3144722524483134, \"probround\": 0.31}, {\"n\": 19, \"player\": \"C\", \"prob\": 0.3154819863680623, \"probround\": 0.32}, {\"n\": 20, \"player\": \"C\", \"prob\": 0.31638913234005256, \"probround\": 0.32}, {\"n\": 21, \"player\": \"C\", \"prob\": 0.317208564631245, \"probround\": 0.32}, {\"n\": 22, \"player\": \"C\", \"prob\": 0.3179524152847873, \"probround\": 0.32}, {\"n\": 23, \"player\": \"C\", \"prob\": 0.3186306780776827, \"probround\": 0.32}, {\"n\": 24, \"player\": \"C\", \"prob\": 0.3192516596258298, \"probround\": 0.32}]}}, {\"mode\": \"vega-lite\"});\n",
       "</script>"
      ],
      "text/plain": [
       "alt.LayerChart(...)"
      ]
     },
     "execution_count": 4,
     "metadata": {},
     "output_type": "execute_result"
    }
   ],
   "source": [
    "# <!-- collapse=True -->\n",
    "\n",
    "df = pd.DataFrame(data={f'{p_char[i]}': p_arr[i] for i in (0, 1, 2)})\n",
    "df['n'] = n_arr\n",
    "df = df.reset_index(drop=True).melt('n', var_name='player', value_name='prob')\n",
    "df['probround'] = df['prob'].map(lambda x: np.round(x, 2))\n",
    "\n",
    "nearest = alt.selection(type='single', nearest=True, on='mouseover',\n",
    "                        fields=['n'], empty='none')\n",
    "\n",
    "selectors = alt.Chart(df).mark_point().encode(\n",
    "    x='n:Q',\n",
    "    opacity=alt.value(0),\n",
    ").add_selection(\n",
    "    nearest\n",
    ")\n",
    "\n",
    "line = alt.Chart(df).mark_line().encode(\n",
    "    alt.X(\"n:Q\", title=\"n\", scale=alt.Scale(domain=(2, 25))),\n",
    "    alt.Y(\"prob:Q\", title=\"P(X)\"),\n",
    "    alt.Color(\"player:N\", title=\"Player\", legend=alt.Legend(direction=\"horizontal\", orient=\"top\"))\n",
    ")\n",
    "\n",
    "points = line.mark_point().encode(\n",
    "    opacity=alt.condition(nearest, alt.value(1), alt.value(0))\n",
    ")\n",
    "\n",
    "text = line.mark_text(align='left', dx=5, dy=-5).encode(\n",
    "    text=alt.condition(nearest, 'probround:Q', alt.value(' '))\n",
    ")\n",
    "\n",
    "rules = alt.Chart(df).mark_rule(color='gray').encode(\n",
    "    x='n:Q',\n",
    ").transform_filter(\n",
    "    nearest\n",
    ")\n",
    "\n",
    "alt.layer(\n",
    "    line, selectors, points, rules, text\n",
    ").properties(\n",
    "    width=450, height=250\n",
    ")\n",
    "\n",
    "# <end collapse>"
   ]
  },
  {
   "cell_type": "markdown",
   "metadata": {},
   "source": [
    "Which shows us that as $n\\to\\infty$, $\\mathbb{P}(A)$, $\\mathbb{P}(B)$, and $\\mathbb{P}(C)$ seem to be converging to equal values. In fact, we can show that\n",
    "\n",
    "$$\n",
    "\\lim_{n\\to\\infty}\\left\\{ \\frac{n^2}{n^3-(n-1)^3} \\right\\} = \n",
    "\\lim_{n\\to\\infty}\\left\\{ \\frac{n(n-1)}{n^3-(n-1)^3} \\right\\} = \n",
    "\\lim_{n\\to\\infty}\\left\\{ \\frac{(n-1)^2}{n^3-(n-1)^3} \\right\\} = \\frac{1}{3} \n",
    "$$\n",
    "by some algebra and L'Hôpital's rule.\n",
    "\n",
    "In other words, with an arbitrarily large amount of faces on a die, we produce a fair game.\n",
    "\n",
    "And the fun part is, this is actually quite explainable: with fewer number of sides on a die (small $n$), the probability of rolling a $1$ is not too rare (say, $\\frac{1}{6}$ for a normal die). Naturally, this means whoever rolls first also has a _higher chance of rolling the $1$ first_ (note that for smaller $n$, $\\frac{1}{n}\\gt \\left(\\frac{n-1}{n}\\right)^k \\cdot \\frac{1}{n}$ for $k\\ge1$). This is why $A$ has an advantage for smaller $n$.\n",
    "\n",
    "However, as the number of sides on the die increases, rolling a $1$ **on the first try** or **at all** becomes a lot more rare. So, the probability gets spread thin across all three players, and approaches a uniform distribution such that in the long run, $\\mathbb{P}(A) = \\mathbb{P}(B) = \\mathbb{P}(C)$.\n",
    "\n",
    "Another interesting observation is that as $n$ grows, $\\mathbb{P}(B)$ does not change as drastically as $\\mathbb{P}(C)$, which itself does not change as drastically as $\\mathbb{P}(A)$. Rather, the probability shifts from $A$ to $C$, with $B$ acting almost like a 'channel' of probability flow. An intuitive but informal way to frame this is that $A$ holds the biggest advantage and $C$ holds the biggest **dis**advantage, whereas $B$ is more neutral as the middle player, so its gains of an increased $n$ are marginal by comparison."
   ]
  },
  {
   "cell_type": "markdown",
   "metadata": {},
   "source": [
    "## Analytical solution #2 — Markov chain\n",
    "\n",
    "This section covers another analytical approach to the problem — and while I think it's another intuitive pathway to a solution, feel free to skip to the [the simulation method](#Simulation-method) if you're uninterested.\n",
    "\n",
    "You may have noticed the game can be framed as a [Markov chain](https://en.m.wikipedia.org/wiki/Markov_chain), like so:\n",
    "\n",
    "<figure class=\"styled\"><img class=\"styled\" src=\"/images/markov_abc.png\" width=\"414\" height=\"300\" title=\"The Markov process for the game at hand\" alt=\"The Markov process for the game at hand\"><figcaption>The Markov chain for our game.</figcaption></figure>"
   ]
  },
  {
   "cell_type": "markdown",
   "metadata": {},
   "source": [
    "Of course, the stochastic process only encompasses our game if we begin the process with player $A$, or at state $A$ (but not really, because the states are arbitrary names, with equal probabilities — more on this later). A 'win' state $W$ has been added to the chain to signify someone has rolled a $1$. Personally, the above graphic makes the game a touch easier to understand, and actually feels a little more natural to visualize, compared to the direct approach.\n",
    "\n",
    "If you're unfamiliar with Markov chains, just imagine a process where with each increase in $t$, given that you're in one state (or 'node'), you must transition to any connected state in the next turn ($t+1$) with an associated probability. These probabilities and states can be described by a non-graphic representation called the [transition matrix](https://en.m.wikipedia.org/wiki/Stochastic_matrix) $\\mathbf{P}$, which is essentially a collection of probability distributions regarding transitions to the state at turn $t+1$, given a current state at turn $t$.\n",
    "\n",
    "You may also notice that this is an [absorbing](https://en.m.wikipedia.org/wiki/Absorbing_Markov_chain) Markov chain, meaning every state (or every player) can reach an 'absorbing' state, in this case $W$. It's called an _absorbing_ state because it has a probability of $1$ to transition _to itself_, here we're interpreting the absorption as a win condition."
   ]
  },
  {
   "cell_type": "markdown",
   "metadata": {},
   "source": [
    "We can employ some commonly used methods for long-term behavior of an absorbing Markov chain to try to find our probabilities. Reusing variables $\\alpha$ and $\\beta$ from before, we can describe the transition matrix as\n",
    "\n",
    "$$\n",
    "\\mathbf{P} = \n",
    "\\begin{array}{ c | c c c c }\n",
    "  & A & B & C & W \\\\\n",
    "  \\hline\n",
    "A & 0 & \\alpha & 0 & \\beta \\\\\n",
    "B & 0 & 0 & \\alpha & \\beta \\\\\n",
    "C & \\alpha & 0 & 0 & \\beta \\\\\n",
    "W & 0 & 0 & 0 & 1\n",
    "\\end{array}\n",
    "$$\n",
    "\n",
    "Such that $\\mathbf{P}_{ij}$ (the $i$-th row and $j$-th column of $\\mathbf{P}$) denotes the probability of transition from state $i$ to state $j$.\n",
    "\n",
    "We can then arrange $\\mathbf{P}$ to be in what is known as [canonical form](https://en.m.wikipedia.org/wiki/Absorbing_Markov_chain#Canonical_form), where the matrix is arranged such that it can be sectioned into the following form:\n",
    "\n",
    "$$\n",
    "\\mathbf{P} = \n",
    "\\left(\n",
    "\\begin{array}{ c | c }\n",
    "\\mathbf{Q} & \\mathbf{R} \\\\\n",
    "\\hline\n",
    "\\mathbf{0} & \\mathbf{I}\n",
    "\\end{array}\n",
    "\\right)\n",
    "$$\n",
    "\n",
    "Such that $\\mathbf{Q}$ is the matrix denoting transitions between only transient (non-absorbing) states, $\\mathbf{R}$ is the matrix denoting transitions between transient states to absorbing states, and $\\mathbf{I}$ is the identity matrix. If we look at our above matrix for the specified problem, it is actually already in this configuration, so we don't need to re-organise it.\n",
    "\n",
    "Using the canonical form, we can compute what is called the [fundamental matrix](https://en.m.wikipedia.org/wiki/Absorbing_Markov_chain#Fundamental_matrix) $\\mathbf{N}$, in which each entry $\\mathbf{N}_{ij}$ tells us the **expected number of visits** to a transient state $j$ starting from state $i$ **before** absorption. The fundamental matrix is actually a matrix of a geometric series (but with a closed-form solution), so in a sense I'm cheating by considering this a 'different' approach, but the method is entertaining nonetheless.\n",
    "\n",
    "The fundamental matrix is given by $\\mathbf{N}=(\\mathbf{I}-\\mathbf{Q})^{-1}$, so we can compute it as follows:"
   ]
  },
  {
   "cell_type": "markdown",
   "metadata": {},
   "source": [
    "$$\n",
    "\\begin{align}\n",
    "\\mathbf{N} &= \n",
    "\\left[\\left(\n",
    "\\begin{matrix}\n",
    "1 & 0 & 0 \\\\\n",
    "0 & 1 & 0 \\\\\n",
    "0 & 0 & 1\n",
    "\\end{matrix}\n",
    "\\right) - \\left(\n",
    "\\begin{matrix}\n",
    "0 & \\alpha & 0 \\\\\n",
    "0 & 0 & \\alpha \\\\\n",
    "\\alpha & 0 & 0\n",
    "\\end{matrix}\n",
    "\\right)\n",
    "\\right]^{-1} \\\\\n",
    "&= \\left(\n",
    "\\begin{matrix}\n",
    "1 & -\\alpha & 0 \\\\\n",
    "0 & 1 & -\\alpha \\\\\n",
    "-\\alpha & 0 & 1\n",
    "\\end{matrix}\n",
    "\\right)^{-1}\n",
    "\\end{align}\n",
    "$$\n",
    "\n",
    "Which is solvable via the Gauss-Jordan algorithm\n",
    "\n",
    "$$\n",
    "\\begin{align}\n",
    "&\\left(\n",
    "\\begin{array}{c c c | c c c}\n",
    "1 & -\\alpha & 0 & 1 & 0 & 0 \\\\\n",
    "0 & 1 & -\\alpha & 0 & 1 & 0 \\\\\n",
    "-\\alpha & 0 & 1 & 0 & 0 & 1\n",
    "\\end{array}\n",
    "\\right)\n",
    "\\xrightarrow{R_3\\leftarrow R_3 + \\alpha\\cdot R_1}\n",
    "\\left(\n",
    "\\begin{array}{c c c | c c c}\n",
    "1 & -\\alpha & 0 & 1 & 0 & 0 \\\\\n",
    "0 & 1 & -\\alpha & 0 & 1 & 0 \\\\\n",
    "0 & -\\alpha^2 & 1 & \\alpha & 0 & 1\n",
    "\\end{array}\n",
    "\\right) \\\\\n",
    "\\xrightarrow{R_3\\leftarrow \\alpha^2 R_2 + R_3}\n",
    "&\\left(\n",
    "\\begin{array}{c c c | c c c}\n",
    "1 & -\\alpha & 0 & 1 & 0 & 0 \\\\\n",
    "0 & 1 & -\\alpha & 0 & 1 & 0 \\\\\n",
    "0 & 0 & 1-\\alpha^3 & \\alpha & \\alpha^2 & 1\n",
    "\\end{array}\n",
    "\\right)\\\\\n",
    "\\xrightarrow{\\dots}\n",
    "&\\left(\n",
    "\\begin{array}{c c c | c c c}\n",
    "1 & 0 & 0 & \\frac{1}{1-\\alpha^3} & \\frac{\\alpha}{1-\\alpha^3} & \\frac{\\alpha^2}{1-\\alpha^3} \\\\\n",
    "0 & 1 & 0 & \\frac{\\alpha^2}{1-\\alpha^3} & \\frac{1}{1-\\alpha^3} & \\frac{\\alpha}{1-\\alpha^3} \\\\\n",
    "0 & 0 & 1 & \\frac{\\alpha}{1-\\alpha^3} & \\frac{\\alpha^2}{1-\\alpha^3} & \\frac{1}{1-\\alpha^3}\n",
    "\\end{array}\n",
    "\\right)\n",
    "\\end{align}\n",
    "$$\n",
    "\n",
    "So now we have\n",
    "\n",
    "$$\n",
    "\\mathbf{N}=\n",
    "\\left(\n",
    "\\begin{matrix}\n",
    "\\frac{1}{1-\\alpha^3} & \\frac{\\alpha}{1-\\alpha^3} & \\frac{\\alpha^2}{1-\\alpha^3} \\\\\n",
    "\\frac{\\alpha^2}{1-\\alpha^3} & \\frac{1}{1-\\alpha^3} & \\frac{\\alpha}{1-\\alpha^3} \\\\\n",
    "\\frac{\\alpha}{1-\\alpha^3} & \\frac{\\alpha^2}{1-\\alpha^3} & \\frac{1}{1-\\alpha^3}\n",
    "\\end{matrix}\n",
    "\\right)\n",
    "$$"
   ]
  },
  {
   "cell_type": "markdown",
   "metadata": {},
   "source": [
    "Remember, the interpretation of $\\mathbf{N}_{ij}$ is the expected number of times state $j$ is visited starting in state $i$ before absorption. So, we are actually only interested in information regarding starting in state $A$ (i.e., the top row — but regardless note the shift of the row $1$ pattern in rows $2$ and $3$ to the right, because states have identical probabilities, so it functionally doesn't matter what labelled state we choose to start from.)\n",
    "\n",
    "If we sum the first row, we should attain the **total number of expected states visited** before absorption — or **how long we expect a game to last**. This is given by\n",
    "\n",
    "$$\n",
    "\\begin{align}\n",
    "\\frac{1 + \\alpha + \\alpha^2}{1-\\alpha^3} &= \\frac{1 + \\alpha + \\alpha^2}{-(\\alpha-1)(1 + \\alpha + \\alpha^2)} \\\\\n",
    "&=\\frac{1}{1-\\alpha} \\\\\n",
    "&=\\frac{1}{1-\\frac{n-1}{n}} \\\\\n",
    "&=n\n",
    "\\end{align}\n",
    "$$\n",
    "\n",
    "This is... kind of beautiful. It tells us that with an $n$-sided die, we should expect the average game to last $n$ turns until we roll a $1$.\n",
    "\n",
    "With this information, we can now derive $\\mathbb{P}(A)$, $\\mathbb{P}(B)$, and $\\mathbb{P}(C)$. If we know the **total** expected number of times we visit states in an average game, and we know the number of times we expect to visit an **individual** state, and we note that more time spent in a state means we **win more often** in that state, then the average (or long run) probabilities for each player are simply the proportions of time spent in that state relative to the total time, given that we start in state $A$.\n",
    "\n",
    "I'll leave it to you to do the algebra, but if we normalize each $\\mathbf{N}_{Aj}$ by the total expected number of turns $n$, we achieve:\n",
    "\n",
    "$$\n",
    "\\begin{align}\n",
    "\\mathbb{P}(A) &= \\frac{1}{(1-\\alpha^3)\\cdot n} = \\frac{n^2}{3n^2-3n+1} \\\\\n",
    "\\mathbb{P}(B) &= \\frac{\\alpha}{(1-\\alpha^3)\\cdot n} = \\frac{n(n-1)}{3n^2 - 3n + 1} \\\\\n",
    "\\mathbb{P}(C) &= \\frac{\\alpha^2}{(1-\\alpha^3)\\cdot n} = \\frac{(n-1)^2}{3n^2 - 3n + 1} \n",
    "\\end{align}\n",
    "$$\n",
    "\n",
    "Which is identical to the probabilities obtained in the direct approach."
   ]
  },
  {
   "cell_type": "markdown",
   "metadata": {},
   "source": [
    "## Simulation method\n",
    "\n",
    "Often, we like to back up our analytical approaches with simulation that validates our analytical models. Perhaps the discovery that the average game length is $n$ turns may be cause for a raised eyebrow, or maybe you just don't trust either analytical approach — so we want to simulate the game.\n",
    "\n",
    "We _could_ simulate the Markov chain (MCMC), but this would assume the transition matrix is correct, and because we might want to create an approach indpendent of the analytical one, we'll simulate the entire game instead. Each game with a certain $n$ will be played some number of times, and we'll aggregate the simulated data to approximate the probabilities of winning. This method of simulation is commonly referred to as the [Monte Carlo method](https://en.m.wikipedia.org/wiki/Monte_Carlo_method)."
   ]
  },
  {
   "cell_type": "code",
   "execution_count": 5,
   "metadata": {},
   "outputs": [],
   "source": [
    "@jit(nopython=True)\n",
    "def simulate_abc(num_games, n):\n",
    "    player_arr = np.zeros(3) # track wins per player\n",
    "    game_len = np.zeros(num_games) # track game length\n",
    "    \n",
    "    for game in range(num_games):\n",
    "        won = False\n",
    "        cur_len = 0\n",
    "        \n",
    "        while not won: # while game hasn't been won\n",
    "            for i in range(3):\n",
    "                cur_len += 1\n",
    "                \n",
    "                # if a 1 is rolled, record stats\n",
    "                if np.random.randint(1, n+1) == 1:\n",
    "                    player_arr[i] += 1\n",
    "                    game_len[game] = cur_len\n",
    "                    won = True\n",
    "                    break\n",
    "    \n",
    "    return player_arr/num_games, game_len"
   ]
  },
  {
   "cell_type": "markdown",
   "metadata": {},
   "source": [
    "The above Python code describes the game pretty much verbatim; we repeat simulations for each game by cycling through players until someone rolls a $1$, and record who won the game and in how many turns.\n",
    "\n",
    "Let's try calculating probabilities for $n=6$:"
   ]
  },
  {
   "cell_type": "code",
   "execution_count": 7,
   "metadata": {},
   "outputs": [
    {
     "name": "stdout",
     "output_type": "stream",
     "text": [
      "P(A):\t0.395166\n",
      "P(B):\t0.330025\n",
      "P(C):\t0.274809\n",
      "Avg Len\t6.004328 turns\n"
     ]
    }
   ],
   "source": [
    "probs, lens = simulate_abc(1_000_000, 6)\n",
    "print(\"\\n\".join([f\"P({p_char[i]}):\\t{probs[i]}\" for i in (0, 1, 2)]))\n",
    "print(f\"Avg Len\\t{np.mean(lens)} turns\")"
   ]
  },
  {
   "cell_type": "markdown",
   "metadata": {},
   "source": [
    "With $1\\times 10^6$ simulated games, this is pretty close to the analytical approach — in terms of probabilities and average game length.\n",
    "\n",
    "We can even compare performance to the analytical model as $n$ grows:"
   ]
  },
  {
   "cell_type": "code",
   "execution_count": 11,
   "metadata": {},
   "outputs": [],
   "source": [
    "p_monte = []\n",
    "game_lens = []\n",
    "\n",
    "for n in n_arr:\n",
    "    probs, lens = simulate_abc(1_000_000, n)\n",
    "    p_monte.append(probs)\n",
    "    game_lens += [np.mean(lens)]"
   ]
  },
  {
   "cell_type": "code",
   "execution_count": 50,
   "metadata": {
    "scrolled": false
   },
   "outputs": [
    {
     "data": {
      "image/png": "[encoded data removed]",
      "text/plain": [
       "<Figure size 450x375 with 4 Axes>"
      ]
     },
     "metadata": {},
     "output_type": "display_data"
    },
    {
     "data": {
      "image/png": "[encoded data removed]",
      "text/plain": [
       "<Figure size 450x300 with 1 Axes>"
      ]
     },
     "metadata": {
      "needs_background": "light"
     },
     "output_type": "display_data"
    }
   ],
   "source": [
    "# <!-- collapse=True -->\n",
    "fig, ((ax1, ax2), (ax3, ax4)) = plt.subplots(2, 2, sharex=False)\n",
    "\n",
    "fig.set_figheight(10)\n",
    "fig.set_figheight(5)\n",
    "fig.suptitle(\"Comparison of estimated versus analytical \\n solutions\")\n",
    "\n",
    "ax_arr = [ax1, ax2, ax3, ax4]\n",
    "col_arr = ['red', 'green', 'blue', 'salmon', 'lightgreen', 'blue']\n",
    "    \n",
    "for i in range(3):\n",
    "    cur_ax = ax_arr[i]\n",
    "    cur_ax.plot(n_arr, p_arr[i], color=col_arr[i], lw=2)\n",
    "    cur_ax.plot(n_arr, [p_monte[j][i] for j in range(len(n_arr))], color=col_arr[i+3])\n",
    "    cur_ax.set_title(f\"Player {p_char[i]}\")\n",
    "    \n",
    "    ax_arr[i] = cur_ax\n",
    "\n",
    "ax_arr[1].set_xlabel(\"n\")\n",
    "ax_arr[2].set_xlabel(\"n\")\n",
    "ax_arr[0].set_ylabel(\"P(X)\")\n",
    "ax_arr[2].set_ylabel(\"P(X)\")\n",
    "    \n",
    "ax_arr[3].spines['top'].set_color('none')\n",
    "ax_arr[3].spines['bottom'].set_color('none')\n",
    "ax_arr[3].spines['left'].set_color('none')\n",
    "ax_arr[3].spines['right'].set_color('none')\n",
    "ax_arr[3].tick_params(labelcolor='w', top=False, bottom=False, left=False, right=False)\n",
    "\n",
    "for i, ax in enumerate(fig.get_axes()):\n",
    "    if i!=1: ax.label_outer()\n",
    "custom_lines = [Line2D([0], [0], color=\"black\", lw=2),\n",
    "                Line2D([0], [0], color='grey', lw=2)]\n",
    "fig.legend(custom_lines, [\"Analytic\", \"Simulated\"], bbox_to_anchor=(1.05, 1), loc='upper left')\n",
    "fig.tight_layout()\n",
    "\n",
    "fig = plt.figure()\n",
    "plt.plot(n_arr, n_arr, label = \"Analytic\", color='maroon')\n",
    "plt.plot(n_arr, game_lens, label=\"Simulated\", color='black', linestyle='dashed')\n",
    "plt.title(\"Expected game length\")\n",
    "plt.xlabel(\"n\")\n",
    "plt.ylabel(\"Expected game length\")\n",
    "plt.legend()\n",
    "plt.show()\n",
    "# <end collapse>"
   ]
  },
  {
   "cell_type": "markdown",
   "metadata": {},
   "source": [
    "By eye, the Monte Carlo method proves pretty much indistinguishable from the analytical solution excepting some trouble in $\\mathbb{P}(B)$. This is explained by the change in $\\mathbb{P}(B)$ as $n\\to\\infty$ being much smaller than either $\\mathbb{P}(A)$ or $\\mathbb{P}(C)$ (note the ranges of axes), so the Monte Carlo averages just can't keep up with the level of precision $\\mathbb{P}(B)$ warrants."
   ]
  },
  {
   "cell_type": "markdown",
   "metadata": {},
   "source": [
    "Something important to note is just how **easy** simulating the game was. The Python code is intuitive and simple, and all we had to do was sit back and let the process run to compute our statistics. We calculated empirical probabilities from simulated data and trusted its variance was low because of the sheer number of trials we ran. These are clear advantages of simulation methods. Indeed, if our problem was much more complex or had a significantly more convoluted rule set, perhaps the only feasible way we could analyze the problem would be through simulation.\n",
    "\n",
    "Of course, the tradeoff is: with simulated data and empirical probabilities, we can only **approximate** values and **suspect** properties of the problem; we cannot deduce aspects for certain. Sometimes it is satisfying to prove these properties: for example, how games are expected to last exactly $n$ turns, or the fact that $\\mathbb{P}(A)$, $\\mathbb{P}(B)$, and $\\mathbb{P}(C)$ all approach $\\frac{1}{3}$ as $n\\to\\infty$.\n",
    "\n",
    "This is, of course, just the surface of the discussion on analytical and simulation methods. In practice, a combination of the two is usually preferred to produce a more confident analysis."
   ]
  },
  {
   "cell_type": "markdown",
   "metadata": {},
   "source": [
    "## Summary\n",
    "\n",
    "In this post, I delved _way_ too deep into a <abbr title=\"The class, on average, was more difficult than this problem.\">relatively simple</abbr> probability theory question. I've offered two analytical approaches (out of who knows how many) and one simulation method to approach the same problem, with some discussion.\n",
    "\n",
    "While I recognize the solutions I've employed are neither particularly insightful nor novel, I hope the exploratory factor was at least a little interesting. I also hope that you're now somewhat inspired to try out both simulation and analytical approaches in conjunction the next time you encounter an applicable problem."
   ]
  },
  {
   "cell_type": "code",
   "execution_count": 19,
   "metadata": {},
   "outputs": [
    {
     "name": "stdout",
     "output_type": "stream",
     "text": [
      "P(A):\t0.3956043956043956\n",
      "P(B):\t0.32967032967032966\n",
      "P(C):\t0.27472527472527475\n"
     ]
    }
   ],
   "source": [
    "# in case n=6\n",
    "n = 6\n",
    "a = (n-1)/n\n",
    "b = 1/n\n",
    "\n",
    "denom = 3*n**2 - 3*n + 1\n",
    "\n",
    "print(f\"P(A):\\t{n**2/denom}\\nP(B):\\t{n*(n-1)/denom}\\nP(C):\\t{(n-1)**2/denom}\")"
   ]
  },
  {
   "cell_type": "code",
   "execution_count": 20,
   "metadata": {},
   "outputs": [
    {
     "data": {
      "text/plain": [
       "array([0.3956044 , 0.32967033, 0.27472527])"
      ]
     },
     "execution_count": 20,
     "metadata": {},
     "output_type": "execute_result"
    }
   ],
   "source": [
    "M = np.array([[0, a, 0, b],\n",
    "              [0, 0, a, b],\n",
    "              [a, 0, 0, b],\n",
    "              [0, 0, 0, 1]])\n",
    "\n",
    "# np.linalg.matrix_power(M[:3, :3], 8)\n",
    "Q = M[:3, :3]\n",
    "N = np.linalg.inv((np.eye(3) - Q))\n",
    "R = M[:3, 3:]\n",
    "t = N.dot(np.array([1, 1, 1]))\n",
    "# N[0]/np.max(N[0])\n",
    "N[0]/np.sum(N[0])"
   ]
  }
 ],
 "metadata": {
  "kernelspec": {
   "display_name": "Python 3",
   "language": "python",
   "name": "python3"
  },
  "language_info": {
   "codemirror_mode": {
    "name": "ipython",
    "version": 3
   },
   "file_extension": ".py",
   "mimetype": "text/x-python",
   "name": "python",
   "nbconvert_exporter": "python",
   "pygments_lexer": "ipython3",
   "version": "3.8.5"
  }
 },
 "nbformat": 4,
 "nbformat_minor": 4
}
